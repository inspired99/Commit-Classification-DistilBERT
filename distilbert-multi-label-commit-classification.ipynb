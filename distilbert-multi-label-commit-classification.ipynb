{
 "cells": [
  {
   "cell_type": "markdown",
   "id": "fe2c4288",
   "metadata": {
    "papermill": {
     "duration": 0.015942,
     "end_time": "2022-10-29T19:42:40.870878",
     "exception": false,
     "start_time": "2022-10-29T19:42:40.854936",
     "status": "completed"
    },
    "tags": []
   },
   "source": [
    "## Introduction"
   ]
  },
  {
   "cell_type": "markdown",
   "id": "add7e72b",
   "metadata": {
    "papermill": {
     "duration": 0.013625,
     "end_time": "2022-10-29T19:42:40.898585",
     "exception": false,
     "start_time": "2022-10-29T19:42:40.884960",
     "status": "completed"
    },
    "tags": []
   },
   "source": [
    "The notebook is based on the article  [*Multi-label Classification of Commit Messages Using Transfer Learning*](https://www.researchgate.net/profile/Mohamed-Wiem-Mkaouer-2/publication/348228961_Multi-label_Classification_of_Commit_Messages_using_Transfer_Learning/links/61eacfc2c5e3103375ae596d/Multi-label-Classification-of-Commit-Messages-using-Transfer-Learning.pdf)\n",
    "\n",
    "The task is to classify commit messages into 3 categories (labels), but each commit message can have more than one label at once"
   ]
  },
  {
   "cell_type": "markdown",
   "id": "521d049a",
   "metadata": {
    "papermill": {
     "duration": 0.013779,
     "end_time": "2022-10-29T19:42:40.926090",
     "exception": false,
     "start_time": "2022-10-29T19:42:40.912311",
     "status": "completed"
    },
    "tags": []
   },
   "source": [
    "## Preparation"
   ]
  },
  {
   "cell_type": "code",
   "execution_count": 1,
   "id": "c25f1534",
   "metadata": {
    "execution": {
     "iopub.execute_input": "2022-10-29T19:42:40.956678Z",
     "iopub.status.busy": "2022-10-29T19:42:40.955813Z",
     "iopub.status.idle": "2022-10-29T19:43:02.418459Z",
     "shell.execute_reply": "2022-10-29T19:43:02.417356Z"
    },
    "id": "WC8lo9tGPIMs",
    "outputId": "a41054a9-c40d-4eb7-8de1-a1b3eac70aa8",
    "papermill": {
     "duration": 21.480967,
     "end_time": "2022-10-29T19:43:02.421146",
     "exception": false,
     "start_time": "2022-10-29T19:42:40.940179",
     "status": "completed"
    },
    "tags": []
   },
   "outputs": [
    {
     "name": "stdout",
     "output_type": "stream",
     "text": [
      "Requirement already satisfied: transformers in /opt/conda/lib/python3.7/site-packages (4.20.1)\r\n",
      "Requirement already satisfied: importlib-metadata in /opt/conda/lib/python3.7/site-packages (from transformers) (4.13.0)\r\n",
      "Requirement already satisfied: tokenizers!=0.11.3,<0.13,>=0.11.1 in /opt/conda/lib/python3.7/site-packages (from transformers) (0.12.1)\r\n",
      "Requirement already satisfied: tqdm>=4.27 in /opt/conda/lib/python3.7/site-packages (from transformers) (4.64.0)\r\n",
      "Requirement already satisfied: pyyaml>=5.1 in /opt/conda/lib/python3.7/site-packages (from transformers) (6.0)\r\n",
      "Requirement already satisfied: filelock in /opt/conda/lib/python3.7/site-packages (from transformers) (3.7.1)\r\n",
      "Requirement already satisfied: packaging>=20.0 in /opt/conda/lib/python3.7/site-packages (from transformers) (21.3)\r\n",
      "Requirement already satisfied: numpy>=1.17 in /opt/conda/lib/python3.7/site-packages (from transformers) (1.21.6)\r\n",
      "Requirement already satisfied: huggingface-hub<1.0,>=0.1.0 in /opt/conda/lib/python3.7/site-packages (from transformers) (0.10.1)\r\n",
      "Requirement already satisfied: requests in /opt/conda/lib/python3.7/site-packages (from transformers) (2.28.1)\r\n",
      "Requirement already satisfied: regex!=2019.12.17 in /opt/conda/lib/python3.7/site-packages (from transformers) (2021.11.10)\r\n",
      "Requirement already satisfied: typing-extensions>=3.7.4.3 in /opt/conda/lib/python3.7/site-packages (from huggingface-hub<1.0,>=0.1.0->transformers) (4.1.1)\r\n",
      "Requirement already satisfied: pyparsing!=3.0.5,>=2.0.2 in /opt/conda/lib/python3.7/site-packages (from packaging>=20.0->transformers) (3.0.9)\r\n",
      "Requirement already satisfied: zipp>=0.5 in /opt/conda/lib/python3.7/site-packages (from importlib-metadata->transformers) (3.8.0)\r\n",
      "Requirement already satisfied: idna<4,>=2.5 in /opt/conda/lib/python3.7/site-packages (from requests->transformers) (3.3)\r\n",
      "Requirement already satisfied: certifi>=2017.4.17 in /opt/conda/lib/python3.7/site-packages (from requests->transformers) (2022.9.24)\r\n",
      "Requirement already satisfied: urllib3<1.27,>=1.21.1 in /opt/conda/lib/python3.7/site-packages (from requests->transformers) (1.26.12)\r\n",
      "Requirement already satisfied: charset-normalizer<3,>=2 in /opt/conda/lib/python3.7/site-packages (from requests->transformers) (2.1.0)\r\n",
      "\u001b[33mWARNING: Running pip as the 'root' user can result in broken permissions and conflicting behaviour with the system package manager. It is recommended to use a virtual environment instead: https://pip.pypa.io/warnings/venv\u001b[0m\u001b[33m\r\n",
      "\u001b[0mCollecting lets_plot\r\n",
      "  Downloading lets_plot-2.5.0-cp37-cp37m-manylinux_2_17_x86_64.manylinux2014_x86_64.whl (3.0 MB)\r\n",
      "\u001b[2K     \u001b[90m━━━━━━━━━━━━━━━━━━━━━━━━━━━━━━━━━━━━━━━━\u001b[0m \u001b[32m3.0/3.0 MB\u001b[0m \u001b[31m16.8 MB/s\u001b[0m eta \u001b[36m0:00:00\u001b[0m\r\n",
      "\u001b[?25hCollecting pypng\r\n",
      "  Downloading pypng-0.20220715.0-py3-none-any.whl (58 kB)\r\n",
      "\u001b[2K     \u001b[90m━━━━━━━━━━━━━━━━━━━━━━━━━━━━━━━━━━━━━━━━\u001b[0m \u001b[32m58.1/58.1 kB\u001b[0m \u001b[31m4.6 MB/s\u001b[0m eta \u001b[36m0:00:00\u001b[0m\r\n",
      "\u001b[?25hInstalling collected packages: pypng, lets_plot\r\n",
      "Successfully installed lets_plot-2.5.0 pypng-0.20220715.0\r\n",
      "\u001b[33mWARNING: Running pip as the 'root' user can result in broken permissions and conflicting behaviour with the system package manager. It is recommended to use a virtual environment instead: https://pip.pypa.io/warnings/venv\u001b[0m\u001b[33m\r\n",
      "\u001b[0m"
     ]
    }
   ],
   "source": [
    "!pip install transformers\n",
    "!pip install lets_plot"
   ]
  },
  {
   "cell_type": "code",
   "execution_count": 2,
   "id": "d6ac8184",
   "metadata": {
    "execution": {
     "iopub.execute_input": "2022-10-29T19:43:02.450741Z",
     "iopub.status.busy": "2022-10-29T19:43:02.450420Z",
     "iopub.status.idle": "2022-10-29T19:43:11.991770Z",
     "shell.execute_reply": "2022-10-29T19:43:11.990573Z"
    },
    "id": "Lo6V4TgVlBc1",
    "papermill": {
     "duration": 9.55927,
     "end_time": "2022-10-29T19:43:11.994554",
     "exception": false,
     "start_time": "2022-10-29T19:43:02.435284",
     "status": "completed"
    },
    "tags": []
   },
   "outputs": [],
   "source": [
    "from transformers import DistilBertTokenizer, DistilBertForSequenceClassification, AdamW, get_linear_schedule_with_warmup\n",
    "from sklearn import metrics\n",
    "from lets_plot import *\n",
    "from torch.utils.data import TensorDataset, random_split, DataLoader, RandomSampler\n",
    "import matplotlib.pyplot as plt \n",
    "import pandas as pd\n",
    "import numpy as np\n",
    "import random\n",
    "import os\n",
    "import torch\n",
    "import warnings\n",
    "\n",
    "warnings.filterwarnings('ignore')"
   ]
  },
  {
   "cell_type": "code",
   "execution_count": 3,
   "id": "d955f17b",
   "metadata": {
    "execution": {
     "iopub.execute_input": "2022-10-29T19:43:12.024609Z",
     "iopub.status.busy": "2022-10-29T19:43:12.023283Z",
     "iopub.status.idle": "2022-10-29T19:43:12.150746Z",
     "shell.execute_reply": "2022-10-29T19:43:12.149392Z"
    },
    "id": "caHrdEttk0km",
    "outputId": "227e427b-e1d7-4d88-ac58-c5910ff72720",
    "papermill": {
     "duration": 0.144694,
     "end_time": "2022-10-29T19:43:12.153308",
     "exception": false,
     "start_time": "2022-10-29T19:43:12.008614",
     "status": "completed"
    },
    "tags": []
   },
   "outputs": [
    {
     "name": "stdout",
     "output_type": "stream",
     "text": [
      "Using GPU : Tesla T4\n"
     ]
    }
   ],
   "source": [
    "if torch.cuda.is_available():    \n",
    "    device = torch.device(\"cuda\")\n",
    "    print(f'Using GPU : {torch.cuda.get_device_name(0)}')\n",
    "else:\n",
    "    device = torch.device(\"cpu\")\n",
    "    print(f'Using CPU')"
   ]
  },
  {
   "cell_type": "code",
   "execution_count": 4,
   "id": "4c63386d",
   "metadata": {
    "execution": {
     "iopub.execute_input": "2022-10-29T19:43:12.183123Z",
     "iopub.status.busy": "2022-10-29T19:43:12.182791Z",
     "iopub.status.idle": "2022-10-29T19:43:12.189659Z",
     "shell.execute_reply": "2022-10-29T19:43:12.188717Z"
    },
    "papermill": {
     "duration": 0.023928,
     "end_time": "2022-10-29T19:43:12.191878",
     "exception": false,
     "start_time": "2022-10-29T19:43:12.167950",
     "status": "completed"
    },
    "tags": []
   },
   "outputs": [
    {
     "data": {
      "text/html": [
       "\n",
       "            <div id=\"TLix7Q\"></div>\n",
       "            <script type=\"text/javascript\" data-lets-plot-script=\"library\">\n",
       "                if(!window.letsPlotCallQueue) {\n",
       "                    window.letsPlotCallQueue = [];\n",
       "                }; \n",
       "                window.letsPlotCall = function(f) {\n",
       "                    window.letsPlotCallQueue.push(f);\n",
       "                };\n",
       "                (function() {\n",
       "                    var script = document.createElement(\"script\");\n",
       "                    script.type = \"text/javascript\";\n",
       "                    script.src = \"https://cdn.jsdelivr.net/gh/JetBrains/lets-plot@v2.5.0/js-package/distr/lets-plot.min.js\";\n",
       "                    script.onload = function() {\n",
       "                        window.letsPlotCall = function(f) {f();};\n",
       "                        window.letsPlotCallQueue.forEach(function(f) {f();});\n",
       "                        window.letsPlotCallQueue = [];\n",
       "                        \n",
       "                    };\n",
       "                    script.onerror = function(event) {\n",
       "                        window.letsPlotCall = function(f) {};    // noop\n",
       "                        window.letsPlotCallQueue = [];\n",
       "                        var div = document.createElement(\"div\");\n",
       "                        div.style.color = 'darkred';\n",
       "                        div.textContent = 'Error loading Lets-Plot JS';\n",
       "                        document.getElementById(\"TLix7Q\").appendChild(div);\n",
       "                    };\n",
       "                    var e = document.getElementById(\"TLix7Q\");\n",
       "                    e.appendChild(script);\n",
       "                })()\n",
       "            </script>\n",
       "            "
      ]
     },
     "metadata": {},
     "output_type": "display_data"
    }
   ],
   "source": [
    "LetsPlot.setup_html()"
   ]
  },
  {
   "cell_type": "markdown",
   "id": "20068f6c",
   "metadata": {
    "papermill": {
     "duration": 0.013697,
     "end_time": "2022-10-29T19:43:12.219646",
     "exception": false,
     "start_time": "2022-10-29T19:43:12.205949",
     "status": "completed"
    },
    "tags": []
   },
   "source": [
    "## Exploration"
   ]
  },
  {
   "cell_type": "code",
   "execution_count": 5,
   "id": "9cfb60d5",
   "metadata": {
    "execution": {
     "iopub.execute_input": "2022-10-29T19:43:12.249995Z",
     "iopub.status.busy": "2022-10-29T19:43:12.248990Z",
     "iopub.status.idle": "2022-10-29T19:43:12.254127Z",
     "shell.execute_reply": "2022-10-29T19:43:12.253190Z"
    },
    "id": "1B-li2JyJMS2",
    "papermill": {
     "duration": 0.022478,
     "end_time": "2022-10-29T19:43:12.256147",
     "exception": false,
     "start_time": "2022-10-29T19:43:12.233669",
     "status": "completed"
    },
    "tags": []
   },
   "outputs": [],
   "source": [
    "path_to_data = '../input/commit-data/train_2K.csv'"
   ]
  },
  {
   "cell_type": "code",
   "execution_count": 6,
   "id": "8fa4aa1f",
   "metadata": {
    "execution": {
     "iopub.execute_input": "2022-10-29T19:43:12.286582Z",
     "iopub.status.busy": "2022-10-29T19:43:12.285556Z",
     "iopub.status.idle": "2022-10-29T19:43:12.323755Z",
     "shell.execute_reply": "2022-10-29T19:43:12.322744Z"
    },
    "id": "E-igiZ3AJXCD",
    "papermill": {
     "duration": 0.056061,
     "end_time": "2022-10-29T19:43:12.326548",
     "exception": false,
     "start_time": "2022-10-29T19:43:12.270487",
     "status": "completed"
    },
    "tags": []
   },
   "outputs": [],
   "source": [
    "data = pd.read_csv(path_to_data)"
   ]
  },
  {
   "cell_type": "code",
   "execution_count": 7,
   "id": "af9b25e1",
   "metadata": {
    "execution": {
     "iopub.execute_input": "2022-10-29T19:43:12.357272Z",
     "iopub.status.busy": "2022-10-29T19:43:12.356884Z",
     "iopub.status.idle": "2022-10-29T19:43:12.381709Z",
     "shell.execute_reply": "2022-10-29T19:43:12.380753Z"
    },
    "id": "2gUHBMpkJY_z",
    "outputId": "302820aa-aaf8-4adb-dd15-cf8f76fe3ff5",
    "papermill": {
     "duration": 0.042743,
     "end_time": "2022-10-29T19:43:12.383679",
     "exception": false,
     "start_time": "2022-10-29T19:43:12.340936",
     "status": "completed"
    },
    "tags": []
   },
   "outputs": [
    {
     "data": {
      "text/html": [
       "<div>\n",
       "<style scoped>\n",
       "    .dataframe tbody tr th:only-of-type {\n",
       "        vertical-align: middle;\n",
       "    }\n",
       "\n",
       "    .dataframe tbody tr th {\n",
       "        vertical-align: top;\n",
       "    }\n",
       "\n",
       "    .dataframe thead th {\n",
       "        text-align: right;\n",
       "    }\n",
       "</style>\n",
       "<table border=\"1\" class=\"dataframe\">\n",
       "  <thead>\n",
       "    <tr style=\"text-align: right;\">\n",
       "      <th></th>\n",
       "      <th>id</th>\n",
       "      <th>text</th>\n",
       "      <th>Corrective</th>\n",
       "      <th>Adaptive</th>\n",
       "      <th>Perfective</th>\n",
       "    </tr>\n",
       "  </thead>\n",
       "  <tbody>\n",
       "    <tr>\n",
       "      <th>0</th>\n",
       "      <td>0</td>\n",
       "      <td>netfilter: xt_log: fix mark logging for ip...</td>\n",
       "      <td>1</td>\n",
       "      <td>0</td>\n",
       "      <td>0</td>\n",
       "    </tr>\n",
       "    <tr>\n",
       "      <th>1</th>\n",
       "      <td>1</td>\n",
       "      <td>[patch] inode-diet: eliminate i_blksize fr...</td>\n",
       "      <td>1</td>\n",
       "      <td>0</td>\n",
       "      <td>0</td>\n",
       "    </tr>\n",
       "    <tr>\n",
       "      <th>2</th>\n",
       "      <td>2</td>\n",
       "      <td>tensor roll op implementation (#14953)    ...</td>\n",
       "      <td>1</td>\n",
       "      <td>1</td>\n",
       "      <td>0</td>\n",
       "    </tr>\n",
       "    <tr>\n",
       "      <th>3</th>\n",
       "      <td>3</td>\n",
       "      <td>improve video updates from sheet</td>\n",
       "      <td>0</td>\n",
       "      <td>0</td>\n",
       "      <td>1</td>\n",
       "    </tr>\n",
       "    <tr>\n",
       "      <th>4</th>\n",
       "      <td>4</td>\n",
       "      <td>[spark-9372] [sql] filter nulls in join ke...</td>\n",
       "      <td>0</td>\n",
       "      <td>0</td>\n",
       "      <td>1</td>\n",
       "    </tr>\n",
       "  </tbody>\n",
       "</table>\n",
       "</div>"
      ],
      "text/plain": [
       "   id                                               text  Corrective  \\\n",
       "0   0      netfilter: xt_log: fix mark logging for ip...           1   \n",
       "1   1      [patch] inode-diet: eliminate i_blksize fr...           1   \n",
       "2   2      tensor roll op implementation (#14953)    ...           1   \n",
       "3   3                  improve video updates from sheet            0   \n",
       "4   4      [spark-9372] [sql] filter nulls in join ke...           0   \n",
       "\n",
       "   Adaptive  Perfective  \n",
       "0         0           0  \n",
       "1         0           0  \n",
       "2         1           0  \n",
       "3         0           1  \n",
       "4         0           1  "
      ]
     },
     "execution_count": 7,
     "metadata": {},
     "output_type": "execute_result"
    }
   ],
   "source": [
    "data = data.rename(columns={'Unnamed: 0': 'id'})\n",
    "data.head()"
   ]
  },
  {
   "cell_type": "markdown",
   "id": "32762106",
   "metadata": {
    "papermill": {
     "duration": 0.013968,
     "end_time": "2022-10-29T19:43:12.412239",
     "exception": false,
     "start_time": "2022-10-29T19:43:12.398271",
     "status": "completed"
    },
    "tags": []
   },
   "source": [
    "Let's look at the distribution of labels in our dataset, to begin with, we need to count the frequency of occuring of each label solely"
   ]
  },
  {
   "cell_type": "code",
   "execution_count": 8,
   "id": "5aaf9570",
   "metadata": {
    "execution": {
     "iopub.execute_input": "2022-10-29T19:43:12.443251Z",
     "iopub.status.busy": "2022-10-29T19:43:12.442203Z",
     "iopub.status.idle": "2022-10-29T19:43:12.453147Z",
     "shell.execute_reply": "2022-10-29T19:43:12.452199Z"
    },
    "papermill": {
     "duration": 0.028728,
     "end_time": "2022-10-29T19:43:12.455388",
     "exception": false,
     "start_time": "2022-10-29T19:43:12.426660",
     "status": "completed"
    },
    "tags": []
   },
   "outputs": [],
   "source": [
    "uni_label_info = pd.DataFrame({\n",
    "    'Corrective' : data.Corrective,\n",
    "    'Adaptive' :  data.Adaptive,\n",
    "    'Perfective' : data.Perfective\n",
    "})\n",
    "stat_info = pd.DataFrame({\n",
    "    'Label' : uni_label_info.keys(),\n",
    "    'Frequency' : [sum(uni_label_info.Corrective), sum(uni_label_info.Adaptive), \n",
    "                   sum(uni_label_info.Perfective)]\n",
    "})"
   ]
  },
  {
   "cell_type": "code",
   "execution_count": 9,
   "id": "7dcd93ab",
   "metadata": {
    "execution": {
     "iopub.execute_input": "2022-10-29T19:43:12.485471Z",
     "iopub.status.busy": "2022-10-29T19:43:12.485101Z",
     "iopub.status.idle": "2022-10-29T19:43:12.992093Z",
     "shell.execute_reply": "2022-10-29T19:43:12.991125Z"
    },
    "papermill": {
     "duration": 0.524305,
     "end_time": "2022-10-29T19:43:12.994146",
     "exception": false,
     "start_time": "2022-10-29T19:43:12.469841",
     "status": "completed"
    },
    "tags": []
   },
   "outputs": [
    {
     "data": {
      "text/html": [
       "   <div id=\"vjx1c8\"></div>\n",
       "   <script type=\"text/javascript\" data-lets-plot-script=\"plot\">\n",
       "       (function() {\n",
       "           var plotSpec={\n",
       "\"data\":{\n",
       "},\n",
       "\"mapping\":{\n",
       "\"x\":\"x\",\n",
       "\"weight\":\"weight\",\n",
       "\"fill\":\"fill\"\n",
       "},\n",
       "\"data_meta\":{\n",
       "},\n",
       "\"kind\":\"plot\",\n",
       "\"scales\":[{\n",
       "\"name\":\"Label\",\n",
       "\"aesthetic\":\"x\"\n",
       "},{\n",
       "\"name\":\"Times Occured\",\n",
       "\"aesthetic\":\"y\"\n",
       "}],\n",
       "\"layers\":[{\n",
       "\"geom\":\"bar\",\n",
       "\"mapping\":{\n",
       "},\n",
       "\"data_meta\":{\n",
       "},\n",
       "\"data\":{\n",
       "\"..count..\":[758.0,662.0,942.0],\n",
       "\"x\":[\"Corrective\",\"Adaptive\",\"Perfective\"],\n",
       "\"fill\":[\"Corrective\",\"Adaptive\",\"Perfective\"]\n",
       "}\n",
       "}],\n",
       "\"metainfo_list\":[]\n",
       "};\n",
       "           var plotContainer = document.getElementById(\"vjx1c8\");\n",
       "           window.letsPlotCall(function() {{\n",
       "               LetsPlot.buildPlotFromProcessedSpecs(plotSpec, -1, -1, plotContainer);\n",
       "           }});\n",
       "       })();    \n",
       "   </script>"
      ],
      "text/plain": [
       "<lets_plot.plot.core.PlotSpec at 0x7ff2837ff650>"
      ]
     },
     "execution_count": 9,
     "metadata": {},
     "output_type": "execute_result"
    }
   ],
   "source": [
    "ggplot(stat_info, aes(x=stat_info.Label, weight=stat_info.Frequency, fill=stat_info.Label)) + \\\n",
    "    geom_bar() + labs(x='Label', y='Times Occured')"
   ]
  },
  {
   "cell_type": "markdown",
   "id": "552cdff6",
   "metadata": {
    "papermill": {
     "duration": 0.014312,
     "end_time": "2022-10-29T19:43:13.023116",
     "exception": false,
     "start_time": "2022-10-29T19:43:13.008804",
     "status": "completed"
    },
    "tags": []
   },
   "source": [
    "Also we need to look at the real multi-labeled distribution in our dataset"
   ]
  },
  {
   "cell_type": "code",
   "execution_count": 10,
   "id": "650f665b",
   "metadata": {
    "execution": {
     "iopub.execute_input": "2022-10-29T19:43:13.053391Z",
     "iopub.status.busy": "2022-10-29T19:43:13.053053Z",
     "iopub.status.idle": "2022-10-29T19:43:13.784153Z",
     "shell.execute_reply": "2022-10-29T19:43:13.783219Z"
    },
    "papermill": {
     "duration": 0.748352,
     "end_time": "2022-10-29T19:43:13.786126",
     "exception": false,
     "start_time": "2022-10-29T19:43:13.037774",
     "status": "completed"
    },
    "tags": []
   },
   "outputs": [
    {
     "name": "stdout",
     "output_type": "stream",
     "text": [
      "Label combinations in total: 7\n",
      "Amount of labeled commit messages: 2035       \n",
      "Dataset rows size: 2037 \n",
      "There are 2 commit messages without labels in dataset\n"
     ]
    }
   ],
   "source": [
    "combinations = {'Corrective' : 0, 'Corrective Adaptive' : 0, 'Corrective Adaptive Perfective' : 0, 'Adaptive' : 0, 'Perfective' : 0, 'Adaptive Perfective' : 0, 'Corrective Perfective' : 0}\n",
    "multi_label = pd.Series([\"\" for i in range(len(uni_label_info.index))])\n",
    "idx_to_drop = []\n",
    "for i in range(len(uni_label_info.index)):\n",
    "    if not uni_label_info.iloc[i].any():\n",
    "        idx_to_drop.append(i)\n",
    "        continue\n",
    "    if uni_label_info.iloc[i].Corrective:\n",
    "        multi_label[i] += 'Corrective '\n",
    "    if uni_label_info.iloc[i].Adaptive:\n",
    "        multi_label[i] += 'Adaptive '\n",
    "    if uni_label_info.iloc[i].Perfective:\n",
    "        multi_label[i] += 'Perfective '\n",
    "    combinations[multi_label[i].strip()] += 1\n",
    "total_number = sum(combinations.values())\n",
    "combinations = {k: v / total_number for k,v in combinations.items()}\n",
    "multi_label_info = pd.DataFrame({\n",
    "    'Label' : combinations.keys(),\n",
    "    'Frequency' : combinations.values()\n",
    "})\n",
    "print(f'Label combinations in total: {len(combinations.keys())}\\nAmount of labeled commit messages: {total_number} \\\n",
    "      \\nDataset rows size: {data.shape[0]} \\nThere are {data.shape[0] - total_number} commit messages \\\n",
    "without labels in dataset')"
   ]
  },
  {
   "cell_type": "code",
   "execution_count": 11,
   "id": "c3d346bc",
   "metadata": {
    "execution": {
     "iopub.execute_input": "2022-10-29T19:43:13.816562Z",
     "iopub.status.busy": "2022-10-29T19:43:13.815654Z",
     "iopub.status.idle": "2022-10-29T19:43:13.828698Z",
     "shell.execute_reply": "2022-10-29T19:43:13.827674Z"
    },
    "papermill": {
     "duration": 0.030184,
     "end_time": "2022-10-29T19:43:13.830768",
     "exception": false,
     "start_time": "2022-10-29T19:43:13.800584",
     "status": "completed"
    },
    "tags": []
   },
   "outputs": [
    {
     "data": {
      "text/html": [
       "   <div id=\"DBv6eb\"></div>\n",
       "   <script type=\"text/javascript\" data-lets-plot-script=\"plot\">\n",
       "       (function() {\n",
       "           var plotSpec={\n",
       "\"data\":{\n",
       "},\n",
       "\"mapping\":{\n",
       "\"x\":\"x\",\n",
       "\"weight\":\"weight\",\n",
       "\"fill\":\"fill\"\n",
       "},\n",
       "\"data_meta\":{\n",
       "},\n",
       "\"coord\":{\n",
       "\"name\":\"cartesian\",\n",
       "\"ylim\":[0.0,0.5],\n",
       "\"flip\":false\n",
       "},\n",
       "\"kind\":\"plot\",\n",
       "\"scales\":[{\n",
       "\"name\":\"Label\",\n",
       "\"aesthetic\":\"x\"\n",
       "},{\n",
       "\"name\":\"Density\",\n",
       "\"aesthetic\":\"y\"\n",
       "}],\n",
       "\"layers\":[{\n",
       "\"geom\":\"bar\",\n",
       "\"mapping\":{\n",
       "},\n",
       "\"data_meta\":{\n",
       "},\n",
       "\"data\":{\n",
       "\"..count..\":[0.28992628992628994,0.030466830466830467,0.011302211302211302,0.2167076167076167,0.343980343980344,0.06683046683046683,0.04078624078624079],\n",
       "\"x\":[\"Corrective\",\"Corrective Adaptive\",\"Corrective Adaptive Perfective\",\"Adaptive\",\"Perfective\",\"Adaptive Perfective\",\"Corrective Perfective\"],\n",
       "\"fill\":[\"Corrective\",\"Corrective Adaptive\",\"Corrective Adaptive Perfective\",\"Adaptive\",\"Perfective\",\"Adaptive Perfective\",\"Corrective Perfective\"]\n",
       "}\n",
       "}],\n",
       "\"metainfo_list\":[]\n",
       "};\n",
       "           var plotContainer = document.getElementById(\"DBv6eb\");\n",
       "           window.letsPlotCall(function() {{\n",
       "               LetsPlot.buildPlotFromProcessedSpecs(plotSpec, -1, -1, plotContainer);\n",
       "           }});\n",
       "       })();    \n",
       "   </script>"
      ],
      "text/plain": [
       "<lets_plot.plot.core.PlotSpec at 0x7ff283876e90>"
      ]
     },
     "execution_count": 11,
     "metadata": {},
     "output_type": "execute_result"
    }
   ],
   "source": [
    "ggplot(multi_label_info, aes(x=multi_label_info.Label, weight=multi_label_info.Frequency, fill=multi_label_info.Label)) + \\\n",
    "    geom_bar() + labs(x='Label', y='Density') + coord_cartesian(ylim=(0.0, 0.5))"
   ]
  },
  {
   "cell_type": "markdown",
   "id": "b9531fc6",
   "metadata": {
    "papermill": {
     "duration": 0.014081,
     "end_time": "2022-10-29T19:43:13.859317",
     "exception": false,
     "start_time": "2022-10-29T19:43:13.845236",
     "status": "completed"
    },
    "tags": []
   },
   "source": [
    "As we can see according to the distribution, majority of commits are uni-labeled, in other words, they are best option, since they only refer to one \"atomic\" change (in one category). But in reality there are many others commits that have more than one label based on their messages. \n",
    "\n",
    "Let's ignore values like `[0, 0, 0]` (in article they are also ignored)"
   ]
  },
  {
   "cell_type": "code",
   "execution_count": 12,
   "id": "bfaa8da1",
   "metadata": {
    "execution": {
     "iopub.execute_input": "2022-10-29T19:43:13.889747Z",
     "iopub.status.busy": "2022-10-29T19:43:13.888818Z",
     "iopub.status.idle": "2022-10-29T19:43:13.898367Z",
     "shell.execute_reply": "2022-10-29T19:43:13.897363Z"
    },
    "papermill": {
     "duration": 0.026883,
     "end_time": "2022-10-29T19:43:13.900327",
     "exception": false,
     "start_time": "2022-10-29T19:43:13.873444",
     "status": "completed"
    },
    "tags": []
   },
   "outputs": [
    {
     "data": {
      "text/plain": [
       "(2035, 5)"
      ]
     },
     "execution_count": 12,
     "metadata": {},
     "output_type": "execute_result"
    }
   ],
   "source": [
    "data = data.drop(labels=idx_to_drop, axis=0)\n",
    "data.shape"
   ]
  },
  {
   "cell_type": "markdown",
   "id": "4a76f60d",
   "metadata": {
    "papermill": {
     "duration": 0.01449,
     "end_time": "2022-10-29T19:43:13.929002",
     "exception": false,
     "start_time": "2022-10-29T19:43:13.914512",
     "status": "completed"
    },
    "tags": []
   },
   "source": [
    "Let's add column of labeled vectors to our dataset for the convinience"
   ]
  },
  {
   "cell_type": "code",
   "execution_count": 13,
   "id": "8408cd38",
   "metadata": {
    "execution": {
     "iopub.execute_input": "2022-10-29T19:43:13.959650Z",
     "iopub.status.busy": "2022-10-29T19:43:13.958843Z",
     "iopub.status.idle": "2022-10-29T19:43:14.894744Z",
     "shell.execute_reply": "2022-10-29T19:43:14.893762Z"
    },
    "papermill": {
     "duration": 0.953544,
     "end_time": "2022-10-29T19:43:14.897009",
     "exception": false,
     "start_time": "2022-10-29T19:43:13.943465",
     "status": "completed"
    },
    "tags": []
   },
   "outputs": [
    {
     "data": {
      "text/plain": [
       "(2035, 6)"
      ]
     },
     "execution_count": 13,
     "metadata": {},
     "output_type": "execute_result"
    }
   ],
   "source": [
    "labels_all = [[0, 0, 0] for i in range(len(data.index))]\n",
    "for i in range(len(data.index)):\n",
    "    if data.iloc[i].Corrective:\n",
    "        labels_all[i][0] = 1\n",
    "    if data.iloc[i].Adaptive:\n",
    "        labels_all[i][1] = 1\n",
    "    if data.iloc[i].Perfective:\n",
    "        labels_all[i][2] = 1\n",
    "data['labels'] = labels_all\n",
    "data.shape"
   ]
  },
  {
   "cell_type": "code",
   "execution_count": 14,
   "id": "5b6548f9",
   "metadata": {
    "execution": {
     "iopub.execute_input": "2022-10-29T19:43:14.927658Z",
     "iopub.status.busy": "2022-10-29T19:43:14.927354Z",
     "iopub.status.idle": "2022-10-29T19:43:14.938928Z",
     "shell.execute_reply": "2022-10-29T19:43:14.938020Z"
    },
    "papermill": {
     "duration": 0.029114,
     "end_time": "2022-10-29T19:43:14.940986",
     "exception": false,
     "start_time": "2022-10-29T19:43:14.911872",
     "status": "completed"
    },
    "tags": []
   },
   "outputs": [
    {
     "data": {
      "text/html": [
       "<div>\n",
       "<style scoped>\n",
       "    .dataframe tbody tr th:only-of-type {\n",
       "        vertical-align: middle;\n",
       "    }\n",
       "\n",
       "    .dataframe tbody tr th {\n",
       "        vertical-align: top;\n",
       "    }\n",
       "\n",
       "    .dataframe thead th {\n",
       "        text-align: right;\n",
       "    }\n",
       "</style>\n",
       "<table border=\"1\" class=\"dataframe\">\n",
       "  <thead>\n",
       "    <tr style=\"text-align: right;\">\n",
       "      <th></th>\n",
       "      <th>id</th>\n",
       "      <th>text</th>\n",
       "      <th>Corrective</th>\n",
       "      <th>Adaptive</th>\n",
       "      <th>Perfective</th>\n",
       "      <th>labels</th>\n",
       "    </tr>\n",
       "  </thead>\n",
       "  <tbody>\n",
       "    <tr>\n",
       "      <th>0</th>\n",
       "      <td>0</td>\n",
       "      <td>netfilter: xt_log: fix mark logging for ip...</td>\n",
       "      <td>1</td>\n",
       "      <td>0</td>\n",
       "      <td>0</td>\n",
       "      <td>[1, 0, 0]</td>\n",
       "    </tr>\n",
       "    <tr>\n",
       "      <th>1</th>\n",
       "      <td>1</td>\n",
       "      <td>[patch] inode-diet: eliminate i_blksize fr...</td>\n",
       "      <td>1</td>\n",
       "      <td>0</td>\n",
       "      <td>0</td>\n",
       "      <td>[1, 0, 0]</td>\n",
       "    </tr>\n",
       "    <tr>\n",
       "      <th>2</th>\n",
       "      <td>2</td>\n",
       "      <td>tensor roll op implementation (#14953)    ...</td>\n",
       "      <td>1</td>\n",
       "      <td>1</td>\n",
       "      <td>0</td>\n",
       "      <td>[1, 1, 0]</td>\n",
       "    </tr>\n",
       "    <tr>\n",
       "      <th>3</th>\n",
       "      <td>3</td>\n",
       "      <td>improve video updates from sheet</td>\n",
       "      <td>0</td>\n",
       "      <td>0</td>\n",
       "      <td>1</td>\n",
       "      <td>[0, 0, 1]</td>\n",
       "    </tr>\n",
       "    <tr>\n",
       "      <th>4</th>\n",
       "      <td>4</td>\n",
       "      <td>[spark-9372] [sql] filter nulls in join ke...</td>\n",
       "      <td>0</td>\n",
       "      <td>0</td>\n",
       "      <td>1</td>\n",
       "      <td>[0, 0, 1]</td>\n",
       "    </tr>\n",
       "  </tbody>\n",
       "</table>\n",
       "</div>"
      ],
      "text/plain": [
       "   id                                               text  Corrective  \\\n",
       "0   0      netfilter: xt_log: fix mark logging for ip...           1   \n",
       "1   1      [patch] inode-diet: eliminate i_blksize fr...           1   \n",
       "2   2      tensor roll op implementation (#14953)    ...           1   \n",
       "3   3                  improve video updates from sheet            0   \n",
       "4   4      [spark-9372] [sql] filter nulls in join ke...           0   \n",
       "\n",
       "   Adaptive  Perfective     labels  \n",
       "0         0           0  [1, 0, 0]  \n",
       "1         0           0  [1, 0, 0]  \n",
       "2         1           0  [1, 1, 0]  \n",
       "3         0           1  [0, 0, 1]  \n",
       "4         0           1  [0, 0, 1]  "
      ]
     },
     "execution_count": 14,
     "metadata": {},
     "output_type": "execute_result"
    }
   ],
   "source": [
    "data.head()"
   ]
  },
  {
   "cell_type": "markdown",
   "id": "a806a016",
   "metadata": {
    "papermill": {
     "duration": 0.016503,
     "end_time": "2022-10-29T19:43:14.972319",
     "exception": false,
     "start_time": "2022-10-29T19:43:14.955816",
     "status": "completed"
    },
    "tags": []
   },
   "source": [
    "## Preprocessing and Tokenizing"
   ]
  },
  {
   "cell_type": "markdown",
   "id": "4cbca406",
   "metadata": {
    "papermill": {
     "duration": 0.014415,
     "end_time": "2022-10-29T19:43:15.001280",
     "exception": false,
     "start_time": "2022-10-29T19:43:14.986865",
     "status": "completed"
    },
    "tags": []
   },
   "source": [
    "Let's extract X and y for our data and use pretrained `DistilBert` tokenizer in order to preprocess commit messages texts "
   ]
  },
  {
   "cell_type": "code",
   "execution_count": 15,
   "id": "13894713",
   "metadata": {
    "execution": {
     "iopub.execute_input": "2022-10-29T19:43:15.031688Z",
     "iopub.status.busy": "2022-10-29T19:43:15.031335Z",
     "iopub.status.idle": "2022-10-29T19:43:15.036377Z",
     "shell.execute_reply": "2022-10-29T19:43:15.035421Z"
    },
    "id": "35Z2mpSxElQL",
    "outputId": "3759e30b-1bf4-4487-a487-d0a8ce3cc0de",
    "papermill": {
     "duration": 0.022923,
     "end_time": "2022-10-29T19:43:15.038640",
     "exception": false,
     "start_time": "2022-10-29T19:43:15.015717",
     "status": "completed"
    },
    "tags": []
   },
   "outputs": [],
   "source": [
    "text_data = data.text.values\n",
    "labels_data = list(data.labels)"
   ]
  },
  {
   "cell_type": "code",
   "execution_count": 16,
   "id": "40f87ab2",
   "metadata": {
    "execution": {
     "iopub.execute_input": "2022-10-29T19:43:15.070747Z",
     "iopub.status.busy": "2022-10-29T19:43:15.070262Z",
     "iopub.status.idle": "2022-10-29T19:43:15.077478Z",
     "shell.execute_reply": "2022-10-29T19:43:15.076514Z"
    },
    "id": "DP64JuvnWHzD",
    "papermill": {
     "duration": 0.026958,
     "end_time": "2022-10-29T19:43:15.080645",
     "exception": false,
     "start_time": "2022-10-29T19:43:15.053687",
     "status": "completed"
    },
    "tags": []
   },
   "outputs": [],
   "source": [
    "model_name = 'distilbert-base-uncased'"
   ]
  },
  {
   "cell_type": "code",
   "execution_count": 17,
   "id": "fed061da",
   "metadata": {
    "execution": {
     "iopub.execute_input": "2022-10-29T19:43:15.137735Z",
     "iopub.status.busy": "2022-10-29T19:43:15.136094Z",
     "iopub.status.idle": "2022-10-29T19:43:16.715303Z",
     "shell.execute_reply": "2022-10-29T19:43:16.714311Z"
    },
    "papermill": {
     "duration": 1.61173,
     "end_time": "2022-10-29T19:43:16.717724",
     "exception": false,
     "start_time": "2022-10-29T19:43:15.105994",
     "status": "completed"
    },
    "tags": []
   },
   "outputs": [
    {
     "data": {
      "application/vnd.jupyter.widget-view+json": {
       "model_id": "f1f39a95e01e4c7b91315203766edc87",
       "version_major": 2,
       "version_minor": 0
      },
      "text/plain": [
       "Downloading:   0%|          | 0.00/226k [00:00<?, ?B/s]"
      ]
     },
     "metadata": {},
     "output_type": "display_data"
    },
    {
     "data": {
      "application/vnd.jupyter.widget-view+json": {
       "model_id": "1cf1bb87ec3b41cbbcdda202e1e16bdb",
       "version_major": 2,
       "version_minor": 0
      },
      "text/plain": [
       "Downloading:   0%|          | 0.00/28.0 [00:00<?, ?B/s]"
      ]
     },
     "metadata": {},
     "output_type": "display_data"
    },
    {
     "data": {
      "application/vnd.jupyter.widget-view+json": {
       "model_id": "9de4205c1f1046a8a14cf377a47d4805",
       "version_major": 2,
       "version_minor": 0
      },
      "text/plain": [
       "Downloading:   0%|          | 0.00/483 [00:00<?, ?B/s]"
      ]
     },
     "metadata": {},
     "output_type": "display_data"
    }
   ],
   "source": [
    "tokenizer = DistilBertTokenizer.from_pretrained(model_name)"
   ]
  },
  {
   "cell_type": "markdown",
   "id": "bdb8fb28",
   "metadata": {
    "papermill": {
     "duration": 0.015248,
     "end_time": "2022-10-29T19:43:16.748926",
     "exception": false,
     "start_time": "2022-10-29T19:43:16.733678",
     "status": "completed"
    },
    "tags": []
   },
   "source": [
    "Tokenizing and converting data to tensors, we truncate it to `max_length=256`, since it's enough in our case"
   ]
  },
  {
   "cell_type": "code",
   "execution_count": 18,
   "id": "5a7df08c",
   "metadata": {
    "execution": {
     "iopub.execute_input": "2022-10-29T19:43:16.780937Z",
     "iopub.status.busy": "2022-10-29T19:43:16.780587Z",
     "iopub.status.idle": "2022-10-29T19:43:19.461692Z",
     "shell.execute_reply": "2022-10-29T19:43:19.459806Z"
    },
    "papermill": {
     "duration": 2.699707,
     "end_time": "2022-10-29T19:43:19.463858",
     "exception": false,
     "start_time": "2022-10-29T19:43:16.764151",
     "status": "completed"
    },
    "tags": []
   },
   "outputs": [
    {
     "name": "stdout",
     "output_type": "stream",
     "text": [
      "Max length:  161.0\n"
     ]
    }
   ],
   "source": [
    "max_len = np.zeros(len(text_data))\n",
    "for i in range(len(text_data)):\n",
    "    input_ids = tokenizer.encode(text_data[i], add_special_tokens=True)\n",
    "    max_len[i] = len(input_ids)\n",
    "print('Max length: ', max_len.max())"
   ]
  },
  {
   "cell_type": "markdown",
   "id": "adb5f315",
   "metadata": {
    "papermill": {
     "duration": 0.014696,
     "end_time": "2022-10-29T19:43:19.494033",
     "exception": false,
     "start_time": "2022-10-29T19:43:19.479337",
     "status": "completed"
    },
    "tags": []
   },
   "source": [
    "Also we add special tokens"
   ]
  },
  {
   "cell_type": "code",
   "execution_count": 19,
   "id": "82d65152",
   "metadata": {
    "execution": {
     "iopub.execute_input": "2022-10-29T19:43:19.526951Z",
     "iopub.status.busy": "2022-10-29T19:43:19.525910Z",
     "iopub.status.idle": "2022-10-29T19:43:22.477751Z",
     "shell.execute_reply": "2022-10-29T19:43:22.476727Z"
    },
    "id": "Zq56LQmjFFaU",
    "outputId": "15551c31-ecec-407a-a638-522444bd37b2",
    "papermill": {
     "duration": 2.97097,
     "end_time": "2022-10-29T19:43:22.480647",
     "exception": false,
     "start_time": "2022-10-29T19:43:19.509677",
     "status": "completed"
    },
    "tags": []
   },
   "outputs": [],
   "source": [
    "input_ids = []\n",
    "attention_masks = []\n",
    "\n",
    "for text in text_data:\n",
    "    encoded_dict = tokenizer.encode_plus(\n",
    "                        text,                     \n",
    "                        add_special_tokens = True,\n",
    "                        max_length = 256,          \n",
    "                        pad_to_max_length = True,\n",
    "                        truncation=True,\n",
    "                        return_attention_mask = True,  \n",
    "                        return_tensors = 'pt')\n",
    "    input_ids.append(encoded_dict['input_ids'])\n",
    "    attention_masks.append(encoded_dict['attention_mask'])\n",
    "\n",
    "input_ids = torch.cat(input_ids, dim=0)\n",
    "attention_masks = torch.cat(attention_masks, dim=0)\n",
    "labels_tensor = torch.tensor(labels_data)"
   ]
  },
  {
   "cell_type": "markdown",
   "id": "6e220a74",
   "metadata": {
    "papermill": {
     "duration": 0.015279,
     "end_time": "2022-10-29T19:43:22.511684",
     "exception": false,
     "start_time": "2022-10-29T19:43:22.496405",
     "status": "completed"
    },
    "tags": []
   },
   "source": [
    "## Setting up Dataset and Model"
   ]
  },
  {
   "cell_type": "markdown",
   "id": "505be622",
   "metadata": {
    "papermill": {
     "duration": 0.015254,
     "end_time": "2022-10-29T19:43:22.541919",
     "exception": false,
     "start_time": "2022-10-29T19:43:22.526665",
     "status": "completed"
    },
    "tags": []
   },
   "source": [
    "Let's split our dataset into 3 parts: train set (80%), validation set (10%) and test set (10%) and create `DataLoader` for them"
   ]
  },
  {
   "cell_type": "code",
   "execution_count": 20,
   "id": "24311301",
   "metadata": {
    "execution": {
     "iopub.execute_input": "2022-10-29T19:43:22.575239Z",
     "iopub.status.busy": "2022-10-29T19:43:22.573569Z",
     "iopub.status.idle": "2022-10-29T19:43:22.583023Z",
     "shell.execute_reply": "2022-10-29T19:43:22.581489Z"
    },
    "id": "B29DjUkfFQPM",
    "outputId": "886921ec-67da-4a48-cd81-bdfd63f32f5a",
    "papermill": {
     "duration": 0.028617,
     "end_time": "2022-10-29T19:43:22.585757",
     "exception": false,
     "start_time": "2022-10-29T19:43:22.557140",
     "status": "completed"
    },
    "tags": []
   },
   "outputs": [
    {
     "name": "stdout",
     "output_type": "stream",
     "text": [
      "Total amount of samples : 2035\n",
      "Train set : 1628\n",
      "Validation set : 203\n",
      "Test set : 204\n"
     ]
    }
   ],
   "source": [
    "dataset = TensorDataset(input_ids, attention_masks, labels_tensor)\n",
    "train_size = int(0.8 * len(dataset))\n",
    "val_size = int(0.1 * len(dataset))\n",
    "test_size = len(dataset) - train_size - val_size\n",
    "\n",
    "train_dataset, test_dataset = random_split(dataset, [train_size + val_size, test_size])\n",
    "train_dataset, val_dataset = random_split(train_dataset, [train_size, val_size])\n",
    "\n",
    "print(f'Total amount of samples : {train_size + val_size + test_size}')\n",
    "print(f'Train set : {train_size}')\n",
    "print(f'Validation set : {val_size}')\n",
    "print(f'Test set : {test_size}')"
   ]
  },
  {
   "cell_type": "markdown",
   "id": "3506acd8",
   "metadata": {
    "papermill": {
     "duration": 0.015404,
     "end_time": "2022-10-29T19:43:22.617502",
     "exception": false,
     "start_time": "2022-10-29T19:43:22.602098",
     "status": "completed"
    },
    "tags": []
   },
   "source": [
    "Set the `batch_size` to 8 (16 or 32) and select batches randomly"
   ]
  },
  {
   "cell_type": "code",
   "execution_count": 21,
   "id": "d3a4a268",
   "metadata": {
    "execution": {
     "iopub.execute_input": "2022-10-29T19:43:22.649397Z",
     "iopub.status.busy": "2022-10-29T19:43:22.649074Z",
     "iopub.status.idle": "2022-10-29T19:43:22.654812Z",
     "shell.execute_reply": "2022-10-29T19:43:22.653889Z"
    },
    "papermill": {
     "duration": 0.024255,
     "end_time": "2022-10-29T19:43:22.656985",
     "exception": false,
     "start_time": "2022-10-29T19:43:22.632730",
     "status": "completed"
    },
    "tags": []
   },
   "outputs": [],
   "source": [
    "batch_size = 16"
   ]
  },
  {
   "cell_type": "code",
   "execution_count": 22,
   "id": "3a227c34",
   "metadata": {
    "execution": {
     "iopub.execute_input": "2022-10-29T19:43:22.689279Z",
     "iopub.status.busy": "2022-10-29T19:43:22.688970Z",
     "iopub.status.idle": "2022-10-29T19:43:22.694207Z",
     "shell.execute_reply": "2022-10-29T19:43:22.693229Z"
    },
    "id": "VGJJ6b7DFZEq",
    "papermill": {
     "duration": 0.023885,
     "end_time": "2022-10-29T19:43:22.696407",
     "exception": false,
     "start_time": "2022-10-29T19:43:22.672522",
     "status": "completed"
    },
    "tags": []
   },
   "outputs": [],
   "source": [
    "train_dataloader = DataLoader(\n",
    "            train_dataset,  \n",
    "            sampler = RandomSampler(train_dataset), \n",
    "            batch_size = batch_size)\n",
    "\n",
    "validation_dataloader = DataLoader(\n",
    "            val_dataset, \n",
    "            sampler = RandomSampler(val_dataset), \n",
    "            batch_size = batch_size)\n",
    "\n",
    "test_dataloader = DataLoader(\n",
    "            test_dataset, \n",
    "            sampler = RandomSampler(test_dataset), \n",
    "            batch_size = batch_size)"
   ]
  },
  {
   "cell_type": "markdown",
   "id": "629eeb5f",
   "metadata": {
    "papermill": {
     "duration": 0.015626,
     "end_time": "2022-10-29T19:43:22.727279",
     "exception": false,
     "start_time": "2022-10-29T19:43:22.711653",
     "status": "completed"
    },
    "tags": []
   },
   "source": [
    "We will use a little bit changed version of pretrained `DistilBert` model, that is adapted for classification -`DistilBertForSequenceClassification`. In our case we should set `num_labels` equal to 3 and `problem_type` equal to multi-label classification"
   ]
  },
  {
   "cell_type": "code",
   "execution_count": 23,
   "id": "ebdf15ab",
   "metadata": {
    "execution": {
     "iopub.execute_input": "2022-10-29T19:43:22.758721Z",
     "iopub.status.busy": "2022-10-29T19:43:22.758451Z",
     "iopub.status.idle": "2022-10-29T19:43:37.259199Z",
     "shell.execute_reply": "2022-10-29T19:43:37.257867Z"
    },
    "id": "HZ7uW-K0JaAB",
    "outputId": "5a90aed1-5327-498c-c3c2-8e971d78ba47",
    "papermill": {
     "duration": 14.519391,
     "end_time": "2022-10-29T19:43:37.261878",
     "exception": false,
     "start_time": "2022-10-29T19:43:22.742487",
     "status": "completed"
    },
    "tags": []
   },
   "outputs": [
    {
     "data": {
      "application/vnd.jupyter.widget-view+json": {
       "model_id": "76d7f6dd790a4968aada6ee9e0d16df4",
       "version_major": 2,
       "version_minor": 0
      },
      "text/plain": [
       "Downloading:   0%|          | 0.00/256M [00:00<?, ?B/s]"
      ]
     },
     "metadata": {},
     "output_type": "display_data"
    },
    {
     "name": "stderr",
     "output_type": "stream",
     "text": [
      "Some weights of the model checkpoint at distilbert-base-uncased were not used when initializing DistilBertForSequenceClassification: ['vocab_projector.bias', 'vocab_layer_norm.weight', 'vocab_transform.weight', 'vocab_transform.bias', 'vocab_projector.weight', 'vocab_layer_norm.bias']\n",
      "- This IS expected if you are initializing DistilBertForSequenceClassification from the checkpoint of a model trained on another task or with another architecture (e.g. initializing a BertForSequenceClassification model from a BertForPreTraining model).\n",
      "- This IS NOT expected if you are initializing DistilBertForSequenceClassification from the checkpoint of a model that you expect to be exactly identical (initializing a BertForSequenceClassification model from a BertForSequenceClassification model).\n",
      "Some weights of DistilBertForSequenceClassification were not initialized from the model checkpoint at distilbert-base-uncased and are newly initialized: ['pre_classifier.weight', 'pre_classifier.bias', 'classifier.weight', 'classifier.bias']\n",
      "You should probably TRAIN this model on a down-stream task to be able to use it for predictions and inference.\n"
     ]
    }
   ],
   "source": [
    "model = DistilBertForSequenceClassification.from_pretrained(\n",
    "    model_name,\n",
    "    problem_type=\"multi_label_classification\",\n",
    "    num_labels = 3, \n",
    "    output_attentions = False,\n",
    "    output_hidden_states = False, \n",
    ")"
   ]
  },
  {
   "cell_type": "code",
   "execution_count": 24,
   "id": "22c6f7c5",
   "metadata": {
    "execution": {
     "iopub.execute_input": "2022-10-29T19:43:37.300191Z",
     "iopub.status.busy": "2022-10-29T19:43:37.299875Z",
     "iopub.status.idle": "2022-10-29T19:43:43.339168Z",
     "shell.execute_reply": "2022-10-29T19:43:43.338096Z"
    },
    "papermill": {
     "duration": 6.060557,
     "end_time": "2022-10-29T19:43:43.341392",
     "exception": false,
     "start_time": "2022-10-29T19:43:37.280835",
     "status": "completed"
    },
    "tags": []
   },
   "outputs": [
    {
     "data": {
      "text/plain": [
       "DistilBertForSequenceClassification(\n",
       "  (distilbert): DistilBertModel(\n",
       "    (embeddings): Embeddings(\n",
       "      (word_embeddings): Embedding(30522, 768, padding_idx=0)\n",
       "      (position_embeddings): Embedding(512, 768)\n",
       "      (LayerNorm): LayerNorm((768,), eps=1e-12, elementwise_affine=True)\n",
       "      (dropout): Dropout(p=0.1, inplace=False)\n",
       "    )\n",
       "    (transformer): Transformer(\n",
       "      (layer): ModuleList(\n",
       "        (0): TransformerBlock(\n",
       "          (attention): MultiHeadSelfAttention(\n",
       "            (dropout): Dropout(p=0.1, inplace=False)\n",
       "            (q_lin): Linear(in_features=768, out_features=768, bias=True)\n",
       "            (k_lin): Linear(in_features=768, out_features=768, bias=True)\n",
       "            (v_lin): Linear(in_features=768, out_features=768, bias=True)\n",
       "            (out_lin): Linear(in_features=768, out_features=768, bias=True)\n",
       "          )\n",
       "          (sa_layer_norm): LayerNorm((768,), eps=1e-12, elementwise_affine=True)\n",
       "          (ffn): FFN(\n",
       "            (dropout): Dropout(p=0.1, inplace=False)\n",
       "            (lin1): Linear(in_features=768, out_features=3072, bias=True)\n",
       "            (lin2): Linear(in_features=3072, out_features=768, bias=True)\n",
       "            (activation): GELUActivation()\n",
       "          )\n",
       "          (output_layer_norm): LayerNorm((768,), eps=1e-12, elementwise_affine=True)\n",
       "        )\n",
       "        (1): TransformerBlock(\n",
       "          (attention): MultiHeadSelfAttention(\n",
       "            (dropout): Dropout(p=0.1, inplace=False)\n",
       "            (q_lin): Linear(in_features=768, out_features=768, bias=True)\n",
       "            (k_lin): Linear(in_features=768, out_features=768, bias=True)\n",
       "            (v_lin): Linear(in_features=768, out_features=768, bias=True)\n",
       "            (out_lin): Linear(in_features=768, out_features=768, bias=True)\n",
       "          )\n",
       "          (sa_layer_norm): LayerNorm((768,), eps=1e-12, elementwise_affine=True)\n",
       "          (ffn): FFN(\n",
       "            (dropout): Dropout(p=0.1, inplace=False)\n",
       "            (lin1): Linear(in_features=768, out_features=3072, bias=True)\n",
       "            (lin2): Linear(in_features=3072, out_features=768, bias=True)\n",
       "            (activation): GELUActivation()\n",
       "          )\n",
       "          (output_layer_norm): LayerNorm((768,), eps=1e-12, elementwise_affine=True)\n",
       "        )\n",
       "        (2): TransformerBlock(\n",
       "          (attention): MultiHeadSelfAttention(\n",
       "            (dropout): Dropout(p=0.1, inplace=False)\n",
       "            (q_lin): Linear(in_features=768, out_features=768, bias=True)\n",
       "            (k_lin): Linear(in_features=768, out_features=768, bias=True)\n",
       "            (v_lin): Linear(in_features=768, out_features=768, bias=True)\n",
       "            (out_lin): Linear(in_features=768, out_features=768, bias=True)\n",
       "          )\n",
       "          (sa_layer_norm): LayerNorm((768,), eps=1e-12, elementwise_affine=True)\n",
       "          (ffn): FFN(\n",
       "            (dropout): Dropout(p=0.1, inplace=False)\n",
       "            (lin1): Linear(in_features=768, out_features=3072, bias=True)\n",
       "            (lin2): Linear(in_features=3072, out_features=768, bias=True)\n",
       "            (activation): GELUActivation()\n",
       "          )\n",
       "          (output_layer_norm): LayerNorm((768,), eps=1e-12, elementwise_affine=True)\n",
       "        )\n",
       "        (3): TransformerBlock(\n",
       "          (attention): MultiHeadSelfAttention(\n",
       "            (dropout): Dropout(p=0.1, inplace=False)\n",
       "            (q_lin): Linear(in_features=768, out_features=768, bias=True)\n",
       "            (k_lin): Linear(in_features=768, out_features=768, bias=True)\n",
       "            (v_lin): Linear(in_features=768, out_features=768, bias=True)\n",
       "            (out_lin): Linear(in_features=768, out_features=768, bias=True)\n",
       "          )\n",
       "          (sa_layer_norm): LayerNorm((768,), eps=1e-12, elementwise_affine=True)\n",
       "          (ffn): FFN(\n",
       "            (dropout): Dropout(p=0.1, inplace=False)\n",
       "            (lin1): Linear(in_features=768, out_features=3072, bias=True)\n",
       "            (lin2): Linear(in_features=3072, out_features=768, bias=True)\n",
       "            (activation): GELUActivation()\n",
       "          )\n",
       "          (output_layer_norm): LayerNorm((768,), eps=1e-12, elementwise_affine=True)\n",
       "        )\n",
       "        (4): TransformerBlock(\n",
       "          (attention): MultiHeadSelfAttention(\n",
       "            (dropout): Dropout(p=0.1, inplace=False)\n",
       "            (q_lin): Linear(in_features=768, out_features=768, bias=True)\n",
       "            (k_lin): Linear(in_features=768, out_features=768, bias=True)\n",
       "            (v_lin): Linear(in_features=768, out_features=768, bias=True)\n",
       "            (out_lin): Linear(in_features=768, out_features=768, bias=True)\n",
       "          )\n",
       "          (sa_layer_norm): LayerNorm((768,), eps=1e-12, elementwise_affine=True)\n",
       "          (ffn): FFN(\n",
       "            (dropout): Dropout(p=0.1, inplace=False)\n",
       "            (lin1): Linear(in_features=768, out_features=3072, bias=True)\n",
       "            (lin2): Linear(in_features=3072, out_features=768, bias=True)\n",
       "            (activation): GELUActivation()\n",
       "          )\n",
       "          (output_layer_norm): LayerNorm((768,), eps=1e-12, elementwise_affine=True)\n",
       "        )\n",
       "        (5): TransformerBlock(\n",
       "          (attention): MultiHeadSelfAttention(\n",
       "            (dropout): Dropout(p=0.1, inplace=False)\n",
       "            (q_lin): Linear(in_features=768, out_features=768, bias=True)\n",
       "            (k_lin): Linear(in_features=768, out_features=768, bias=True)\n",
       "            (v_lin): Linear(in_features=768, out_features=768, bias=True)\n",
       "            (out_lin): Linear(in_features=768, out_features=768, bias=True)\n",
       "          )\n",
       "          (sa_layer_norm): LayerNorm((768,), eps=1e-12, elementwise_affine=True)\n",
       "          (ffn): FFN(\n",
       "            (dropout): Dropout(p=0.1, inplace=False)\n",
       "            (lin1): Linear(in_features=768, out_features=3072, bias=True)\n",
       "            (lin2): Linear(in_features=3072, out_features=768, bias=True)\n",
       "            (activation): GELUActivation()\n",
       "          )\n",
       "          (output_layer_norm): LayerNorm((768,), eps=1e-12, elementwise_affine=True)\n",
       "        )\n",
       "      )\n",
       "    )\n",
       "  )\n",
       "  (pre_classifier): Linear(in_features=768, out_features=768, bias=True)\n",
       "  (classifier): Linear(in_features=768, out_features=3, bias=True)\n",
       "  (dropout): Dropout(p=0.2, inplace=False)\n",
       ")"
      ]
     },
     "execution_count": 24,
     "metadata": {},
     "output_type": "execute_result"
    }
   ],
   "source": [
    "model.cuda()"
   ]
  },
  {
   "cell_type": "markdown",
   "id": "5145622c",
   "metadata": {
    "papermill": {
     "duration": 0.01564,
     "end_time": "2022-10-29T19:43:43.373244",
     "exception": false,
     "start_time": "2022-10-29T19:43:43.357604",
     "status": "completed"
    },
    "tags": []
   },
   "source": [
    "Let's specify *learning rate* for *AdamW* optimizer and *number of epochs*. We don't really need a lot of epochs, because we fine-tune our model, otherwise it will overfit and validation loss will start to increase noticeably. Different hyperparameters were tried, but epochs between $4-6$ are recommended and learning rate $\\in (1e-5;5e-5)$"
   ]
  },
  {
   "cell_type": "code",
   "execution_count": 25,
   "id": "d684c164",
   "metadata": {
    "execution": {
     "iopub.execute_input": "2022-10-29T19:43:43.406562Z",
     "iopub.status.busy": "2022-10-29T19:43:43.405585Z",
     "iopub.status.idle": "2022-10-29T19:43:43.410399Z",
     "shell.execute_reply": "2022-10-29T19:43:43.409502Z"
    },
    "papermill": {
     "duration": 0.023377,
     "end_time": "2022-10-29T19:43:43.412299",
     "exception": false,
     "start_time": "2022-10-29T19:43:43.388922",
     "status": "completed"
    },
    "tags": []
   },
   "outputs": [],
   "source": [
    "learning_rate = 2e-5"
   ]
  },
  {
   "cell_type": "code",
   "execution_count": 26,
   "id": "d4c2a22f",
   "metadata": {
    "execution": {
     "iopub.execute_input": "2022-10-29T19:43:43.446449Z",
     "iopub.status.busy": "2022-10-29T19:43:43.444706Z",
     "iopub.status.idle": "2022-10-29T19:43:43.452759Z",
     "shell.execute_reply": "2022-10-29T19:43:43.451873Z"
    },
    "id": "VRuZLqbdDa-z",
    "papermill": {
     "duration": 0.026579,
     "end_time": "2022-10-29T19:43:43.454795",
     "exception": false,
     "start_time": "2022-10-29T19:43:43.428216",
     "status": "completed"
    },
    "tags": []
   },
   "outputs": [],
   "source": [
    "optimizer = AdamW(model.parameters(),\n",
    "                  lr = learning_rate)"
   ]
  },
  {
   "cell_type": "code",
   "execution_count": 27,
   "id": "231b9d18",
   "metadata": {
    "execution": {
     "iopub.execute_input": "2022-10-29T19:43:43.489142Z",
     "iopub.status.busy": "2022-10-29T19:43:43.487555Z",
     "iopub.status.idle": "2022-10-29T19:43:43.492484Z",
     "shell.execute_reply": "2022-10-29T19:43:43.491614Z"
    },
    "papermill": {
     "duration": 0.023691,
     "end_time": "2022-10-29T19:43:43.494463",
     "exception": false,
     "start_time": "2022-10-29T19:43:43.470772",
     "status": "completed"
    },
    "tags": []
   },
   "outputs": [],
   "source": [
    "epochs = 5"
   ]
  },
  {
   "cell_type": "markdown",
   "id": "af7d5f36",
   "metadata": {
    "papermill": {
     "duration": 0.015913,
     "end_time": "2022-10-29T19:43:43.526281",
     "exception": false,
     "start_time": "2022-10-29T19:43:43.510368",
     "status": "completed"
    },
    "tags": []
   },
   "source": [
    "Also let's use linear scheduler to decrease the learning rate while training"
   ]
  },
  {
   "cell_type": "code",
   "execution_count": 28,
   "id": "a0519531",
   "metadata": {
    "execution": {
     "iopub.execute_input": "2022-10-29T19:43:43.560023Z",
     "iopub.status.busy": "2022-10-29T19:43:43.559046Z",
     "iopub.status.idle": "2022-10-29T19:43:43.564348Z",
     "shell.execute_reply": "2022-10-29T19:43:43.563439Z"
    },
    "id": "yeS63_9BFgLz",
    "papermill": {
     "duration": 0.024328,
     "end_time": "2022-10-29T19:43:43.566406",
     "exception": false,
     "start_time": "2022-10-29T19:43:43.542078",
     "status": "completed"
    },
    "tags": []
   },
   "outputs": [],
   "source": [
    "total_steps = len(train_dataloader) * epochs\n",
    "scheduler = get_linear_schedule_with_warmup(optimizer, \n",
    "                                            num_warmup_steps = 0,\n",
    "                                            num_training_steps = total_steps)"
   ]
  },
  {
   "cell_type": "markdown",
   "id": "92a6f666",
   "metadata": {
    "papermill": {
     "duration": 0.01564,
     "end_time": "2022-10-29T19:43:43.598009",
     "exception": false,
     "start_time": "2022-10-29T19:43:43.582369",
     "status": "completed"
    },
    "tags": []
   },
   "source": [
    "We will interpret output values as a probabilities vector after applying sigmoid function and splitting by `threshold=0.5` for each probability of label"
   ]
  },
  {
   "cell_type": "code",
   "execution_count": 29,
   "id": "d3e2d649",
   "metadata": {
    "execution": {
     "iopub.execute_input": "2022-10-29T19:43:43.631388Z",
     "iopub.status.busy": "2022-10-29T19:43:43.630602Z",
     "iopub.status.idle": "2022-10-29T19:43:43.649407Z",
     "shell.execute_reply": "2022-10-29T19:43:43.648335Z"
    },
    "papermill": {
     "duration": 0.037724,
     "end_time": "2022-10-29T19:43:43.651481",
     "exception": false,
     "start_time": "2022-10-29T19:43:43.613757",
     "status": "completed"
    },
    "tags": []
   },
   "outputs": [],
   "source": [
    "def get_probs(logits, threshold=0.5):\n",
    "    sigm = 1 / (1 + np.exp(-logits))\n",
    "    return sigm >= 0.5"
   ]
  },
  {
   "cell_type": "code",
   "execution_count": 30,
   "id": "51be682f",
   "metadata": {
    "execution": {
     "iopub.execute_input": "2022-10-29T19:43:43.685948Z",
     "iopub.status.busy": "2022-10-29T19:43:43.685009Z",
     "iopub.status.idle": "2022-10-29T19:43:43.691016Z",
     "shell.execute_reply": "2022-10-29T19:43:43.690200Z"
    },
    "papermill": {
     "duration": 0.025029,
     "end_time": "2022-10-29T19:43:43.692995",
     "exception": false,
     "start_time": "2022-10-29T19:43:43.667966",
     "status": "completed"
    },
    "tags": []
   },
   "outputs": [],
   "source": [
    "def flat_accuracy(preds, labels):\n",
    "    res = np.zeros(labels.shape[0])\n",
    "    for i in range(labels.shape[0]):\n",
    "        res[i] = np.all(preds[i] == labels[i]) \n",
    "    return np.sum(res) / labels.shape[0]"
   ]
  },
  {
   "cell_type": "code",
   "execution_count": 31,
   "id": "b23a1456",
   "metadata": {
    "execution": {
     "iopub.execute_input": "2022-10-29T19:43:43.727085Z",
     "iopub.status.busy": "2022-10-29T19:43:43.726079Z",
     "iopub.status.idle": "2022-10-29T19:43:43.731054Z",
     "shell.execute_reply": "2022-10-29T19:43:43.730187Z"
    },
    "papermill": {
     "duration": 0.024138,
     "end_time": "2022-10-29T19:43:43.733029",
     "exception": false,
     "start_time": "2022-10-29T19:43:43.708891",
     "status": "completed"
    },
    "tags": []
   },
   "outputs": [],
   "source": [
    "def compute_f1_macro(out, pred):\n",
    "    return metrics.f1_score(pred, out, average='macro')"
   ]
  },
  {
   "cell_type": "code",
   "execution_count": 32,
   "id": "24dff105",
   "metadata": {
    "execution": {
     "iopub.execute_input": "2022-10-29T19:43:43.766964Z",
     "iopub.status.busy": "2022-10-29T19:43:43.765944Z",
     "iopub.status.idle": "2022-10-29T19:43:43.771294Z",
     "shell.execute_reply": "2022-10-29T19:43:43.770425Z"
    },
    "papermill": {
     "duration": 0.024012,
     "end_time": "2022-10-29T19:43:43.773320",
     "exception": false,
     "start_time": "2022-10-29T19:43:43.749308",
     "status": "completed"
    },
    "tags": []
   },
   "outputs": [],
   "source": [
    "def compute_f1_micro(out, pred):\n",
    "    return metrics.f1_score(pred, out, average='micro')"
   ]
  },
  {
   "cell_type": "markdown",
   "id": "5fff8fc8",
   "metadata": {
    "papermill": {
     "duration": 0.015325,
     "end_time": "2022-10-29T19:43:43.804588",
     "exception": false,
     "start_time": "2022-10-29T19:43:43.789263",
     "status": "completed"
    },
    "tags": []
   },
   "source": [
    "## Training"
   ]
  },
  {
   "cell_type": "markdown",
   "id": "1e6e23b9",
   "metadata": {
    "papermill": {
     "duration": 0.015598,
     "end_time": "2022-10-29T19:43:43.836027",
     "exception": false,
     "start_time": "2022-10-29T19:43:43.820429",
     "status": "completed"
    },
    "tags": []
   },
   "source": [
    "Now we are ready to train our model, also we will evaluate our model on validation data after each epoch of training. We will compute the loss function (Binary Cross Entropy Loss) and metrics like accuracy and f1-score"
   ]
  },
  {
   "cell_type": "code",
   "execution_count": 33,
   "id": "281ab68a",
   "metadata": {
    "execution": {
     "iopub.execute_input": "2022-10-29T19:43:43.869727Z",
     "iopub.status.busy": "2022-10-29T19:43:43.869373Z",
     "iopub.status.idle": "2022-10-29T19:46:47.862651Z",
     "shell.execute_reply": "2022-10-29T19:46:47.860843Z"
    },
    "id": "WHGHDnsbFtMq",
    "outputId": "671f6cce-0ec5-406c-a94f-e8b70fcdffe9",
    "papermill": {
     "duration": 184.013921,
     "end_time": "2022-10-29T19:46:47.865878",
     "exception": false,
     "start_time": "2022-10-29T19:43:43.851957",
     "status": "completed"
    },
    "tags": []
   },
   "outputs": [
    {
     "name": "stdout",
     "output_type": "stream",
     "text": [
      "Training started...\n",
      "\n",
      "#-----------------------#\n",
      "     Epoch : 1 / 5\n",
      "#-----------------------#\n",
      "Average train loss : 0.561\n",
      "\n",
      "Validation started...\n",
      "\n",
      "Average validation loss : 0.363\n",
      "Average validation metrics:\n",
      "----------------\n",
      "Accuracy : 0.708\n",
      "f1-score micro : 0.835\n",
      "f1-score macro : 0.821\n",
      "\n",
      "#-----------------------#\n",
      "     Epoch : 2 / 5\n",
      "#-----------------------#\n",
      "Average train loss : 0.332\n",
      "\n",
      "Validation started...\n",
      "\n",
      "Average validation loss : 0.281\n",
      "Average validation metrics:\n",
      "----------------\n",
      "Accuracy : 0.748\n",
      "f1-score micro : 0.860\n",
      "f1-score macro : 0.829\n",
      "\n",
      "#-----------------------#\n",
      "     Epoch : 3 / 5\n",
      "#-----------------------#\n",
      "Average train loss : 0.268\n",
      "\n",
      "Validation started...\n",
      "\n",
      "Average validation loss : 0.263\n",
      "Average validation metrics:\n",
      "----------------\n",
      "Accuracy : 0.741\n",
      "f1-score micro : 0.866\n",
      "f1-score macro : 0.852\n",
      "\n",
      "#-----------------------#\n",
      "     Epoch : 4 / 5\n",
      "#-----------------------#\n",
      "Average train loss : 0.225\n",
      "\n",
      "Validation started...\n",
      "\n",
      "Average validation loss : 0.256\n",
      "Average validation metrics:\n",
      "----------------\n",
      "Accuracy : 0.758\n",
      "f1-score micro : 0.865\n",
      "f1-score macro : 0.831\n",
      "\n",
      "#-----------------------#\n",
      "     Epoch : 5 / 5\n",
      "#-----------------------#\n",
      "Average train loss : 0.200\n",
      "\n",
      "Validation started...\n",
      "\n",
      "Average validation loss : 0.254\n",
      "Average validation metrics:\n",
      "----------------\n",
      "Accuracy : 0.751\n",
      "f1-score micro : 0.873\n",
      "f1-score macro : 0.860\n",
      "\n",
      "Training finished...\n"
     ]
    }
   ],
   "source": [
    "print('Training started...')\n",
    "\n",
    "np.random.seed(42)\n",
    "random.seed(42)\n",
    "torch.manual_seed(42)\n",
    "torch.cuda.manual_seed_all(42)\n",
    "\n",
    "training_stats = []\n",
    "    \n",
    "for epoch_i in range(epochs):\n",
    "    print()\n",
    "    print('#-----------------------#')\n",
    "    print(f'     Epoch : {epoch_i + 1} / {epochs}')\n",
    "    print('#-----------------------#')\n",
    "\n",
    "    model.train()\n",
    "    total_train_loss = 0\n",
    "        \n",
    "    for step, batch in enumerate(train_dataloader):\n",
    "        batch_input_ids = batch[0].to(device)\n",
    "        batch_input_mask = batch[1].to(device)\n",
    "        batch_labels = batch[2].float().to(device)\n",
    "\n",
    "        model.zero_grad()        \n",
    "            \n",
    "        result = model(batch_input_ids, \n",
    "                        attention_mask=batch_input_mask, \n",
    "                        labels=batch_labels,\n",
    "                        return_dict=True)\n",
    "        loss = result.loss\n",
    "        logits = result.logits\n",
    "\n",
    "        total_train_loss += loss.item()\n",
    "\n",
    "        loss.backward()\n",
    "        torch.nn.utils.clip_grad_norm_(model.parameters(), 1.0)\n",
    "\n",
    "        optimizer.step()\n",
    "        scheduler.step()\n",
    "\n",
    "    avg_train_loss = total_train_loss / len(train_dataloader)            \n",
    "\n",
    "    print(f'Average train loss : {avg_train_loss:.3f}')\n",
    "    print()\n",
    "    print('Validation started...')\n",
    "    print()\n",
    "\n",
    "    model.eval()\n",
    "\n",
    "    total_eval_accuracy = 0\n",
    "    total_eval_loss = 0\n",
    "    total_eval_f1_micro = 0\n",
    "    total_eval_f1_macro = 0\n",
    "    nb_eval_steps = 0\n",
    "\n",
    "    for batch in validation_dataloader:\n",
    "        batch_input_ids = batch[0].to(device)\n",
    "        batch_input_mask = batch[1].to(device)\n",
    "        batch_labels = batch[2].float().to(device)\n",
    "\n",
    "        with torch.no_grad():        \n",
    "            result = model(batch_input_ids, \n",
    "                            attention_mask=batch_input_mask,\n",
    "                            labels=batch_labels,\n",
    "                            return_dict=True)\n",
    "\n",
    "        loss = result.loss\n",
    "        logits = result.logits\n",
    "\n",
    "        total_eval_loss += loss.item()\n",
    "\n",
    "        logits = logits.detach().cpu().numpy()\n",
    "        label_ids = batch_labels.to('cpu').numpy()\n",
    "\n",
    "        total_eval_f1_micro += compute_f1_micro(get_probs(logits), label_ids)\n",
    "        total_eval_f1_macro += compute_f1_macro(get_probs(logits), label_ids)\n",
    "        total_eval_accuracy += flat_accuracy(get_probs(logits), label_ids)\n",
    "\n",
    "    avg_val_accuracy = total_eval_accuracy / len(validation_dataloader)\n",
    "    avg_val_f1_micro = total_eval_f1_micro / len(validation_dataloader)\n",
    "    avg_val_f1_macro = total_eval_f1_macro / len(validation_dataloader)\n",
    "    avg_val_loss = total_eval_loss / len(validation_dataloader)\n",
    "    \n",
    "    print(f'Average validation loss : {avg_val_loss:.3f}')\n",
    "    print('Average validation metrics:')\n",
    "    print('----------------')\n",
    "    print(f'Accuracy : {avg_val_accuracy:.3f}')\n",
    "    print(f'f1-score micro : {avg_val_f1_micro:.3f}')\n",
    "    print(f'f1-score macro : {avg_val_f1_macro:.3f}')\n",
    "\n",
    "    training_stats.append(\n",
    "            {\n",
    "                'epoch': epoch_i + 1,\n",
    "                'train_loss': avg_train_loss,\n",
    "                'valid_loss': avg_val_loss,\n",
    "                'val_accuracy': avg_val_accuracy,\n",
    "                'val_f1_micro' : avg_val_f1_micro,\n",
    "                'val_f1_macro' : avg_val_f1_macro\n",
    "})\n",
    "    \n",
    "print()\n",
    "print('Training finished...')"
   ]
  },
  {
   "cell_type": "markdown",
   "id": "17ef99fd",
   "metadata": {
    "papermill": {
     "duration": 0.016266,
     "end_time": "2022-10-29T19:46:47.900334",
     "exception": false,
     "start_time": "2022-10-29T19:46:47.884068",
     "status": "completed"
    },
    "tags": []
   },
   "source": [
    "Visualizing stats after training"
   ]
  },
  {
   "cell_type": "code",
   "execution_count": 34,
   "id": "4a52df90",
   "metadata": {
    "execution": {
     "iopub.execute_input": "2022-10-29T19:46:47.934289Z",
     "iopub.status.busy": "2022-10-29T19:46:47.933946Z",
     "iopub.status.idle": "2022-10-29T19:46:47.941412Z",
     "shell.execute_reply": "2022-10-29T19:46:47.940556Z"
    },
    "papermill": {
     "duration": 0.026624,
     "end_time": "2022-10-29T19:46:47.943396",
     "exception": false,
     "start_time": "2022-10-29T19:46:47.916772",
     "status": "completed"
    },
    "tags": []
   },
   "outputs": [],
   "source": [
    "train_loss = [i['train_loss'] for i in training_stats]\n",
    "val_loss = [i['valid_loss'] for i in training_stats]\n",
    "epochs = [i['epoch'] for i in training_stats]\n",
    "val_acc = [i['val_accuracy'] for i in training_stats]\n",
    "val_f1_micro = [i['val_f1_micro'] for i in training_stats]\n",
    "val_f1_macro = [i['val_f1_macro'] for i in training_stats]\n",
    "loss_stats = pd.DataFrame({\n",
    "    'epoch' : epochs,\n",
    "    'train_loss' : train_loss,\n",
    "    'val_loss' : val_loss,\n",
    "    'val_accuracy' : val_acc,\n",
    "    'val_f1_micro' : val_f1_micro,\n",
    "    'val_f1_macro' : val_f1_macro\n",
    "})"
   ]
  },
  {
   "cell_type": "code",
   "execution_count": 35,
   "id": "ed57b05b",
   "metadata": {
    "execution": {
     "iopub.execute_input": "2022-10-29T19:46:47.977436Z",
     "iopub.status.busy": "2022-10-29T19:46:47.976622Z",
     "iopub.status.idle": "2022-10-29T19:46:47.988951Z",
     "shell.execute_reply": "2022-10-29T19:46:47.988012Z"
    },
    "papermill": {
     "duration": 0.031299,
     "end_time": "2022-10-29T19:46:47.990895",
     "exception": false,
     "start_time": "2022-10-29T19:46:47.959596",
     "status": "completed"
    },
    "tags": []
   },
   "outputs": [
    {
     "data": {
      "text/html": [
       "   <div id=\"ChHhpH\"></div>\n",
       "   <script type=\"text/javascript\" data-lets-plot-script=\"plot\">\n",
       "       (function() {\n",
       "           var plotSpec={\n",
       "\"kind\":\"ggbunch\",\n",
       "\"items\":[{\n",
       "\"x\":100,\n",
       "\"y\":0,\n",
       "\"width\":null,\n",
       "\"height\":null,\n",
       "\"feature_spec\":{\n",
       "\"data\":{\n",
       "\"epoch\":[1.0,2.0,3.0,4.0,5.0],\n",
       "\"train_loss\":[0.561056424589718,0.3321293605601086,0.26751792810711206,0.22484971385668306,0.19968786032176486]\n",
       "},\n",
       "\"mapping\":{\n",
       "},\n",
       "\"data_meta\":{\n",
       "},\n",
       "\"ggsize\":{\n",
       "\"width\":500,\n",
       "\"height\":400\n",
       "},\n",
       "\"ggtitle\":{\n",
       "\"text\":\"Average Train Loss\"\n",
       "},\n",
       "\"kind\":\"plot\",\n",
       "\"scales\":[],\n",
       "\"layers\":[{\n",
       "\"geom\":\"path\",\n",
       "\"mapping\":{\n",
       "\"x\":\"epoch\",\n",
       "\"y\":\"train_loss\"\n",
       "},\n",
       "\"data_meta\":{\n",
       "},\n",
       "\"size\":1.3,\n",
       "\"color\":\"blue\",\n",
       "\"data\":{\n",
       "}\n",
       "}],\n",
       "\"metainfo_list\":[]\n",
       "}\n",
       "},{\n",
       "\"x\":700,\n",
       "\"y\":0,\n",
       "\"width\":null,\n",
       "\"height\":null,\n",
       "\"feature_spec\":{\n",
       "\"data\":{\n",
       "\"epoch\":[1.0,2.0,3.0,4.0,5.0],\n",
       "\"val_loss\":[0.3626290697317857,0.2807042976984611,0.2628629734882942,0.25643114287119645,0.2537946391564149]\n",
       "},\n",
       "\"mapping\":{\n",
       "},\n",
       "\"data_meta\":{\n",
       "},\n",
       "\"ggsize\":{\n",
       "\"width\":500,\n",
       "\"height\":400\n",
       "},\n",
       "\"ggtitle\":{\n",
       "\"text\":\"Average Validation Loss\"\n",
       "},\n",
       "\"kind\":\"plot\",\n",
       "\"scales\":[],\n",
       "\"layers\":[{\n",
       "\"geom\":\"path\",\n",
       "\"mapping\":{\n",
       "\"x\":\"epoch\",\n",
       "\"y\":\"val_loss\"\n",
       "},\n",
       "\"data_meta\":{\n",
       "},\n",
       "\"size\":1.3,\n",
       "\"color\":\"red\",\n",
       "\"data\":{\n",
       "}\n",
       "}],\n",
       "\"metainfo_list\":[]\n",
       "}\n",
       "}]\n",
       "};\n",
       "           var plotContainer = document.getElementById(\"ChHhpH\");\n",
       "           window.letsPlotCall(function() {{\n",
       "               LetsPlot.buildPlotFromProcessedSpecs(plotSpec, -1, -1, plotContainer);\n",
       "           }});\n",
       "       })();    \n",
       "   </script>"
      ]
     },
     "metadata": {},
     "output_type": "display_data"
    }
   ],
   "source": [
    "bunch = GGBunch()\n",
    "plot = ggplot(loss_stats) + geom_path(aes('epoch', 'train_loss'), size=1.3, color='blue') + ggsize(500, 400) + ggtitle('Average Train Loss')\n",
    "bunch.add_plot(plot, 100, 0)\n",
    "plot = ggplot(loss_stats) + geom_path(aes('epoch', 'val_loss'), size=1.3, color='red') + ggsize(500, 400) + ggtitle('Average Validation Loss')\n",
    "bunch.add_plot(plot, 700, 0)\n",
    "bunch.show()"
   ]
  },
  {
   "cell_type": "markdown",
   "id": "f2a3de56",
   "metadata": {
    "papermill": {
     "duration": 0.015706,
     "end_time": "2022-10-29T19:46:48.022959",
     "exception": false,
     "start_time": "2022-10-29T19:46:48.007253",
     "status": "completed"
    },
    "tags": []
   },
   "source": [
    "Analyzing computed information, training loss is decreasing. Validation loss is also not that high, so we can make an assumption about our model generalization ability"
   ]
  },
  {
   "cell_type": "code",
   "execution_count": 36,
   "id": "23172453",
   "metadata": {
    "execution": {
     "iopub.execute_input": "2022-10-29T19:46:48.057391Z",
     "iopub.status.busy": "2022-10-29T19:46:48.056557Z",
     "iopub.status.idle": "2022-10-29T19:46:48.066348Z",
     "shell.execute_reply": "2022-10-29T19:46:48.065396Z"
    },
    "papermill": {
     "duration": 0.028915,
     "end_time": "2022-10-29T19:46:48.068289",
     "exception": false,
     "start_time": "2022-10-29T19:46:48.039374",
     "status": "completed"
    },
    "tags": []
   },
   "outputs": [
    {
     "data": {
      "text/html": [
       "   <div id=\"0Qnk1M\"></div>\n",
       "   <script type=\"text/javascript\" data-lets-plot-script=\"plot\">\n",
       "       (function() {\n",
       "           var plotSpec={\n",
       "\"data\":{\n",
       "\"epoch\":[1.0,2.0,3.0,4.0,5.0],\n",
       "\"val_accuracy\":[0.7080419580419581,0.7478146853146852,0.7408216783216783,0.7578671328671328,0.7513111888111889]\n",
       "},\n",
       "\"mapping\":{\n",
       "},\n",
       "\"data_meta\":{\n",
       "},\n",
       "\"ggtitle\":{\n",
       "\"text\":\"Average Validation Accuracy\"\n",
       "},\n",
       "\"ggsize\":{\n",
       "\"width\":500,\n",
       "\"height\":400\n",
       "},\n",
       "\"kind\":\"plot\",\n",
       "\"scales\":[],\n",
       "\"layers\":[{\n",
       "\"geom\":\"line\",\n",
       "\"mapping\":{\n",
       "\"x\":\"epoch\",\n",
       "\"y\":\"val_accuracy\"\n",
       "},\n",
       "\"data_meta\":{\n",
       "},\n",
       "\"size\":1.3,\n",
       "\"color\":\"green\",\n",
       "\"data\":{\n",
       "}\n",
       "}],\n",
       "\"metainfo_list\":[]\n",
       "};\n",
       "           var plotContainer = document.getElementById(\"0Qnk1M\");\n",
       "           window.letsPlotCall(function() {{\n",
       "               LetsPlot.buildPlotFromProcessedSpecs(plotSpec, -1, -1, plotContainer);\n",
       "           }});\n",
       "       })();    \n",
       "   </script>"
      ],
      "text/plain": [
       "<lets_plot.plot.core.PlotSpec at 0x7ff26e7bdc10>"
      ]
     },
     "execution_count": 36,
     "metadata": {},
     "output_type": "execute_result"
    }
   ],
   "source": [
    "ggplot(loss_stats) + \\\n",
    "    geom_line(aes(x='epoch', y='val_accuracy'), size=1.3, color='green') + \\\n",
    "    ggtitle(\"Average Validation Accuracy\") + ggsize(500, 400)"
   ]
  },
  {
   "cell_type": "markdown",
   "id": "918dd6cf",
   "metadata": {
    "papermill": {
     "duration": 0.015985,
     "end_time": "2022-10-29T19:46:48.100595",
     "exception": false,
     "start_time": "2022-10-29T19:46:48.084610",
     "status": "completed"
    },
    "tags": []
   },
   "source": [
    "We use article authors' approach to evaluate our model with F1-score. Below is f1-micro (dashed) and f1-macro visualization, these scores are quite sufficient"
   ]
  },
  {
   "cell_type": "code",
   "execution_count": 37,
   "id": "8e7c9139",
   "metadata": {
    "execution": {
     "iopub.execute_input": "2022-10-29T19:46:48.134121Z",
     "iopub.status.busy": "2022-10-29T19:46:48.133854Z",
     "iopub.status.idle": "2022-10-29T19:46:48.147492Z",
     "shell.execute_reply": "2022-10-29T19:46:48.146493Z"
    },
    "papermill": {
     "duration": 0.032779,
     "end_time": "2022-10-29T19:46:48.149428",
     "exception": false,
     "start_time": "2022-10-29T19:46:48.116649",
     "status": "completed"
    },
    "tags": []
   },
   "outputs": [
    {
     "data": {
      "text/html": [
       "   <div id=\"DUD5Ax\"></div>\n",
       "   <script type=\"text/javascript\" data-lets-plot-script=\"plot\">\n",
       "       (function() {\n",
       "           var plotSpec={\n",
       "\"data\":{\n",
       "\"epoch\":[1.0,2.0,3.0,4.0,5.0],\n",
       "\"val_f1_micro\":[0.8346561697954886,0.859626879131523,0.8663795699108986,0.8649945864877993,0.8726678635881157],\n",
       "\"val_f1_macro\":[0.8210473030039284,0.8288263056481681,0.8519475722696986,0.8307539588916106,0.8595933235525997]\n",
       "},\n",
       "\"mapping\":{\n",
       "},\n",
       "\"data_meta\":{\n",
       "},\n",
       "\"ggtitle\":{\n",
       "\"text\":\"Average Validation F1-Score\"\n",
       "},\n",
       "\"ggsize\":{\n",
       "\"width\":500,\n",
       "\"height\":400\n",
       "},\n",
       "\"kind\":\"plot\",\n",
       "\"scales\":[],\n",
       "\"layers\":[{\n",
       "\"geom\":\"line\",\n",
       "\"mapping\":{\n",
       "\"x\":\"epoch\",\n",
       "\"y\":\"val_f1_micro\"\n",
       "},\n",
       "\"data_meta\":{\n",
       "},\n",
       "\"size\":1.3,\n",
       "\"color\":\"orange\",\n",
       "\"linetype\":\"dashed\",\n",
       "\"data\":{\n",
       "}\n",
       "},{\n",
       "\"geom\":\"line\",\n",
       "\"mapping\":{\n",
       "\"x\":\"epoch\",\n",
       "\"y\":\"val_f1_macro\"\n",
       "},\n",
       "\"data_meta\":{\n",
       "},\n",
       "\"size\":1.3,\n",
       "\"color\":\"pink\",\n",
       "\"data\":{\n",
       "}\n",
       "}],\n",
       "\"metainfo_list\":[]\n",
       "};\n",
       "           var plotContainer = document.getElementById(\"DUD5Ax\");\n",
       "           window.letsPlotCall(function() {{\n",
       "               LetsPlot.buildPlotFromProcessedSpecs(plotSpec, -1, -1, plotContainer);\n",
       "           }});\n",
       "       })();    \n",
       "   </script>"
      ],
      "text/plain": [
       "<lets_plot.plot.core.PlotSpec at 0x7ff26ec21910>"
      ]
     },
     "execution_count": 37,
     "metadata": {},
     "output_type": "execute_result"
    }
   ],
   "source": [
    "ggplot(loss_stats) + \\\n",
    "    geom_line(aes(x='epoch', y='val_f1_micro'), size=1.3, color='orange', linetype = \"dashed\") + \\\n",
    "    geom_line(aes(x='epoch', y='val_f1_macro'), size=1.3, color='pink') + \\\n",
    "    ggtitle(\"Average Validation F1-Score\") + ggsize(500, 400)"
   ]
  },
  {
   "cell_type": "markdown",
   "id": "ed29b535",
   "metadata": {
    "papermill": {
     "duration": 0.016389,
     "end_time": "2022-10-29T19:46:48.183013",
     "exception": false,
     "start_time": "2022-10-29T19:46:48.166624",
     "status": "completed"
    },
    "tags": []
   },
   "source": [
    "## Testing"
   ]
  },
  {
   "cell_type": "markdown",
   "id": "7bf85d2f",
   "metadata": {
    "papermill": {
     "duration": 0.016222,
     "end_time": "2022-10-29T19:46:48.215608",
     "exception": false,
     "start_time": "2022-10-29T19:46:48.199386",
     "status": "completed"
    },
    "tags": []
   },
   "source": [
    "Now let's use our hold-out test data from original dataset and evaluate our model"
   ]
  },
  {
   "cell_type": "code",
   "execution_count": 38,
   "id": "3e76c6a4",
   "metadata": {
    "execution": {
     "iopub.execute_input": "2022-10-29T19:46:48.250424Z",
     "iopub.status.busy": "2022-10-29T19:46:48.249561Z",
     "iopub.status.idle": "2022-10-29T19:46:48.257351Z",
     "shell.execute_reply": "2022-10-29T19:46:48.256486Z"
    },
    "papermill": {
     "duration": 0.027262,
     "end_time": "2022-10-29T19:46:48.259297",
     "exception": false,
     "start_time": "2022-10-29T19:46:48.232035",
     "status": "completed"
    },
    "tags": []
   },
   "outputs": [
    {
     "data": {
      "text/plain": [
       "DistilBertForSequenceClassification(\n",
       "  (distilbert): DistilBertModel(\n",
       "    (embeddings): Embeddings(\n",
       "      (word_embeddings): Embedding(30522, 768, padding_idx=0)\n",
       "      (position_embeddings): Embedding(512, 768)\n",
       "      (LayerNorm): LayerNorm((768,), eps=1e-12, elementwise_affine=True)\n",
       "      (dropout): Dropout(p=0.1, inplace=False)\n",
       "    )\n",
       "    (transformer): Transformer(\n",
       "      (layer): ModuleList(\n",
       "        (0): TransformerBlock(\n",
       "          (attention): MultiHeadSelfAttention(\n",
       "            (dropout): Dropout(p=0.1, inplace=False)\n",
       "            (q_lin): Linear(in_features=768, out_features=768, bias=True)\n",
       "            (k_lin): Linear(in_features=768, out_features=768, bias=True)\n",
       "            (v_lin): Linear(in_features=768, out_features=768, bias=True)\n",
       "            (out_lin): Linear(in_features=768, out_features=768, bias=True)\n",
       "          )\n",
       "          (sa_layer_norm): LayerNorm((768,), eps=1e-12, elementwise_affine=True)\n",
       "          (ffn): FFN(\n",
       "            (dropout): Dropout(p=0.1, inplace=False)\n",
       "            (lin1): Linear(in_features=768, out_features=3072, bias=True)\n",
       "            (lin2): Linear(in_features=3072, out_features=768, bias=True)\n",
       "            (activation): GELUActivation()\n",
       "          )\n",
       "          (output_layer_norm): LayerNorm((768,), eps=1e-12, elementwise_affine=True)\n",
       "        )\n",
       "        (1): TransformerBlock(\n",
       "          (attention): MultiHeadSelfAttention(\n",
       "            (dropout): Dropout(p=0.1, inplace=False)\n",
       "            (q_lin): Linear(in_features=768, out_features=768, bias=True)\n",
       "            (k_lin): Linear(in_features=768, out_features=768, bias=True)\n",
       "            (v_lin): Linear(in_features=768, out_features=768, bias=True)\n",
       "            (out_lin): Linear(in_features=768, out_features=768, bias=True)\n",
       "          )\n",
       "          (sa_layer_norm): LayerNorm((768,), eps=1e-12, elementwise_affine=True)\n",
       "          (ffn): FFN(\n",
       "            (dropout): Dropout(p=0.1, inplace=False)\n",
       "            (lin1): Linear(in_features=768, out_features=3072, bias=True)\n",
       "            (lin2): Linear(in_features=3072, out_features=768, bias=True)\n",
       "            (activation): GELUActivation()\n",
       "          )\n",
       "          (output_layer_norm): LayerNorm((768,), eps=1e-12, elementwise_affine=True)\n",
       "        )\n",
       "        (2): TransformerBlock(\n",
       "          (attention): MultiHeadSelfAttention(\n",
       "            (dropout): Dropout(p=0.1, inplace=False)\n",
       "            (q_lin): Linear(in_features=768, out_features=768, bias=True)\n",
       "            (k_lin): Linear(in_features=768, out_features=768, bias=True)\n",
       "            (v_lin): Linear(in_features=768, out_features=768, bias=True)\n",
       "            (out_lin): Linear(in_features=768, out_features=768, bias=True)\n",
       "          )\n",
       "          (sa_layer_norm): LayerNorm((768,), eps=1e-12, elementwise_affine=True)\n",
       "          (ffn): FFN(\n",
       "            (dropout): Dropout(p=0.1, inplace=False)\n",
       "            (lin1): Linear(in_features=768, out_features=3072, bias=True)\n",
       "            (lin2): Linear(in_features=3072, out_features=768, bias=True)\n",
       "            (activation): GELUActivation()\n",
       "          )\n",
       "          (output_layer_norm): LayerNorm((768,), eps=1e-12, elementwise_affine=True)\n",
       "        )\n",
       "        (3): TransformerBlock(\n",
       "          (attention): MultiHeadSelfAttention(\n",
       "            (dropout): Dropout(p=0.1, inplace=False)\n",
       "            (q_lin): Linear(in_features=768, out_features=768, bias=True)\n",
       "            (k_lin): Linear(in_features=768, out_features=768, bias=True)\n",
       "            (v_lin): Linear(in_features=768, out_features=768, bias=True)\n",
       "            (out_lin): Linear(in_features=768, out_features=768, bias=True)\n",
       "          )\n",
       "          (sa_layer_norm): LayerNorm((768,), eps=1e-12, elementwise_affine=True)\n",
       "          (ffn): FFN(\n",
       "            (dropout): Dropout(p=0.1, inplace=False)\n",
       "            (lin1): Linear(in_features=768, out_features=3072, bias=True)\n",
       "            (lin2): Linear(in_features=3072, out_features=768, bias=True)\n",
       "            (activation): GELUActivation()\n",
       "          )\n",
       "          (output_layer_norm): LayerNorm((768,), eps=1e-12, elementwise_affine=True)\n",
       "        )\n",
       "        (4): TransformerBlock(\n",
       "          (attention): MultiHeadSelfAttention(\n",
       "            (dropout): Dropout(p=0.1, inplace=False)\n",
       "            (q_lin): Linear(in_features=768, out_features=768, bias=True)\n",
       "            (k_lin): Linear(in_features=768, out_features=768, bias=True)\n",
       "            (v_lin): Linear(in_features=768, out_features=768, bias=True)\n",
       "            (out_lin): Linear(in_features=768, out_features=768, bias=True)\n",
       "          )\n",
       "          (sa_layer_norm): LayerNorm((768,), eps=1e-12, elementwise_affine=True)\n",
       "          (ffn): FFN(\n",
       "            (dropout): Dropout(p=0.1, inplace=False)\n",
       "            (lin1): Linear(in_features=768, out_features=3072, bias=True)\n",
       "            (lin2): Linear(in_features=3072, out_features=768, bias=True)\n",
       "            (activation): GELUActivation()\n",
       "          )\n",
       "          (output_layer_norm): LayerNorm((768,), eps=1e-12, elementwise_affine=True)\n",
       "        )\n",
       "        (5): TransformerBlock(\n",
       "          (attention): MultiHeadSelfAttention(\n",
       "            (dropout): Dropout(p=0.1, inplace=False)\n",
       "            (q_lin): Linear(in_features=768, out_features=768, bias=True)\n",
       "            (k_lin): Linear(in_features=768, out_features=768, bias=True)\n",
       "            (v_lin): Linear(in_features=768, out_features=768, bias=True)\n",
       "            (out_lin): Linear(in_features=768, out_features=768, bias=True)\n",
       "          )\n",
       "          (sa_layer_norm): LayerNorm((768,), eps=1e-12, elementwise_affine=True)\n",
       "          (ffn): FFN(\n",
       "            (dropout): Dropout(p=0.1, inplace=False)\n",
       "            (lin1): Linear(in_features=768, out_features=3072, bias=True)\n",
       "            (lin2): Linear(in_features=3072, out_features=768, bias=True)\n",
       "            (activation): GELUActivation()\n",
       "          )\n",
       "          (output_layer_norm): LayerNorm((768,), eps=1e-12, elementwise_affine=True)\n",
       "        )\n",
       "      )\n",
       "    )\n",
       "  )\n",
       "  (pre_classifier): Linear(in_features=768, out_features=768, bias=True)\n",
       "  (classifier): Linear(in_features=768, out_features=3, bias=True)\n",
       "  (dropout): Dropout(p=0.2, inplace=False)\n",
       ")"
      ]
     },
     "execution_count": 38,
     "metadata": {},
     "output_type": "execute_result"
    }
   ],
   "source": [
    "model.eval()"
   ]
  },
  {
   "cell_type": "code",
   "execution_count": 39,
   "id": "229e32b4",
   "metadata": {
    "execution": {
     "iopub.execute_input": "2022-10-29T19:46:48.294345Z",
     "iopub.status.busy": "2022-10-29T19:46:48.293521Z",
     "iopub.status.idle": "2022-10-29T19:46:49.925603Z",
     "shell.execute_reply": "2022-10-29T19:46:49.924392Z"
    },
    "papermill": {
     "duration": 1.653593,
     "end_time": "2022-10-29T19:46:49.929616",
     "exception": false,
     "start_time": "2022-10-29T19:46:48.276023",
     "status": "completed"
    },
    "tags": []
   },
   "outputs": [
    {
     "name": "stdout",
     "output_type": "stream",
     "text": [
      "Testing started...\n",
      "\n",
      "Test metrics:\n",
      "----------------------\n",
      "Accuracy : 0.7564\n",
      "f1-score micro : 0.8473\n",
      "f1-score macro : 0.8301\n",
      "\n",
      "Testing finished...\n"
     ]
    }
   ],
   "source": [
    "print('Testing started...')\n",
    "print()\n",
    "\n",
    "total_test_accuracy = 0\n",
    "total_test_f1_micro = 0\n",
    "total_test_f1_macro = 0\n",
    "\n",
    "for batch in test_dataloader:\n",
    "    batch_input_ids = batch[0].to(device)\n",
    "    batch_input_mask = batch[1].to(device)\n",
    "    batch_labels = batch[2].float().to(device)\n",
    "\n",
    "    with torch.no_grad():        \n",
    "        outputs = model(batch_input_ids, \n",
    "                        attention_mask=batch_input_mask,\n",
    "                        labels=batch_labels)\n",
    "\n",
    "    logits = outputs.logits\n",
    "    logits = logits.detach().cpu().numpy()\n",
    "    label_ids = batch_labels.to('cpu').numpy()\n",
    "    \n",
    "    total_test_f1_micro += compute_f1_micro(get_probs(logits), label_ids)\n",
    "    total_test_f1_macro += compute_f1_macro(get_probs(logits), label_ids)\n",
    "    total_test_accuracy += flat_accuracy(get_probs(logits), label_ids)\n",
    "    \n",
    "avg_test_accuracy = total_test_accuracy / len(test_dataloader)\n",
    "avg_test_f1_micro = total_test_f1_micro / len(test_dataloader)\n",
    "avg_test_f1_macro = total_test_f1_macro / len(test_dataloader)\n",
    "\n",
    "print('Test metrics:')\n",
    "print('----------------------')\n",
    "print(f'Accuracy : {avg_test_accuracy:.4f}')\n",
    "print(f'f1-score micro : {avg_test_f1_micro:.4f}')\n",
    "print(f'f1-score macro : {avg_test_f1_macro:.4f}')\n",
    "\n",
    "print()\n",
    "print(\"Testing finished...\")"
   ]
  },
  {
   "cell_type": "markdown",
   "id": "cd436908",
   "metadata": {
    "_kg_hide-input": true,
    "papermill": {
     "duration": 0.017612,
     "end_time": "2022-10-29T19:46:49.967532",
     "exception": false,
     "start_time": "2022-10-29T19:46:49.949920",
     "status": "completed"
    },
    "tags": []
   },
   "source": [
    "## Saving"
   ]
  },
  {
   "cell_type": "markdown",
   "id": "c05abfdb",
   "metadata": {
    "papermill": {
     "duration": 0.016877,
     "end_time": "2022-10-29T19:46:50.001624",
     "exception": false,
     "start_time": "2022-10-29T19:46:49.984747",
     "status": "completed"
    },
    "tags": []
   },
   "source": [
    "If necessary, we can save model and tokenizer"
   ]
  },
  {
   "cell_type": "code",
   "execution_count": 40,
   "id": "a74efa85",
   "metadata": {
    "execution": {
     "iopub.execute_input": "2022-10-29T19:46:50.037662Z",
     "iopub.status.busy": "2022-10-29T19:46:50.036711Z",
     "iopub.status.idle": "2022-10-29T19:46:50.041473Z",
     "shell.execute_reply": "2022-10-29T19:46:50.040579Z"
    },
    "papermill": {
     "duration": 0.025263,
     "end_time": "2022-10-29T19:46:50.043482",
     "exception": false,
     "start_time": "2022-10-29T19:46:50.018219",
     "status": "completed"
    },
    "tags": []
   },
   "outputs": [],
   "source": [
    "is_saving = False"
   ]
  },
  {
   "cell_type": "code",
   "execution_count": 41,
   "id": "3ca47471",
   "metadata": {
    "execution": {
     "iopub.execute_input": "2022-10-29T19:46:50.078553Z",
     "iopub.status.busy": "2022-10-29T19:46:50.077693Z",
     "iopub.status.idle": "2022-10-29T19:46:50.083492Z",
     "shell.execute_reply": "2022-10-29T19:46:50.082644Z"
    },
    "papermill": {
     "duration": 0.025281,
     "end_time": "2022-10-29T19:46:50.085423",
     "exception": false,
     "start_time": "2022-10-29T19:46:50.060142",
     "status": "completed"
    },
    "tags": []
   },
   "outputs": [],
   "source": [
    "def save_model(path_to_save, is_saving, model):\n",
    "    if not is_saving:\n",
    "        return\n",
    "    if not os.path.exists(path_to_save):\n",
    "        os.makedirs(path_to_save)\n",
    "    model_to_save = model.module if hasattr(model, 'module') else model\n",
    "    model_to_save.save_pretrained(path_to_save)\n",
    "    tokenizer.save_pretrained(path_to_save)\n",
    "    print(f'Saved model and tokenizer to {path_to_save}')"
   ]
  },
  {
   "cell_type": "code",
   "execution_count": 42,
   "id": "7c214429",
   "metadata": {
    "execution": {
     "iopub.execute_input": "2022-10-29T19:46:50.120453Z",
     "iopub.status.busy": "2022-10-29T19:46:50.119633Z",
     "iopub.status.idle": "2022-10-29T19:46:50.124228Z",
     "shell.execute_reply": "2022-10-29T19:46:50.123421Z"
    },
    "papermill": {
     "duration": 0.02396,
     "end_time": "2022-10-29T19:46:50.126009",
     "exception": false,
     "start_time": "2022-10-29T19:46:50.102049",
     "status": "completed"
    },
    "tags": []
   },
   "outputs": [],
   "source": [
    "save_model('./result/', is_saving, model)"
   ]
  },
  {
   "cell_type": "markdown",
   "id": "b7f0e402",
   "metadata": {
    "papermill": {
     "duration": 0.016805,
     "end_time": "2022-10-29T19:46:50.159547",
     "exception": false,
     "start_time": "2022-10-29T19:46:50.142742",
     "status": "completed"
    },
    "tags": []
   },
   "source": [
    "## Summary"
   ]
  },
  {
   "cell_type": "markdown",
   "id": "58a8d893",
   "metadata": {
    "papermill": {
     "duration": 0.016768,
     "end_time": "2022-10-29T19:46:50.193586",
     "exception": false,
     "start_time": "2022-10-29T19:46:50.176818",
     "status": "completed"
    },
    "tags": []
   },
   "source": [
    "Additionally to check a generalization ability of our model let's use some samples from [NNGen](https://github.com/Tbabm/nngen/tree/master/data) "
   ]
  },
  {
   "cell_type": "code",
   "execution_count": 43,
   "id": "0a368d29",
   "metadata": {
    "execution": {
     "iopub.execute_input": "2022-10-29T19:46:50.228356Z",
     "iopub.status.busy": "2022-10-29T19:46:50.228067Z",
     "iopub.status.idle": "2022-10-29T19:46:50.232016Z",
     "shell.execute_reply": "2022-10-29T19:46:50.231108Z"
    },
    "papermill": {
     "duration": 0.02351,
     "end_time": "2022-10-29T19:46:50.234018",
     "exception": false,
     "start_time": "2022-10-29T19:46:50.210508",
     "status": "completed"
    },
    "tags": []
   },
   "outputs": [],
   "source": [
    "nn_gen_path = '../input/nngen-test/cleaned.test.msg'"
   ]
  },
  {
   "cell_type": "code",
   "execution_count": 44,
   "id": "eae57ddd",
   "metadata": {
    "execution": {
     "iopub.execute_input": "2022-10-29T19:46:50.268917Z",
     "iopub.status.busy": "2022-10-29T19:46:50.268152Z",
     "iopub.status.idle": "2022-10-29T19:46:50.281367Z",
     "shell.execute_reply": "2022-10-29T19:46:50.280573Z"
    },
    "papermill": {
     "duration": 0.032544,
     "end_time": "2022-10-29T19:46:50.283228",
     "exception": false,
     "start_time": "2022-10-29T19:46:50.250684",
     "status": "completed"
    },
    "tags": []
   },
   "outputs": [],
   "source": [
    "nn_gen_data = []\n",
    "with open(nn_gen_path) as nn_gen_file:\n",
    "    for line in nn_gen_file:\n",
    "        line = line.strip()\n",
    "        nn_gen_data.append(line)"
   ]
  },
  {
   "cell_type": "code",
   "execution_count": 45,
   "id": "716fc509",
   "metadata": {
    "execution": {
     "iopub.execute_input": "2022-10-29T19:46:50.318213Z",
     "iopub.status.busy": "2022-10-29T19:46:50.317440Z",
     "iopub.status.idle": "2022-10-29T19:46:50.323695Z",
     "shell.execute_reply": "2022-10-29T19:46:50.322890Z"
    },
    "papermill": {
     "duration": 0.025617,
     "end_time": "2022-10-29T19:46:50.325606",
     "exception": false,
     "start_time": "2022-10-29T19:46:50.299989",
     "status": "completed"
    },
    "tags": []
   },
   "outputs": [],
   "source": [
    "np.random.seed(27)\n",
    "n_samples = 30\n",
    "random_nn_gen_data = np.random.choice(nn_gen_data, n_samples, replace=False)"
   ]
  },
  {
   "cell_type": "code",
   "execution_count": 46,
   "id": "21fd9b28",
   "metadata": {
    "execution": {
     "iopub.execute_input": "2022-10-29T19:46:50.361134Z",
     "iopub.status.busy": "2022-10-29T19:46:50.360318Z",
     "iopub.status.idle": "2022-10-29T19:46:50.365644Z",
     "shell.execute_reply": "2022-10-29T19:46:50.364862Z"
    },
    "papermill": {
     "duration": 0.024969,
     "end_time": "2022-10-29T19:46:50.367635",
     "exception": false,
     "start_time": "2022-10-29T19:46:50.342666",
     "status": "completed"
    },
    "tags": []
   },
   "outputs": [],
   "source": [
    "def reverse_to_label(labels):\n",
    "    res = ''\n",
    "    if labels[0]:\n",
    "        res += ' Corrective'\n",
    "    if labels[1]:\n",
    "        res += ' Adaptive'\n",
    "    if labels[2]:\n",
    "        res += ' Perfective'\n",
    "    res = res.strip()\n",
    "    return res"
   ]
  },
  {
   "cell_type": "code",
   "execution_count": 47,
   "id": "eae791b1",
   "metadata": {
    "execution": {
     "iopub.execute_input": "2022-10-29T19:46:50.402529Z",
     "iopub.status.busy": "2022-10-29T19:46:50.401672Z",
     "iopub.status.idle": "2022-10-29T19:46:52.606968Z",
     "shell.execute_reply": "2022-10-29T19:46:52.605780Z"
    },
    "papermill": {
     "duration": 2.22601,
     "end_time": "2022-10-29T19:46:52.610211",
     "exception": false,
     "start_time": "2022-10-29T19:46:50.384201",
     "status": "completed"
    },
    "tags": []
   },
   "outputs": [
    {
     "name": "stdout",
     "output_type": "stream",
     "text": [
      "Commit message: \n",
      "Remove automatic left factoring declaration from Java . g4 since the processing is currently very slow\n",
      "Prediction:\n",
      "Perfective\n",
      "--------------------\n",
      "Commit message: \n",
      "Added tools . jar to classpath for buildSrc\n",
      "Prediction:\n",
      "Adaptive\n",
      "--------------------\n",
      "Commit message: \n",
      "remove logall since it doesn ' t trigger anymore\n",
      "Prediction:\n",
      "Perfective\n",
      "--------------------\n",
      "Commit message: \n",
      "move test file into temp folder\n",
      "Prediction:\n",
      "Perfective\n",
      "--------------------\n",
      "Commit message: \n",
      "Updates SRTP transform engine when setting new SDES keys .\n",
      "Prediction:\n",
      "Adaptive\n",
      "--------------------\n",
      "Commit message: \n",
      "bump up druid version to 0 . 4 . 0\n",
      "Prediction:\n",
      "Perfective\n",
      "--------------------\n",
      "Commit message: \n",
      "fixed previous check - in\n",
      "Prediction:\n",
      "Corrective\n",
      "--------------------\n",
      "Commit message: \n",
      "DomModelTreeView disposing fixed\n",
      "Prediction:\n",
      "Corrective\n",
      "--------------------\n",
      "Commit message: \n",
      "Reverted change to logging file ( was not the right logging file ) .\n",
      "Prediction:\n",
      "Corrective Perfective\n",
      "--------------------\n",
      "Commit message: \n",
      "restore ui impovement comment\n",
      "Prediction:\n",
      "Perfective\n",
      "--------------------\n",
      "Commit message: \n",
      "eliminate dependency on commons - io\n",
      "Prediction:\n",
      "Perfective\n",
      "--------------------\n",
      "Commit message: \n",
      "Add sample APK\n",
      "Prediction:\n",
      "Adaptive\n",
      "--------------------\n",
      "Commit message: \n",
      "LPS - 58562 Move part 2\n",
      "Prediction:\n",
      "Perfective\n",
      "--------------------\n",
      "Commit message: \n",
      "Removed forkMode = never on Persistit tests\n",
      "Prediction:\n",
      "Perfective\n",
      "--------------------\n",
      "Commit message: \n",
      "update testng sources to 6 . 8 . 8\n",
      "Prediction:\n",
      "Adaptive Perfective\n",
      "--------------------\n",
      "Commit message: \n",
      "Upgraded parent version .\n",
      "Prediction:\n",
      "Adaptive\n",
      "--------------------\n",
      "Commit message: \n",
      "Bump the version number to 2 . 2b2\n",
      "Prediction:\n",
      "\n",
      "--------------------\n",
      "Commit message: \n",
      "Add Binding . unbind\n",
      "Prediction:\n",
      "Adaptive\n",
      "--------------------\n",
      "Commit message: \n",
      "Added STORM - 414 to Changelog\n",
      "Prediction:\n",
      "Adaptive\n",
      "--------------------\n",
      "Commit message: \n",
      "Fix the build .\n",
      "Prediction:\n",
      "Corrective\n",
      "--------------------\n",
      "Commit message: \n",
      "Removed junit from classpath ( all tests moved to zaproxy - test )\n",
      "Prediction:\n",
      "Perfective\n",
      "--------------------\n",
      "Commit message: \n",
      "prepare for next development iteration\n",
      "Prediction:\n",
      "Perfective\n",
      "--------------------\n",
      "Commit message: \n",
      "Ignore list created\n",
      "Prediction:\n",
      "Corrective Perfective\n",
      "--------------------\n",
      "Commit message: \n",
      "Preparing for release 3 . 5 . 0\n",
      "Prediction:\n",
      "Adaptive\n",
      "--------------------\n",
      "Commit message: \n",
      "Fixed small comments\n",
      "Prediction:\n",
      "Corrective\n",
      "--------------------\n",
      "Commit message: \n",
      "Updated splash screen\n",
      "Prediction:\n",
      "Adaptive\n",
      "--------------------\n",
      "Commit message: \n",
      "LPS - 48807 Remove EOL\n",
      "Prediction:\n",
      "Perfective\n",
      "--------------------\n",
      "Commit message: \n",
      "Fixed typo in mucMember table definition .\n",
      "Prediction:\n",
      "Corrective\n",
      "--------------------\n",
      "Commit message: \n",
      "refresh settingsModified flag on apply ( )\n",
      "Prediction:\n",
      "Perfective\n",
      "--------------------\n",
      "Commit message: \n",
      "ToString usage example had a typo in it ( used ' excludes ' instead of the correct ' exclude ' ) .\n",
      "Prediction:\n",
      "Corrective Perfective\n",
      "--------------------\n"
     ]
    }
   ],
   "source": [
    "model.eval()\n",
    "for i in range(n_samples):\n",
    "    print(f'Commit message: \\n{random_nn_gen_data[i]}')\n",
    "    inputs = tokenizer(random_nn_gen_data[i], return_tensors=\"pt\")\n",
    "    model.to('cpu')\n",
    "    with torch.no_grad():\n",
    "        logits = model(**inputs).logits\n",
    "        probs = get_probs(logits).int().numpy()[0]\n",
    "        print('Prediction:')\n",
    "        print(reverse_to_label(probs))\n",
    "        print('--------------------')"
   ]
  },
  {
   "cell_type": "markdown",
   "id": "1aeef367",
   "metadata": {
    "papermill": {
     "duration": 0.01754,
     "end_time": "2022-10-29T19:46:52.645518",
     "exception": false,
     "start_time": "2022-10-29T19:46:52.627978",
     "status": "completed"
    },
    "tags": []
   },
   "source": [
    "As we can see by analyzing predictions on random samples from another yet unseen dataset, our model predictions are sufficient and close to the meaning of commit messages from NNGen. In reality our model predictions fit well the categorization based on Swanson's maintenance activities (from the article) and agree with random messages from NNGen. For example, message `Upgraded parent version .` is considered adaptive, because it's modification to previous version. Or `fixed previous check - in` is labeled corrective, that is close to it's intention. Also `Removed junit from classpath ( all tests moved to zaproxy - test )` is predicted to be perfective, because it's refactoring. Even `ToString usage example had a typo in it ( used ' excludes ' instead of the correct ' exclude ' ) .`  prediction seems to be fine, since it's a fix and changing the names of variable, so it can be considered as corrective and predictive. However, we can see few samples which predictions are hard to explain."
   ]
  },
  {
   "cell_type": "markdown",
   "id": "a9263ad3",
   "metadata": {
    "papermill": {
     "duration": 0.017203,
     "end_time": "2022-10-29T19:46:52.680410",
     "exception": false,
     "start_time": "2022-10-29T19:46:52.663207",
     "status": "completed"
    },
    "tags": []
   },
   "source": [
    "In conclusion, we got decent results, however, there are different approaches on how to improve our model: we can try changing hyperparameters (epochs, lr, batch_size), also we can try to use more data as train by neglecting validation when we already found out the parameters, besides we can add weight decay to our optimizer, or use different metrics and other approache."
   ]
  },
  {
   "cell_type": "code",
   "execution_count": null,
   "id": "26c52df6",
   "metadata": {
    "papermill": {
     "duration": 0.017262,
     "end_time": "2022-10-29T19:46:52.714919",
     "exception": false,
     "start_time": "2022-10-29T19:46:52.697657",
     "status": "completed"
    },
    "tags": []
   },
   "outputs": [],
   "source": []
  }
 ],
 "metadata": {
  "kernelspec": {
   "display_name": "Python 3",
   "language": "python",
   "name": "python3"
  },
  "language_info": {
   "codemirror_mode": {
    "name": "ipython",
    "version": 3
   },
   "file_extension": ".py",
   "mimetype": "text/x-python",
   "name": "python",
   "nbconvert_exporter": "python",
   "pygments_lexer": "ipython3",
   "version": "3.7.12"
  },
  "papermill": {
   "default_parameters": {},
   "duration": 263.623328,
   "end_time": "2022-10-29T19:46:56.179572",
   "environment_variables": {},
   "exception": null,
   "input_path": "__notebook__.ipynb",
   "output_path": "__notebook__.ipynb",
   "parameters": {},
   "start_time": "2022-10-29T19:42:32.556244",
   "version": "2.3.4"
  },
  "widgets": {
   "application/vnd.jupyter.widget-state+json": {
    "state": {
     "001fd20631e74efe9a0d24b6b3c08a09": {
      "model_module": "@jupyter-widgets/base",
      "model_module_version": "1.2.0",
      "model_name": "LayoutModel",
      "state": {
       "_model_module": "@jupyter-widgets/base",
       "_model_module_version": "1.2.0",
       "_model_name": "LayoutModel",
       "_view_count": null,
       "_view_module": "@jupyter-widgets/base",
       "_view_module_version": "1.2.0",
       "_view_name": "LayoutView",
       "align_content": null,
       "align_items": null,
       "align_self": null,
       "border": null,
       "bottom": null,
       "display": null,
       "flex": null,
       "flex_flow": null,
       "grid_area": null,
       "grid_auto_columns": null,
       "grid_auto_flow": null,
       "grid_auto_rows": null,
       "grid_column": null,
       "grid_gap": null,
       "grid_row": null,
       "grid_template_areas": null,
       "grid_template_columns": null,
       "grid_template_rows": null,
       "height": null,
       "justify_content": null,
       "justify_items": null,
       "left": null,
       "margin": null,
       "max_height": null,
       "max_width": null,
       "min_height": null,
       "min_width": null,
       "object_fit": null,
       "object_position": null,
       "order": null,
       "overflow": null,
       "overflow_x": null,
       "overflow_y": null,
       "padding": null,
       "right": null,
       "top": null,
       "visibility": null,
       "width": null
      }
     },
     "0fe48ee63b6c4bb59e09da69ff4c7ea3": {
      "model_module": "@jupyter-widgets/base",
      "model_module_version": "1.2.0",
      "model_name": "LayoutModel",
      "state": {
       "_model_module": "@jupyter-widgets/base",
       "_model_module_version": "1.2.0",
       "_model_name": "LayoutModel",
       "_view_count": null,
       "_view_module": "@jupyter-widgets/base",
       "_view_module_version": "1.2.0",
       "_view_name": "LayoutView",
       "align_content": null,
       "align_items": null,
       "align_self": null,
       "border": null,
       "bottom": null,
       "display": null,
       "flex": null,
       "flex_flow": null,
       "grid_area": null,
       "grid_auto_columns": null,
       "grid_auto_flow": null,
       "grid_auto_rows": null,
       "grid_column": null,
       "grid_gap": null,
       "grid_row": null,
       "grid_template_areas": null,
       "grid_template_columns": null,
       "grid_template_rows": null,
       "height": null,
       "justify_content": null,
       "justify_items": null,
       "left": null,
       "margin": null,
       "max_height": null,
       "max_width": null,
       "min_height": null,
       "min_width": null,
       "object_fit": null,
       "object_position": null,
       "order": null,
       "overflow": null,
       "overflow_x": null,
       "overflow_y": null,
       "padding": null,
       "right": null,
       "top": null,
       "visibility": null,
       "width": null
      }
     },
     "1cf1bb87ec3b41cbbcdda202e1e16bdb": {
      "model_module": "@jupyter-widgets/controls",
      "model_module_version": "1.5.0",
      "model_name": "HBoxModel",
      "state": {
       "_dom_classes": [],
       "_model_module": "@jupyter-widgets/controls",
       "_model_module_version": "1.5.0",
       "_model_name": "HBoxModel",
       "_view_count": null,
       "_view_module": "@jupyter-widgets/controls",
       "_view_module_version": "1.5.0",
       "_view_name": "HBoxView",
       "box_style": "",
       "children": [
        "IPY_MODEL_6858778cca094f2eacc9f2cf802e5ea2",
        "IPY_MODEL_aef72127308f487691cd7ffb81ba60d3",
        "IPY_MODEL_c6d23aecd2d94662b470b062bc755900"
       ],
       "layout": "IPY_MODEL_3cf29be63ecc48759bc2cde4ada7f6c9"
      }
     },
     "1f8433dba50346d1a57c3fddb1e66ca9": {
      "model_module": "@jupyter-widgets/controls",
      "model_module_version": "1.5.0",
      "model_name": "HTMLModel",
      "state": {
       "_dom_classes": [],
       "_model_module": "@jupyter-widgets/controls",
       "_model_module_version": "1.5.0",
       "_model_name": "HTMLModel",
       "_view_count": null,
       "_view_module": "@jupyter-widgets/controls",
       "_view_module_version": "1.5.0",
       "_view_name": "HTMLView",
       "description": "",
       "description_tooltip": null,
       "layout": "IPY_MODEL_a291cde609e44c4cb9940bdb53992304",
       "placeholder": "​",
       "style": "IPY_MODEL_8cface45c37945a4a4fc4d3cae9b7a3e",
       "value": "Downloading: 100%"
      }
     },
     "28fcaf556f3242468309a6b48159885c": {
      "model_module": "@jupyter-widgets/base",
      "model_module_version": "1.2.0",
      "model_name": "LayoutModel",
      "state": {
       "_model_module": "@jupyter-widgets/base",
       "_model_module_version": "1.2.0",
       "_model_name": "LayoutModel",
       "_view_count": null,
       "_view_module": "@jupyter-widgets/base",
       "_view_module_version": "1.2.0",
       "_view_name": "LayoutView",
       "align_content": null,
       "align_items": null,
       "align_self": null,
       "border": null,
       "bottom": null,
       "display": null,
       "flex": null,
       "flex_flow": null,
       "grid_area": null,
       "grid_auto_columns": null,
       "grid_auto_flow": null,
       "grid_auto_rows": null,
       "grid_column": null,
       "grid_gap": null,
       "grid_row": null,
       "grid_template_areas": null,
       "grid_template_columns": null,
       "grid_template_rows": null,
       "height": null,
       "justify_content": null,
       "justify_items": null,
       "left": null,
       "margin": null,
       "max_height": null,
       "max_width": null,
       "min_height": null,
       "min_width": null,
       "object_fit": null,
       "object_position": null,
       "order": null,
       "overflow": null,
       "overflow_x": null,
       "overflow_y": null,
       "padding": null,
       "right": null,
       "top": null,
       "visibility": null,
       "width": null
      }
     },
     "3cf29be63ecc48759bc2cde4ada7f6c9": {
      "model_module": "@jupyter-widgets/base",
      "model_module_version": "1.2.0",
      "model_name": "LayoutModel",
      "state": {
       "_model_module": "@jupyter-widgets/base",
       "_model_module_version": "1.2.0",
       "_model_name": "LayoutModel",
       "_view_count": null,
       "_view_module": "@jupyter-widgets/base",
       "_view_module_version": "1.2.0",
       "_view_name": "LayoutView",
       "align_content": null,
       "align_items": null,
       "align_self": null,
       "border": null,
       "bottom": null,
       "display": null,
       "flex": null,
       "flex_flow": null,
       "grid_area": null,
       "grid_auto_columns": null,
       "grid_auto_flow": null,
       "grid_auto_rows": null,
       "grid_column": null,
       "grid_gap": null,
       "grid_row": null,
       "grid_template_areas": null,
       "grid_template_columns": null,
       "grid_template_rows": null,
       "height": null,
       "justify_content": null,
       "justify_items": null,
       "left": null,
       "margin": null,
       "max_height": null,
       "max_width": null,
       "min_height": null,
       "min_width": null,
       "object_fit": null,
       "object_position": null,
       "order": null,
       "overflow": null,
       "overflow_x": null,
       "overflow_y": null,
       "padding": null,
       "right": null,
       "top": null,
       "visibility": null,
       "width": null
      }
     },
     "3fed5db1832542db9c8a0cc0db6e597f": {
      "model_module": "@jupyter-widgets/base",
      "model_module_version": "1.2.0",
      "model_name": "LayoutModel",
      "state": {
       "_model_module": "@jupyter-widgets/base",
       "_model_module_version": "1.2.0",
       "_model_name": "LayoutModel",
       "_view_count": null,
       "_view_module": "@jupyter-widgets/base",
       "_view_module_version": "1.2.0",
       "_view_name": "LayoutView",
       "align_content": null,
       "align_items": null,
       "align_self": null,
       "border": null,
       "bottom": null,
       "display": null,
       "flex": null,
       "flex_flow": null,
       "grid_area": null,
       "grid_auto_columns": null,
       "grid_auto_flow": null,
       "grid_auto_rows": null,
       "grid_column": null,
       "grid_gap": null,
       "grid_row": null,
       "grid_template_areas": null,
       "grid_template_columns": null,
       "grid_template_rows": null,
       "height": null,
       "justify_content": null,
       "justify_items": null,
       "left": null,
       "margin": null,
       "max_height": null,
       "max_width": null,
       "min_height": null,
       "min_width": null,
       "object_fit": null,
       "object_position": null,
       "order": null,
       "overflow": null,
       "overflow_x": null,
       "overflow_y": null,
       "padding": null,
       "right": null,
       "top": null,
       "visibility": null,
       "width": null
      }
     },
     "41c64bd903eb4b4a8ad98ec908240243": {
      "model_module": "@jupyter-widgets/base",
      "model_module_version": "1.2.0",
      "model_name": "LayoutModel",
      "state": {
       "_model_module": "@jupyter-widgets/base",
       "_model_module_version": "1.2.0",
       "_model_name": "LayoutModel",
       "_view_count": null,
       "_view_module": "@jupyter-widgets/base",
       "_view_module_version": "1.2.0",
       "_view_name": "LayoutView",
       "align_content": null,
       "align_items": null,
       "align_self": null,
       "border": null,
       "bottom": null,
       "display": null,
       "flex": null,
       "flex_flow": null,
       "grid_area": null,
       "grid_auto_columns": null,
       "grid_auto_flow": null,
       "grid_auto_rows": null,
       "grid_column": null,
       "grid_gap": null,
       "grid_row": null,
       "grid_template_areas": null,
       "grid_template_columns": null,
       "grid_template_rows": null,
       "height": null,
       "justify_content": null,
       "justify_items": null,
       "left": null,
       "margin": null,
       "max_height": null,
       "max_width": null,
       "min_height": null,
       "min_width": null,
       "object_fit": null,
       "object_position": null,
       "order": null,
       "overflow": null,
       "overflow_x": null,
       "overflow_y": null,
       "padding": null,
       "right": null,
       "top": null,
       "visibility": null,
       "width": null
      }
     },
     "41ce1feb105b46c687783b1d708b90d0": {
      "model_module": "@jupyter-widgets/base",
      "model_module_version": "1.2.0",
      "model_name": "LayoutModel",
      "state": {
       "_model_module": "@jupyter-widgets/base",
       "_model_module_version": "1.2.0",
       "_model_name": "LayoutModel",
       "_view_count": null,
       "_view_module": "@jupyter-widgets/base",
       "_view_module_version": "1.2.0",
       "_view_name": "LayoutView",
       "align_content": null,
       "align_items": null,
       "align_self": null,
       "border": null,
       "bottom": null,
       "display": null,
       "flex": null,
       "flex_flow": null,
       "grid_area": null,
       "grid_auto_columns": null,
       "grid_auto_flow": null,
       "grid_auto_rows": null,
       "grid_column": null,
       "grid_gap": null,
       "grid_row": null,
       "grid_template_areas": null,
       "grid_template_columns": null,
       "grid_template_rows": null,
       "height": null,
       "justify_content": null,
       "justify_items": null,
       "left": null,
       "margin": null,
       "max_height": null,
       "max_width": null,
       "min_height": null,
       "min_width": null,
       "object_fit": null,
       "object_position": null,
       "order": null,
       "overflow": null,
       "overflow_x": null,
       "overflow_y": null,
       "padding": null,
       "right": null,
       "top": null,
       "visibility": null,
       "width": null
      }
     },
     "42ac01ca4cc043a39fe454635a710816": {
      "model_module": "@jupyter-widgets/base",
      "model_module_version": "1.2.0",
      "model_name": "LayoutModel",
      "state": {
       "_model_module": "@jupyter-widgets/base",
       "_model_module_version": "1.2.0",
       "_model_name": "LayoutModel",
       "_view_count": null,
       "_view_module": "@jupyter-widgets/base",
       "_view_module_version": "1.2.0",
       "_view_name": "LayoutView",
       "align_content": null,
       "align_items": null,
       "align_self": null,
       "border": null,
       "bottom": null,
       "display": null,
       "flex": null,
       "flex_flow": null,
       "grid_area": null,
       "grid_auto_columns": null,
       "grid_auto_flow": null,
       "grid_auto_rows": null,
       "grid_column": null,
       "grid_gap": null,
       "grid_row": null,
       "grid_template_areas": null,
       "grid_template_columns": null,
       "grid_template_rows": null,
       "height": null,
       "justify_content": null,
       "justify_items": null,
       "left": null,
       "margin": null,
       "max_height": null,
       "max_width": null,
       "min_height": null,
       "min_width": null,
       "object_fit": null,
       "object_position": null,
       "order": null,
       "overflow": null,
       "overflow_x": null,
       "overflow_y": null,
       "padding": null,
       "right": null,
       "top": null,
       "visibility": null,
       "width": null
      }
     },
     "5171b6fe0ea1450ca63b19ca911be151": {
      "model_module": "@jupyter-widgets/controls",
      "model_module_version": "1.5.0",
      "model_name": "ProgressStyleModel",
      "state": {
       "_model_module": "@jupyter-widgets/controls",
       "_model_module_version": "1.5.0",
       "_model_name": "ProgressStyleModel",
       "_view_count": null,
       "_view_module": "@jupyter-widgets/base",
       "_view_module_version": "1.2.0",
       "_view_name": "StyleView",
       "bar_color": null,
       "description_width": ""
      }
     },
     "51cda9ff673142628c21ae639de19cd7": {
      "model_module": "@jupyter-widgets/controls",
      "model_module_version": "1.5.0",
      "model_name": "DescriptionStyleModel",
      "state": {
       "_model_module": "@jupyter-widgets/controls",
       "_model_module_version": "1.5.0",
       "_model_name": "DescriptionStyleModel",
       "_view_count": null,
       "_view_module": "@jupyter-widgets/base",
       "_view_module_version": "1.2.0",
       "_view_name": "StyleView",
       "description_width": ""
      }
     },
     "57b296ef3e5c46a5bcd32c71c9756e21": {
      "model_module": "@jupyter-widgets/controls",
      "model_module_version": "1.5.0",
      "model_name": "FloatProgressModel",
      "state": {
       "_dom_classes": [],
       "_model_module": "@jupyter-widgets/controls",
       "_model_module_version": "1.5.0",
       "_model_name": "FloatProgressModel",
       "_view_count": null,
       "_view_module": "@jupyter-widgets/controls",
       "_view_module_version": "1.5.0",
       "_view_name": "ProgressView",
       "bar_style": "success",
       "description": "",
       "description_tooltip": null,
       "layout": "IPY_MODEL_42ac01ca4cc043a39fe454635a710816",
       "max": 483.0,
       "min": 0.0,
       "orientation": "horizontal",
       "style": "IPY_MODEL_5171b6fe0ea1450ca63b19ca911be151",
       "value": 483.0
      }
     },
     "5c6be18306c54f1c88767cf8abaa0649": {
      "model_module": "@jupyter-widgets/controls",
      "model_module_version": "1.5.0",
      "model_name": "DescriptionStyleModel",
      "state": {
       "_model_module": "@jupyter-widgets/controls",
       "_model_module_version": "1.5.0",
       "_model_name": "DescriptionStyleModel",
       "_view_count": null,
       "_view_module": "@jupyter-widgets/base",
       "_view_module_version": "1.2.0",
       "_view_name": "StyleView",
       "description_width": ""
      }
     },
     "61ef01e1edc945888b9f296214592c7e": {
      "model_module": "@jupyter-widgets/base",
      "model_module_version": "1.2.0",
      "model_name": "LayoutModel",
      "state": {
       "_model_module": "@jupyter-widgets/base",
       "_model_module_version": "1.2.0",
       "_model_name": "LayoutModel",
       "_view_count": null,
       "_view_module": "@jupyter-widgets/base",
       "_view_module_version": "1.2.0",
       "_view_name": "LayoutView",
       "align_content": null,
       "align_items": null,
       "align_self": null,
       "border": null,
       "bottom": null,
       "display": null,
       "flex": null,
       "flex_flow": null,
       "grid_area": null,
       "grid_auto_columns": null,
       "grid_auto_flow": null,
       "grid_auto_rows": null,
       "grid_column": null,
       "grid_gap": null,
       "grid_row": null,
       "grid_template_areas": null,
       "grid_template_columns": null,
       "grid_template_rows": null,
       "height": null,
       "justify_content": null,
       "justify_items": null,
       "left": null,
       "margin": null,
       "max_height": null,
       "max_width": null,
       "min_height": null,
       "min_width": null,
       "object_fit": null,
       "object_position": null,
       "order": null,
       "overflow": null,
       "overflow_x": null,
       "overflow_y": null,
       "padding": null,
       "right": null,
       "top": null,
       "visibility": null,
       "width": null
      }
     },
     "6858778cca094f2eacc9f2cf802e5ea2": {
      "model_module": "@jupyter-widgets/controls",
      "model_module_version": "1.5.0",
      "model_name": "HTMLModel",
      "state": {
       "_dom_classes": [],
       "_model_module": "@jupyter-widgets/controls",
       "_model_module_version": "1.5.0",
       "_model_name": "HTMLModel",
       "_view_count": null,
       "_view_module": "@jupyter-widgets/controls",
       "_view_module_version": "1.5.0",
       "_view_name": "HTMLView",
       "description": "",
       "description_tooltip": null,
       "layout": "IPY_MODEL_0fe48ee63b6c4bb59e09da69ff4c7ea3",
       "placeholder": "​",
       "style": "IPY_MODEL_e107ba050e0a4787aefacd5823ecdec7",
       "value": "Downloading: 100%"
      }
     },
     "6bb0cef1a3ab466eba01098a086e833c": {
      "model_module": "@jupyter-widgets/controls",
      "model_module_version": "1.5.0",
      "model_name": "HTMLModel",
      "state": {
       "_dom_classes": [],
       "_model_module": "@jupyter-widgets/controls",
       "_model_module_version": "1.5.0",
       "_model_name": "HTMLModel",
       "_view_count": null,
       "_view_module": "@jupyter-widgets/controls",
       "_view_module_version": "1.5.0",
       "_view_name": "HTMLView",
       "description": "",
       "description_tooltip": null,
       "layout": "IPY_MODEL_41ce1feb105b46c687783b1d708b90d0",
       "placeholder": "​",
       "style": "IPY_MODEL_c8983f0e40924e259cb9870636258a2b",
       "value": " 256M/256M [00:12&lt;00:00, 27.0MB/s]"
      }
     },
     "6c07beed3a3c4f44a9564a09d0ca91f8": {
      "model_module": "@jupyter-widgets/controls",
      "model_module_version": "1.5.0",
      "model_name": "DescriptionStyleModel",
      "state": {
       "_model_module": "@jupyter-widgets/controls",
       "_model_module_version": "1.5.0",
       "_model_name": "DescriptionStyleModel",
       "_view_count": null,
       "_view_module": "@jupyter-widgets/base",
       "_view_module_version": "1.2.0",
       "_view_name": "StyleView",
       "description_width": ""
      }
     },
     "738faaebc5494c8081b40e6cb5fd1a48": {
      "model_module": "@jupyter-widgets/controls",
      "model_module_version": "1.5.0",
      "model_name": "ProgressStyleModel",
      "state": {
       "_model_module": "@jupyter-widgets/controls",
       "_model_module_version": "1.5.0",
       "_model_name": "ProgressStyleModel",
       "_view_count": null,
       "_view_module": "@jupyter-widgets/base",
       "_view_module_version": "1.2.0",
       "_view_name": "StyleView",
       "bar_color": null,
       "description_width": ""
      }
     },
     "76d7f6dd790a4968aada6ee9e0d16df4": {
      "model_module": "@jupyter-widgets/controls",
      "model_module_version": "1.5.0",
      "model_name": "HBoxModel",
      "state": {
       "_dom_classes": [],
       "_model_module": "@jupyter-widgets/controls",
       "_model_module_version": "1.5.0",
       "_model_name": "HBoxModel",
       "_view_count": null,
       "_view_module": "@jupyter-widgets/controls",
       "_view_module_version": "1.5.0",
       "_view_name": "HBoxView",
       "box_style": "",
       "children": [
        "IPY_MODEL_1f8433dba50346d1a57c3fddb1e66ca9",
        "IPY_MODEL_e61086dc14d8430eb3f667554f768419",
        "IPY_MODEL_6bb0cef1a3ab466eba01098a086e833c"
       ],
       "layout": "IPY_MODEL_8686dfa89bad4bf58ed7338ee120a513"
      }
     },
     "79c0e5d8c72a416c9dc307b80304667b": {
      "model_module": "@jupyter-widgets/base",
      "model_module_version": "1.2.0",
      "model_name": "LayoutModel",
      "state": {
       "_model_module": "@jupyter-widgets/base",
       "_model_module_version": "1.2.0",
       "_model_name": "LayoutModel",
       "_view_count": null,
       "_view_module": "@jupyter-widgets/base",
       "_view_module_version": "1.2.0",
       "_view_name": "LayoutView",
       "align_content": null,
       "align_items": null,
       "align_self": null,
       "border": null,
       "bottom": null,
       "display": null,
       "flex": null,
       "flex_flow": null,
       "grid_area": null,
       "grid_auto_columns": null,
       "grid_auto_flow": null,
       "grid_auto_rows": null,
       "grid_column": null,
       "grid_gap": null,
       "grid_row": null,
       "grid_template_areas": null,
       "grid_template_columns": null,
       "grid_template_rows": null,
       "height": null,
       "justify_content": null,
       "justify_items": null,
       "left": null,
       "margin": null,
       "max_height": null,
       "max_width": null,
       "min_height": null,
       "min_width": null,
       "object_fit": null,
       "object_position": null,
       "order": null,
       "overflow": null,
       "overflow_x": null,
       "overflow_y": null,
       "padding": null,
       "right": null,
       "top": null,
       "visibility": null,
       "width": null
      }
     },
     "7a71aa33c37d4888b7996af674c30565": {
      "model_module": "@jupyter-widgets/controls",
      "model_module_version": "1.5.0",
      "model_name": "HTMLModel",
      "state": {
       "_dom_classes": [],
       "_model_module": "@jupyter-widgets/controls",
       "_model_module_version": "1.5.0",
       "_model_name": "HTMLModel",
       "_view_count": null,
       "_view_module": "@jupyter-widgets/controls",
       "_view_module_version": "1.5.0",
       "_view_name": "HTMLView",
       "description": "",
       "description_tooltip": null,
       "layout": "IPY_MODEL_79c0e5d8c72a416c9dc307b80304667b",
       "placeholder": "​",
       "style": "IPY_MODEL_51cda9ff673142628c21ae639de19cd7",
       "value": " 226k/226k [00:00&lt;00:00, 890kB/s]"
      }
     },
     "7bd5d2d671e84ec2873f7081a885ff70": {
      "model_module": "@jupyter-widgets/controls",
      "model_module_version": "1.5.0",
      "model_name": "HTMLModel",
      "state": {
       "_dom_classes": [],
       "_model_module": "@jupyter-widgets/controls",
       "_model_module_version": "1.5.0",
       "_model_name": "HTMLModel",
       "_view_count": null,
       "_view_module": "@jupyter-widgets/controls",
       "_view_module_version": "1.5.0",
       "_view_name": "HTMLView",
       "description": "",
       "description_tooltip": null,
       "layout": "IPY_MODEL_afd9376258cf44ef9bc371872b7cebf8",
       "placeholder": "​",
       "style": "IPY_MODEL_c7bbcf3fc3d647e59ec79fa29082a145",
       "value": "Downloading: 100%"
      }
     },
     "803f910a002f4162870d73817c43bc9b": {
      "model_module": "@jupyter-widgets/controls",
      "model_module_version": "1.5.0",
      "model_name": "FloatProgressModel",
      "state": {
       "_dom_classes": [],
       "_model_module": "@jupyter-widgets/controls",
       "_model_module_version": "1.5.0",
       "_model_name": "FloatProgressModel",
       "_view_count": null,
       "_view_module": "@jupyter-widgets/controls",
       "_view_module_version": "1.5.0",
       "_view_name": "ProgressView",
       "bar_style": "success",
       "description": "",
       "description_tooltip": null,
       "layout": "IPY_MODEL_001fd20631e74efe9a0d24b6b3c08a09",
       "max": 231508.0,
       "min": 0.0,
       "orientation": "horizontal",
       "style": "IPY_MODEL_738faaebc5494c8081b40e6cb5fd1a48",
       "value": 231508.0
      }
     },
     "8686dfa89bad4bf58ed7338ee120a513": {
      "model_module": "@jupyter-widgets/base",
      "model_module_version": "1.2.0",
      "model_name": "LayoutModel",
      "state": {
       "_model_module": "@jupyter-widgets/base",
       "_model_module_version": "1.2.0",
       "_model_name": "LayoutModel",
       "_view_count": null,
       "_view_module": "@jupyter-widgets/base",
       "_view_module_version": "1.2.0",
       "_view_name": "LayoutView",
       "align_content": null,
       "align_items": null,
       "align_self": null,
       "border": null,
       "bottom": null,
       "display": null,
       "flex": null,
       "flex_flow": null,
       "grid_area": null,
       "grid_auto_columns": null,
       "grid_auto_flow": null,
       "grid_auto_rows": null,
       "grid_column": null,
       "grid_gap": null,
       "grid_row": null,
       "grid_template_areas": null,
       "grid_template_columns": null,
       "grid_template_rows": null,
       "height": null,
       "justify_content": null,
       "justify_items": null,
       "left": null,
       "margin": null,
       "max_height": null,
       "max_width": null,
       "min_height": null,
       "min_width": null,
       "object_fit": null,
       "object_position": null,
       "order": null,
       "overflow": null,
       "overflow_x": null,
       "overflow_y": null,
       "padding": null,
       "right": null,
       "top": null,
       "visibility": null,
       "width": null
      }
     },
     "8cface45c37945a4a4fc4d3cae9b7a3e": {
      "model_module": "@jupyter-widgets/controls",
      "model_module_version": "1.5.0",
      "model_name": "DescriptionStyleModel",
      "state": {
       "_model_module": "@jupyter-widgets/controls",
       "_model_module_version": "1.5.0",
       "_model_name": "DescriptionStyleModel",
       "_view_count": null,
       "_view_module": "@jupyter-widgets/base",
       "_view_module_version": "1.2.0",
       "_view_name": "StyleView",
       "description_width": ""
      }
     },
     "9de4205c1f1046a8a14cf377a47d4805": {
      "model_module": "@jupyter-widgets/controls",
      "model_module_version": "1.5.0",
      "model_name": "HBoxModel",
      "state": {
       "_dom_classes": [],
       "_model_module": "@jupyter-widgets/controls",
       "_model_module_version": "1.5.0",
       "_model_name": "HBoxModel",
       "_view_count": null,
       "_view_module": "@jupyter-widgets/controls",
       "_view_module_version": "1.5.0",
       "_view_name": "HBoxView",
       "box_style": "",
       "children": [
        "IPY_MODEL_eccbd4468e2c4511acc2b822d47fecd0",
        "IPY_MODEL_57b296ef3e5c46a5bcd32c71c9756e21",
        "IPY_MODEL_c47158b7bc694a7eabef4c5ebdecc229"
       ],
       "layout": "IPY_MODEL_3fed5db1832542db9c8a0cc0db6e597f"
      }
     },
     "a11e520297de458bb19ccddf703fc972": {
      "model_module": "@jupyter-widgets/controls",
      "model_module_version": "1.5.0",
      "model_name": "ProgressStyleModel",
      "state": {
       "_model_module": "@jupyter-widgets/controls",
       "_model_module_version": "1.5.0",
       "_model_name": "ProgressStyleModel",
       "_view_count": null,
       "_view_module": "@jupyter-widgets/base",
       "_view_module_version": "1.2.0",
       "_view_name": "StyleView",
       "bar_color": null,
       "description_width": ""
      }
     },
     "a291cde609e44c4cb9940bdb53992304": {
      "model_module": "@jupyter-widgets/base",
      "model_module_version": "1.2.0",
      "model_name": "LayoutModel",
      "state": {
       "_model_module": "@jupyter-widgets/base",
       "_model_module_version": "1.2.0",
       "_model_name": "LayoutModel",
       "_view_count": null,
       "_view_module": "@jupyter-widgets/base",
       "_view_module_version": "1.2.0",
       "_view_name": "LayoutView",
       "align_content": null,
       "align_items": null,
       "align_self": null,
       "border": null,
       "bottom": null,
       "display": null,
       "flex": null,
       "flex_flow": null,
       "grid_area": null,
       "grid_auto_columns": null,
       "grid_auto_flow": null,
       "grid_auto_rows": null,
       "grid_column": null,
       "grid_gap": null,
       "grid_row": null,
       "grid_template_areas": null,
       "grid_template_columns": null,
       "grid_template_rows": null,
       "height": null,
       "justify_content": null,
       "justify_items": null,
       "left": null,
       "margin": null,
       "max_height": null,
       "max_width": null,
       "min_height": null,
       "min_width": null,
       "object_fit": null,
       "object_position": null,
       "order": null,
       "overflow": null,
       "overflow_x": null,
       "overflow_y": null,
       "padding": null,
       "right": null,
       "top": null,
       "visibility": null,
       "width": null
      }
     },
     "aef72127308f487691cd7ffb81ba60d3": {
      "model_module": "@jupyter-widgets/controls",
      "model_module_version": "1.5.0",
      "model_name": "FloatProgressModel",
      "state": {
       "_dom_classes": [],
       "_model_module": "@jupyter-widgets/controls",
       "_model_module_version": "1.5.0",
       "_model_name": "FloatProgressModel",
       "_view_count": null,
       "_view_module": "@jupyter-widgets/controls",
       "_view_module_version": "1.5.0",
       "_view_name": "ProgressView",
       "bar_style": "success",
       "description": "",
       "description_tooltip": null,
       "layout": "IPY_MODEL_41c64bd903eb4b4a8ad98ec908240243",
       "max": 28.0,
       "min": 0.0,
       "orientation": "horizontal",
       "style": "IPY_MODEL_e5799421a6e049bca1d9a4acedd2b3b6",
       "value": 28.0
      }
     },
     "afd9376258cf44ef9bc371872b7cebf8": {
      "model_module": "@jupyter-widgets/base",
      "model_module_version": "1.2.0",
      "model_name": "LayoutModel",
      "state": {
       "_model_module": "@jupyter-widgets/base",
       "_model_module_version": "1.2.0",
       "_model_name": "LayoutModel",
       "_view_count": null,
       "_view_module": "@jupyter-widgets/base",
       "_view_module_version": "1.2.0",
       "_view_name": "LayoutView",
       "align_content": null,
       "align_items": null,
       "align_self": null,
       "border": null,
       "bottom": null,
       "display": null,
       "flex": null,
       "flex_flow": null,
       "grid_area": null,
       "grid_auto_columns": null,
       "grid_auto_flow": null,
       "grid_auto_rows": null,
       "grid_column": null,
       "grid_gap": null,
       "grid_row": null,
       "grid_template_areas": null,
       "grid_template_columns": null,
       "grid_template_rows": null,
       "height": null,
       "justify_content": null,
       "justify_items": null,
       "left": null,
       "margin": null,
       "max_height": null,
       "max_width": null,
       "min_height": null,
       "min_width": null,
       "object_fit": null,
       "object_position": null,
       "order": null,
       "overflow": null,
       "overflow_x": null,
       "overflow_y": null,
       "padding": null,
       "right": null,
       "top": null,
       "visibility": null,
       "width": null
      }
     },
     "c47158b7bc694a7eabef4c5ebdecc229": {
      "model_module": "@jupyter-widgets/controls",
      "model_module_version": "1.5.0",
      "model_name": "HTMLModel",
      "state": {
       "_dom_classes": [],
       "_model_module": "@jupyter-widgets/controls",
       "_model_module_version": "1.5.0",
       "_model_name": "HTMLModel",
       "_view_count": null,
       "_view_module": "@jupyter-widgets/controls",
       "_view_module_version": "1.5.0",
       "_view_name": "HTMLView",
       "description": "",
       "description_tooltip": null,
       "layout": "IPY_MODEL_61ef01e1edc945888b9f296214592c7e",
       "placeholder": "​",
       "style": "IPY_MODEL_6c07beed3a3c4f44a9564a09d0ca91f8",
       "value": " 483/483 [00:00&lt;00:00, 15.4kB/s]"
      }
     },
     "c6d23aecd2d94662b470b062bc755900": {
      "model_module": "@jupyter-widgets/controls",
      "model_module_version": "1.5.0",
      "model_name": "HTMLModel",
      "state": {
       "_dom_classes": [],
       "_model_module": "@jupyter-widgets/controls",
       "_model_module_version": "1.5.0",
       "_model_name": "HTMLModel",
       "_view_count": null,
       "_view_module": "@jupyter-widgets/controls",
       "_view_module_version": "1.5.0",
       "_view_name": "HTMLView",
       "description": "",
       "description_tooltip": null,
       "layout": "IPY_MODEL_28fcaf556f3242468309a6b48159885c",
       "placeholder": "​",
       "style": "IPY_MODEL_fa55e2bb5e414e33a35cb8053c78279e",
       "value": " 28.0/28.0 [00:00&lt;00:00, 1.08kB/s]"
      }
     },
     "c7bbcf3fc3d647e59ec79fa29082a145": {
      "model_module": "@jupyter-widgets/controls",
      "model_module_version": "1.5.0",
      "model_name": "DescriptionStyleModel",
      "state": {
       "_model_module": "@jupyter-widgets/controls",
       "_model_module_version": "1.5.0",
       "_model_name": "DescriptionStyleModel",
       "_view_count": null,
       "_view_module": "@jupyter-widgets/base",
       "_view_module_version": "1.2.0",
       "_view_name": "StyleView",
       "description_width": ""
      }
     },
     "c8983f0e40924e259cb9870636258a2b": {
      "model_module": "@jupyter-widgets/controls",
      "model_module_version": "1.5.0",
      "model_name": "DescriptionStyleModel",
      "state": {
       "_model_module": "@jupyter-widgets/controls",
       "_model_module_version": "1.5.0",
       "_model_name": "DescriptionStyleModel",
       "_view_count": null,
       "_view_module": "@jupyter-widgets/base",
       "_view_module_version": "1.2.0",
       "_view_name": "StyleView",
       "description_width": ""
      }
     },
     "ce2def2f54bf4762b426746bc8bdcfc6": {
      "model_module": "@jupyter-widgets/base",
      "model_module_version": "1.2.0",
      "model_name": "LayoutModel",
      "state": {
       "_model_module": "@jupyter-widgets/base",
       "_model_module_version": "1.2.0",
       "_model_name": "LayoutModel",
       "_view_count": null,
       "_view_module": "@jupyter-widgets/base",
       "_view_module_version": "1.2.0",
       "_view_name": "LayoutView",
       "align_content": null,
       "align_items": null,
       "align_self": null,
       "border": null,
       "bottom": null,
       "display": null,
       "flex": null,
       "flex_flow": null,
       "grid_area": null,
       "grid_auto_columns": null,
       "grid_auto_flow": null,
       "grid_auto_rows": null,
       "grid_column": null,
       "grid_gap": null,
       "grid_row": null,
       "grid_template_areas": null,
       "grid_template_columns": null,
       "grid_template_rows": null,
       "height": null,
       "justify_content": null,
       "justify_items": null,
       "left": null,
       "margin": null,
       "max_height": null,
       "max_width": null,
       "min_height": null,
       "min_width": null,
       "object_fit": null,
       "object_position": null,
       "order": null,
       "overflow": null,
       "overflow_x": null,
       "overflow_y": null,
       "padding": null,
       "right": null,
       "top": null,
       "visibility": null,
       "width": null
      }
     },
     "dcfa1f2a56ec4be58416ddc4d553fee5": {
      "model_module": "@jupyter-widgets/base",
      "model_module_version": "1.2.0",
      "model_name": "LayoutModel",
      "state": {
       "_model_module": "@jupyter-widgets/base",
       "_model_module_version": "1.2.0",
       "_model_name": "LayoutModel",
       "_view_count": null,
       "_view_module": "@jupyter-widgets/base",
       "_view_module_version": "1.2.0",
       "_view_name": "LayoutView",
       "align_content": null,
       "align_items": null,
       "align_self": null,
       "border": null,
       "bottom": null,
       "display": null,
       "flex": null,
       "flex_flow": null,
       "grid_area": null,
       "grid_auto_columns": null,
       "grid_auto_flow": null,
       "grid_auto_rows": null,
       "grid_column": null,
       "grid_gap": null,
       "grid_row": null,
       "grid_template_areas": null,
       "grid_template_columns": null,
       "grid_template_rows": null,
       "height": null,
       "justify_content": null,
       "justify_items": null,
       "left": null,
       "margin": null,
       "max_height": null,
       "max_width": null,
       "min_height": null,
       "min_width": null,
       "object_fit": null,
       "object_position": null,
       "order": null,
       "overflow": null,
       "overflow_x": null,
       "overflow_y": null,
       "padding": null,
       "right": null,
       "top": null,
       "visibility": null,
       "width": null
      }
     },
     "e107ba050e0a4787aefacd5823ecdec7": {
      "model_module": "@jupyter-widgets/controls",
      "model_module_version": "1.5.0",
      "model_name": "DescriptionStyleModel",
      "state": {
       "_model_module": "@jupyter-widgets/controls",
       "_model_module_version": "1.5.0",
       "_model_name": "DescriptionStyleModel",
       "_view_count": null,
       "_view_module": "@jupyter-widgets/base",
       "_view_module_version": "1.2.0",
       "_view_name": "StyleView",
       "description_width": ""
      }
     },
     "e5799421a6e049bca1d9a4acedd2b3b6": {
      "model_module": "@jupyter-widgets/controls",
      "model_module_version": "1.5.0",
      "model_name": "ProgressStyleModel",
      "state": {
       "_model_module": "@jupyter-widgets/controls",
       "_model_module_version": "1.5.0",
       "_model_name": "ProgressStyleModel",
       "_view_count": null,
       "_view_module": "@jupyter-widgets/base",
       "_view_module_version": "1.2.0",
       "_view_name": "StyleView",
       "bar_color": null,
       "description_width": ""
      }
     },
     "e61086dc14d8430eb3f667554f768419": {
      "model_module": "@jupyter-widgets/controls",
      "model_module_version": "1.5.0",
      "model_name": "FloatProgressModel",
      "state": {
       "_dom_classes": [],
       "_model_module": "@jupyter-widgets/controls",
       "_model_module_version": "1.5.0",
       "_model_name": "FloatProgressModel",
       "_view_count": null,
       "_view_module": "@jupyter-widgets/controls",
       "_view_module_version": "1.5.0",
       "_view_name": "ProgressView",
       "bar_style": "success",
       "description": "",
       "description_tooltip": null,
       "layout": "IPY_MODEL_ebd5d606ff5445af9f8a8e707248bb32",
       "max": 267967963.0,
       "min": 0.0,
       "orientation": "horizontal",
       "style": "IPY_MODEL_a11e520297de458bb19ccddf703fc972",
       "value": 267967963.0
      }
     },
     "ebd5d606ff5445af9f8a8e707248bb32": {
      "model_module": "@jupyter-widgets/base",
      "model_module_version": "1.2.0",
      "model_name": "LayoutModel",
      "state": {
       "_model_module": "@jupyter-widgets/base",
       "_model_module_version": "1.2.0",
       "_model_name": "LayoutModel",
       "_view_count": null,
       "_view_module": "@jupyter-widgets/base",
       "_view_module_version": "1.2.0",
       "_view_name": "LayoutView",
       "align_content": null,
       "align_items": null,
       "align_self": null,
       "border": null,
       "bottom": null,
       "display": null,
       "flex": null,
       "flex_flow": null,
       "grid_area": null,
       "grid_auto_columns": null,
       "grid_auto_flow": null,
       "grid_auto_rows": null,
       "grid_column": null,
       "grid_gap": null,
       "grid_row": null,
       "grid_template_areas": null,
       "grid_template_columns": null,
       "grid_template_rows": null,
       "height": null,
       "justify_content": null,
       "justify_items": null,
       "left": null,
       "margin": null,
       "max_height": null,
       "max_width": null,
       "min_height": null,
       "min_width": null,
       "object_fit": null,
       "object_position": null,
       "order": null,
       "overflow": null,
       "overflow_x": null,
       "overflow_y": null,
       "padding": null,
       "right": null,
       "top": null,
       "visibility": null,
       "width": null
      }
     },
     "eccbd4468e2c4511acc2b822d47fecd0": {
      "model_module": "@jupyter-widgets/controls",
      "model_module_version": "1.5.0",
      "model_name": "HTMLModel",
      "state": {
       "_dom_classes": [],
       "_model_module": "@jupyter-widgets/controls",
       "_model_module_version": "1.5.0",
       "_model_name": "HTMLModel",
       "_view_count": null,
       "_view_module": "@jupyter-widgets/controls",
       "_view_module_version": "1.5.0",
       "_view_name": "HTMLView",
       "description": "",
       "description_tooltip": null,
       "layout": "IPY_MODEL_ce2def2f54bf4762b426746bc8bdcfc6",
       "placeholder": "​",
       "style": "IPY_MODEL_5c6be18306c54f1c88767cf8abaa0649",
       "value": "Downloading: 100%"
      }
     },
     "f1f39a95e01e4c7b91315203766edc87": {
      "model_module": "@jupyter-widgets/controls",
      "model_module_version": "1.5.0",
      "model_name": "HBoxModel",
      "state": {
       "_dom_classes": [],
       "_model_module": "@jupyter-widgets/controls",
       "_model_module_version": "1.5.0",
       "_model_name": "HBoxModel",
       "_view_count": null,
       "_view_module": "@jupyter-widgets/controls",
       "_view_module_version": "1.5.0",
       "_view_name": "HBoxView",
       "box_style": "",
       "children": [
        "IPY_MODEL_7bd5d2d671e84ec2873f7081a885ff70",
        "IPY_MODEL_803f910a002f4162870d73817c43bc9b",
        "IPY_MODEL_7a71aa33c37d4888b7996af674c30565"
       ],
       "layout": "IPY_MODEL_dcfa1f2a56ec4be58416ddc4d553fee5"
      }
     },
     "fa55e2bb5e414e33a35cb8053c78279e": {
      "model_module": "@jupyter-widgets/controls",
      "model_module_version": "1.5.0",
      "model_name": "DescriptionStyleModel",
      "state": {
       "_model_module": "@jupyter-widgets/controls",
       "_model_module_version": "1.5.0",
       "_model_name": "DescriptionStyleModel",
       "_view_count": null,
       "_view_module": "@jupyter-widgets/base",
       "_view_module_version": "1.2.0",
       "_view_name": "StyleView",
       "description_width": ""
      }
     }
    },
    "version_major": 2,
    "version_minor": 0
   }
  }
 },
 "nbformat": 4,
 "nbformat_minor": 5
}

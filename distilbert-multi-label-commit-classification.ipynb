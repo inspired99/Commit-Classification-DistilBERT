{
 "cells": [
  {
   "cell_type": "markdown",
   "id": "ca51f151",
   "metadata": {
    "papermill": {
     "duration": 0.015173,
     "end_time": "2022-10-29T19:26:34.610949",
     "exception": false,
     "start_time": "2022-10-29T19:26:34.595776",
     "status": "completed"
    },
    "tags": []
   },
   "source": [
    "## Introduction"
   ]
  },
  {
   "cell_type": "markdown",
   "id": "614742ca",
   "metadata": {
    "papermill": {
     "duration": 0.01388,
     "end_time": "2022-10-29T19:26:34.638353",
     "exception": false,
     "start_time": "2022-10-29T19:26:34.624473",
     "status": "completed"
    },
    "tags": []
   },
   "source": [
    "The notebook is based on the article  [*Multi-label Classification of Commit Messages Using Transfer Learning*](https://www.researchgate.net/profile/Mohamed-Wiem-Mkaouer-2/publication/348228961_Multi-label_Classification_of_Commit_Messages_using_Transfer_Learning/links/61eacfc2c5e3103375ae596d/Multi-label-Classification-of-Commit-Messages-using-Transfer-Learning.pdf)\n",
    "\n",
    "The task is to classify commit messages into 3 categories (labels), but each commit message can have more than one label at once"
   ]
  },
  {
   "cell_type": "markdown",
   "id": "d0529e5d",
   "metadata": {
    "papermill": {
     "duration": 0.01344,
     "end_time": "2022-10-29T19:26:34.665462",
     "exception": false,
     "start_time": "2022-10-29T19:26:34.652022",
     "status": "completed"
    },
    "tags": []
   },
   "source": [
    "## Preparation"
   ]
  },
  {
   "cell_type": "code",
   "execution_count": 1,
   "id": "67fd9ce3",
   "metadata": {
    "execution": {
     "iopub.execute_input": "2022-10-29T19:26:34.694819Z",
     "iopub.status.busy": "2022-10-29T19:26:34.694235Z",
     "iopub.status.idle": "2022-10-29T19:26:56.263639Z",
     "shell.execute_reply": "2022-10-29T19:26:56.262272Z"
    },
    "id": "WC8lo9tGPIMs",
    "outputId": "a41054a9-c40d-4eb7-8de1-a1b3eac70aa8",
    "papermill": {
     "duration": 21.587731,
     "end_time": "2022-10-29T19:26:56.266912",
     "exception": false,
     "start_time": "2022-10-29T19:26:34.679181",
     "status": "completed"
    },
    "tags": []
   },
   "outputs": [
    {
     "name": "stdout",
     "output_type": "stream",
     "text": [
      "Requirement already satisfied: transformers in /opt/conda/lib/python3.7/site-packages (4.20.1)\r\n",
      "Requirement already satisfied: numpy>=1.17 in /opt/conda/lib/python3.7/site-packages (from transformers) (1.21.6)\r\n",
      "Requirement already satisfied: packaging>=20.0 in /opt/conda/lib/python3.7/site-packages (from transformers) (21.3)\r\n",
      "Requirement already satisfied: regex!=2019.12.17 in /opt/conda/lib/python3.7/site-packages (from transformers) (2021.11.10)\r\n",
      "Requirement already satisfied: tokenizers!=0.11.3,<0.13,>=0.11.1 in /opt/conda/lib/python3.7/site-packages (from transformers) (0.12.1)\r\n",
      "Requirement already satisfied: requests in /opt/conda/lib/python3.7/site-packages (from transformers) (2.28.1)\r\n",
      "Requirement already satisfied: tqdm>=4.27 in /opt/conda/lib/python3.7/site-packages (from transformers) (4.64.0)\r\n",
      "Requirement already satisfied: importlib-metadata in /opt/conda/lib/python3.7/site-packages (from transformers) (4.13.0)\r\n",
      "Requirement already satisfied: pyyaml>=5.1 in /opt/conda/lib/python3.7/site-packages (from transformers) (6.0)\r\n",
      "Requirement already satisfied: filelock in /opt/conda/lib/python3.7/site-packages (from transformers) (3.7.1)\r\n",
      "Requirement already satisfied: huggingface-hub<1.0,>=0.1.0 in /opt/conda/lib/python3.7/site-packages (from transformers) (0.10.1)\r\n",
      "Requirement already satisfied: typing-extensions>=3.7.4.3 in /opt/conda/lib/python3.7/site-packages (from huggingface-hub<1.0,>=0.1.0->transformers) (4.1.1)\r\n",
      "Requirement already satisfied: pyparsing!=3.0.5,>=2.0.2 in /opt/conda/lib/python3.7/site-packages (from packaging>=20.0->transformers) (3.0.9)\r\n",
      "Requirement already satisfied: zipp>=0.5 in /opt/conda/lib/python3.7/site-packages (from importlib-metadata->transformers) (3.8.0)\r\n",
      "Requirement already satisfied: idna<4,>=2.5 in /opt/conda/lib/python3.7/site-packages (from requests->transformers) (3.3)\r\n",
      "Requirement already satisfied: charset-normalizer<3,>=2 in /opt/conda/lib/python3.7/site-packages (from requests->transformers) (2.1.0)\r\n",
      "Requirement already satisfied: certifi>=2017.4.17 in /opt/conda/lib/python3.7/site-packages (from requests->transformers) (2022.9.24)\r\n",
      "Requirement already satisfied: urllib3<1.27,>=1.21.1 in /opt/conda/lib/python3.7/site-packages (from requests->transformers) (1.26.12)\r\n",
      "\u001b[33mWARNING: Running pip as the 'root' user can result in broken permissions and conflicting behaviour with the system package manager. It is recommended to use a virtual environment instead: https://pip.pypa.io/warnings/venv\u001b[0m\u001b[33m\r\n",
      "\u001b[0mCollecting lets_plot\r\n",
      "  Downloading lets_plot-2.5.0-cp37-cp37m-manylinux_2_17_x86_64.manylinux2014_x86_64.whl (3.0 MB)\r\n",
      "\u001b[2K     \u001b[90m━━━━━━━━━━━━━━━━━━━━━━━━━━━━━━━━━━━━━━━━\u001b[0m \u001b[32m3.0/3.0 MB\u001b[0m \u001b[31m17.2 MB/s\u001b[0m eta \u001b[36m0:00:00\u001b[0m\r\n",
      "\u001b[?25hCollecting pypng\r\n",
      "  Downloading pypng-0.20220715.0-py3-none-any.whl (58 kB)\r\n",
      "\u001b[2K     \u001b[90m━━━━━━━━━━━━━━━━━━━━━━━━━━━━━━━━━━━━━━━━\u001b[0m \u001b[32m58.1/58.1 kB\u001b[0m \u001b[31m5.3 MB/s\u001b[0m eta \u001b[36m0:00:00\u001b[0m\r\n",
      "\u001b[?25hInstalling collected packages: pypng, lets_plot\r\n",
      "Successfully installed lets_plot-2.5.0 pypng-0.20220715.0\r\n",
      "\u001b[33mWARNING: Running pip as the 'root' user can result in broken permissions and conflicting behaviour with the system package manager. It is recommended to use a virtual environment instead: https://pip.pypa.io/warnings/venv\u001b[0m\u001b[33m\r\n",
      "\u001b[0m"
     ]
    }
   ],
   "source": [
    "!pip install transformers\n",
    "!pip install lets_plot"
   ]
  },
  {
   "cell_type": "code",
   "execution_count": 2,
   "id": "6bce42b2",
   "metadata": {
    "execution": {
     "iopub.execute_input": "2022-10-29T19:26:56.315429Z",
     "iopub.status.busy": "2022-10-29T19:26:56.314926Z",
     "iopub.status.idle": "2022-10-29T19:27:06.089247Z",
     "shell.execute_reply": "2022-10-29T19:27:06.088074Z"
    },
    "id": "Lo6V4TgVlBc1",
    "papermill": {
     "duration": 9.801584,
     "end_time": "2022-10-29T19:27:06.091951",
     "exception": false,
     "start_time": "2022-10-29T19:26:56.290367",
     "status": "completed"
    },
    "tags": []
   },
   "outputs": [],
   "source": [
    "from transformers import DistilBertTokenizer, DistilBertForSequenceClassification, AdamW, get_linear_schedule_with_warmup\n",
    "from sklearn import metrics\n",
    "from lets_plot import *\n",
    "from torch.utils.data import TensorDataset, random_split, DataLoader, RandomSampler\n",
    "import matplotlib.pyplot as plt \n",
    "import pandas as pd\n",
    "import numpy as np\n",
    "import random\n",
    "import os\n",
    "import torch\n",
    "import warnings\n",
    "\n",
    "warnings.filterwarnings('ignore')"
   ]
  },
  {
   "cell_type": "code",
   "execution_count": 3,
   "id": "876ea33a",
   "metadata": {
    "execution": {
     "iopub.execute_input": "2022-10-29T19:27:06.123233Z",
     "iopub.status.busy": "2022-10-29T19:27:06.122161Z",
     "iopub.status.idle": "2022-10-29T19:27:06.247872Z",
     "shell.execute_reply": "2022-10-29T19:27:06.246719Z"
    },
    "id": "caHrdEttk0km",
    "outputId": "227e427b-e1d7-4d88-ac58-c5910ff72720",
    "papermill": {
     "duration": 0.142925,
     "end_time": "2022-10-29T19:27:06.249942",
     "exception": false,
     "start_time": "2022-10-29T19:27:06.107017",
     "status": "completed"
    },
    "tags": []
   },
   "outputs": [
    {
     "name": "stdout",
     "output_type": "stream",
     "text": [
      "Using GPU : Tesla T4\n"
     ]
    }
   ],
   "source": [
    "if torch.cuda.is_available():    \n",
    "    device = torch.device(\"cuda\")\n",
    "    print(f'Using GPU : {torch.cuda.get_device_name(0)}')\n",
    "else:\n",
    "    device = torch.device(\"cpu\")\n",
    "    print(f'Using CPU')"
   ]
  },
  {
   "cell_type": "code",
   "execution_count": 4,
   "id": "8d7c18e9",
   "metadata": {
    "execution": {
     "iopub.execute_input": "2022-10-29T19:27:06.293821Z",
     "iopub.status.busy": "2022-10-29T19:27:06.293019Z",
     "iopub.status.idle": "2022-10-29T19:27:06.300132Z",
     "shell.execute_reply": "2022-10-29T19:27:06.299101Z"
    },
    "papermill": {
     "duration": 0.031525,
     "end_time": "2022-10-29T19:27:06.302731",
     "exception": false,
     "start_time": "2022-10-29T19:27:06.271206",
     "status": "completed"
    },
    "tags": []
   },
   "outputs": [
    {
     "data": {
      "text/html": [
       "\n",
       "            <div id=\"1LPnDc\"></div>\n",
       "            <script type=\"text/javascript\" data-lets-plot-script=\"library\">\n",
       "                if(!window.letsPlotCallQueue) {\n",
       "                    window.letsPlotCallQueue = [];\n",
       "                }; \n",
       "                window.letsPlotCall = function(f) {\n",
       "                    window.letsPlotCallQueue.push(f);\n",
       "                };\n",
       "                (function() {\n",
       "                    var script = document.createElement(\"script\");\n",
       "                    script.type = \"text/javascript\";\n",
       "                    script.src = \"https://cdn.jsdelivr.net/gh/JetBrains/lets-plot@v2.5.0/js-package/distr/lets-plot.min.js\";\n",
       "                    script.onload = function() {\n",
       "                        window.letsPlotCall = function(f) {f();};\n",
       "                        window.letsPlotCallQueue.forEach(function(f) {f();});\n",
       "                        window.letsPlotCallQueue = [];\n",
       "                        \n",
       "                    };\n",
       "                    script.onerror = function(event) {\n",
       "                        window.letsPlotCall = function(f) {};    // noop\n",
       "                        window.letsPlotCallQueue = [];\n",
       "                        var div = document.createElement(\"div\");\n",
       "                        div.style.color = 'darkred';\n",
       "                        div.textContent = 'Error loading Lets-Plot JS';\n",
       "                        document.getElementById(\"1LPnDc\").appendChild(div);\n",
       "                    };\n",
       "                    var e = document.getElementById(\"1LPnDc\");\n",
       "                    e.appendChild(script);\n",
       "                })()\n",
       "            </script>\n",
       "            "
      ]
     },
     "metadata": {},
     "output_type": "display_data"
    }
   ],
   "source": [
    "LetsPlot.setup_html()"
   ]
  },
  {
   "cell_type": "markdown",
   "id": "55778951",
   "metadata": {
    "papermill": {
     "duration": 0.014262,
     "end_time": "2022-10-29T19:27:06.330808",
     "exception": false,
     "start_time": "2022-10-29T19:27:06.316546",
     "status": "completed"
    },
    "tags": []
   },
   "source": [
    "## Exploration"
   ]
  },
  {
   "cell_type": "code",
   "execution_count": 5,
   "id": "a5b7bffd",
   "metadata": {
    "execution": {
     "iopub.execute_input": "2022-10-29T19:27:06.360846Z",
     "iopub.status.busy": "2022-10-29T19:27:06.359955Z",
     "iopub.status.idle": "2022-10-29T19:27:06.364486Z",
     "shell.execute_reply": "2022-10-29T19:27:06.363642Z"
    },
    "id": "1B-li2JyJMS2",
    "papermill": {
     "duration": 0.021597,
     "end_time": "2022-10-29T19:27:06.366444",
     "exception": false,
     "start_time": "2022-10-29T19:27:06.344847",
     "status": "completed"
    },
    "tags": []
   },
   "outputs": [],
   "source": [
    "path_to_data = '../input/commit-data/train_2K.csv'"
   ]
  },
  {
   "cell_type": "code",
   "execution_count": 6,
   "id": "78382a4b",
   "metadata": {
    "execution": {
     "iopub.execute_input": "2022-10-29T19:27:06.401806Z",
     "iopub.status.busy": "2022-10-29T19:27:06.400884Z",
     "iopub.status.idle": "2022-10-29T19:27:06.437084Z",
     "shell.execute_reply": "2022-10-29T19:27:06.436172Z"
    },
    "id": "E-igiZ3AJXCD",
    "papermill": {
     "duration": 0.058462,
     "end_time": "2022-10-29T19:27:06.439184",
     "exception": false,
     "start_time": "2022-10-29T19:27:06.380722",
     "status": "completed"
    },
    "tags": []
   },
   "outputs": [],
   "source": [
    "data = pd.read_csv(path_to_data)"
   ]
  },
  {
   "cell_type": "code",
   "execution_count": 7,
   "id": "df82433b",
   "metadata": {
    "execution": {
     "iopub.execute_input": "2022-10-29T19:27:06.469724Z",
     "iopub.status.busy": "2022-10-29T19:27:06.468897Z",
     "iopub.status.idle": "2022-10-29T19:27:06.491541Z",
     "shell.execute_reply": "2022-10-29T19:27:06.490665Z"
    },
    "id": "2gUHBMpkJY_z",
    "outputId": "302820aa-aaf8-4adb-dd15-cf8f76fe3ff5",
    "papermill": {
     "duration": 0.04021,
     "end_time": "2022-10-29T19:27:06.493683",
     "exception": false,
     "start_time": "2022-10-29T19:27:06.453473",
     "status": "completed"
    },
    "tags": []
   },
   "outputs": [
    {
     "data": {
      "text/html": [
       "<div>\n",
       "<style scoped>\n",
       "    .dataframe tbody tr th:only-of-type {\n",
       "        vertical-align: middle;\n",
       "    }\n",
       "\n",
       "    .dataframe tbody tr th {\n",
       "        vertical-align: top;\n",
       "    }\n",
       "\n",
       "    .dataframe thead th {\n",
       "        text-align: right;\n",
       "    }\n",
       "</style>\n",
       "<table border=\"1\" class=\"dataframe\">\n",
       "  <thead>\n",
       "    <tr style=\"text-align: right;\">\n",
       "      <th></th>\n",
       "      <th>id</th>\n",
       "      <th>text</th>\n",
       "      <th>Corrective</th>\n",
       "      <th>Adaptive</th>\n",
       "      <th>Perfective</th>\n",
       "    </tr>\n",
       "  </thead>\n",
       "  <tbody>\n",
       "    <tr>\n",
       "      <th>0</th>\n",
       "      <td>0</td>\n",
       "      <td>netfilter: xt_log: fix mark logging for ip...</td>\n",
       "      <td>1</td>\n",
       "      <td>0</td>\n",
       "      <td>0</td>\n",
       "    </tr>\n",
       "    <tr>\n",
       "      <th>1</th>\n",
       "      <td>1</td>\n",
       "      <td>[patch] inode-diet: eliminate i_blksize fr...</td>\n",
       "      <td>1</td>\n",
       "      <td>0</td>\n",
       "      <td>0</td>\n",
       "    </tr>\n",
       "    <tr>\n",
       "      <th>2</th>\n",
       "      <td>2</td>\n",
       "      <td>tensor roll op implementation (#14953)    ...</td>\n",
       "      <td>1</td>\n",
       "      <td>1</td>\n",
       "      <td>0</td>\n",
       "    </tr>\n",
       "    <tr>\n",
       "      <th>3</th>\n",
       "      <td>3</td>\n",
       "      <td>improve video updates from sheet</td>\n",
       "      <td>0</td>\n",
       "      <td>0</td>\n",
       "      <td>1</td>\n",
       "    </tr>\n",
       "    <tr>\n",
       "      <th>4</th>\n",
       "      <td>4</td>\n",
       "      <td>[spark-9372] [sql] filter nulls in join ke...</td>\n",
       "      <td>0</td>\n",
       "      <td>0</td>\n",
       "      <td>1</td>\n",
       "    </tr>\n",
       "  </tbody>\n",
       "</table>\n",
       "</div>"
      ],
      "text/plain": [
       "   id                                               text  Corrective  \\\n",
       "0   0      netfilter: xt_log: fix mark logging for ip...           1   \n",
       "1   1      [patch] inode-diet: eliminate i_blksize fr...           1   \n",
       "2   2      tensor roll op implementation (#14953)    ...           1   \n",
       "3   3                  improve video updates from sheet            0   \n",
       "4   4      [spark-9372] [sql] filter nulls in join ke...           0   \n",
       "\n",
       "   Adaptive  Perfective  \n",
       "0         0           0  \n",
       "1         0           0  \n",
       "2         1           0  \n",
       "3         0           1  \n",
       "4         0           1  "
      ]
     },
     "execution_count": 7,
     "metadata": {},
     "output_type": "execute_result"
    }
   ],
   "source": [
    "data = data.rename(columns={'Unnamed: 0': 'id'})\n",
    "data.head()"
   ]
  },
  {
   "cell_type": "markdown",
   "id": "f442d704",
   "metadata": {
    "papermill": {
     "duration": 0.01426,
     "end_time": "2022-10-29T19:27:06.522367",
     "exception": false,
     "start_time": "2022-10-29T19:27:06.508107",
     "status": "completed"
    },
    "tags": []
   },
   "source": [
    "Let's look at the distribution of labels in our dataset, to begin with, we need to count the frequency of occuring of each label solely"
   ]
  },
  {
   "cell_type": "code",
   "execution_count": 8,
   "id": "56395af3",
   "metadata": {
    "execution": {
     "iopub.execute_input": "2022-10-29T19:27:06.551801Z",
     "iopub.status.busy": "2022-10-29T19:27:06.550979Z",
     "iopub.status.idle": "2022-10-29T19:27:06.560479Z",
     "shell.execute_reply": "2022-10-29T19:27:06.559331Z"
    },
    "papermill": {
     "duration": 0.025759,
     "end_time": "2022-10-29T19:27:06.562400",
     "exception": false,
     "start_time": "2022-10-29T19:27:06.536641",
     "status": "completed"
    },
    "tags": []
   },
   "outputs": [],
   "source": [
    "uni_label_info = pd.DataFrame({\n",
    "    'Corrective' : data.Corrective,\n",
    "    'Adaptive' :  data.Adaptive,\n",
    "    'Perfective' : data.Perfective\n",
    "})\n",
    "stat_info = pd.DataFrame({\n",
    "    'Label' : uni_label_info.keys(),\n",
    "    'Frequency' : [sum(uni_label_info.Corrective), sum(uni_label_info.Adaptive), \n",
    "                   sum(uni_label_info.Perfective)]\n",
    "})"
   ]
  },
  {
   "cell_type": "code",
   "execution_count": 9,
   "id": "2462047c",
   "metadata": {
    "execution": {
     "iopub.execute_input": "2022-10-29T19:27:06.591746Z",
     "iopub.status.busy": "2022-10-29T19:27:06.591104Z",
     "iopub.status.idle": "2022-10-29T19:27:07.116216Z",
     "shell.execute_reply": "2022-10-29T19:27:07.115222Z"
    },
    "papermill": {
     "duration": 0.542595,
     "end_time": "2022-10-29T19:27:07.119066",
     "exception": false,
     "start_time": "2022-10-29T19:27:06.576471",
     "status": "completed"
    },
    "tags": []
   },
   "outputs": [
    {
     "data": {
      "text/html": [
       "   <div id=\"kP76If\"></div>\n",
       "   <script type=\"text/javascript\" data-lets-plot-script=\"plot\">\n",
       "       (function() {\n",
       "           var plotSpec={\n",
       "\"data\":{\n",
       "},\n",
       "\"mapping\":{\n",
       "\"x\":\"x\",\n",
       "\"weight\":\"weight\",\n",
       "\"fill\":\"fill\"\n",
       "},\n",
       "\"data_meta\":{\n",
       "},\n",
       "\"kind\":\"plot\",\n",
       "\"scales\":[{\n",
       "\"name\":\"Label\",\n",
       "\"aesthetic\":\"x\"\n",
       "},{\n",
       "\"name\":\"Times Occured\",\n",
       "\"aesthetic\":\"y\"\n",
       "}],\n",
       "\"layers\":[{\n",
       "\"geom\":\"bar\",\n",
       "\"mapping\":{\n",
       "},\n",
       "\"data_meta\":{\n",
       "},\n",
       "\"data\":{\n",
       "\"..count..\":[758.0,662.0,942.0],\n",
       "\"x\":[\"Corrective\",\"Adaptive\",\"Perfective\"],\n",
       "\"fill\":[\"Corrective\",\"Adaptive\",\"Perfective\"]\n",
       "}\n",
       "}],\n",
       "\"metainfo_list\":[]\n",
       "};\n",
       "           var plotContainer = document.getElementById(\"kP76If\");\n",
       "           window.letsPlotCall(function() {{\n",
       "               LetsPlot.buildPlotFromProcessedSpecs(plotSpec, -1, -1, plotContainer);\n",
       "           }});\n",
       "       })();    \n",
       "   </script>"
      ],
      "text/plain": [
       "<lets_plot.plot.core.PlotSpec at 0x7fa20a8b7510>"
      ]
     },
     "execution_count": 9,
     "metadata": {},
     "output_type": "execute_result"
    }
   ],
   "source": [
    "ggplot(stat_info, aes(x=stat_info.Label, weight=stat_info.Frequency, fill=stat_info.Label)) + \\\n",
    "    geom_bar() + labs(x='Label', y='Times Occured')"
   ]
  },
  {
   "cell_type": "markdown",
   "id": "b89330a4",
   "metadata": {
    "papermill": {
     "duration": 0.02094,
     "end_time": "2022-10-29T19:27:07.165371",
     "exception": false,
     "start_time": "2022-10-29T19:27:07.144431",
     "status": "completed"
    },
    "tags": []
   },
   "source": [
    "Also we need to look at the real multi-labeled distribution in our dataset"
   ]
  },
  {
   "cell_type": "code",
   "execution_count": 10,
   "id": "a7e5e8b0",
   "metadata": {
    "execution": {
     "iopub.execute_input": "2022-10-29T19:27:07.215110Z",
     "iopub.status.busy": "2022-10-29T19:27:07.214724Z",
     "iopub.status.idle": "2022-10-29T19:27:08.100073Z",
     "shell.execute_reply": "2022-10-29T19:27:08.098559Z"
    },
    "papermill": {
     "duration": 0.911224,
     "end_time": "2022-10-29T19:27:08.103070",
     "exception": false,
     "start_time": "2022-10-29T19:27:07.191846",
     "status": "completed"
    },
    "tags": []
   },
   "outputs": [
    {
     "name": "stdout",
     "output_type": "stream",
     "text": [
      "Label combinations in total: 7\n",
      "Amount of labeled commit messages: 2035       \n",
      "Dataset rows size: 2037 \n",
      "There are 2 commit messages without labels in dataset\n"
     ]
    }
   ],
   "source": [
    "combinations = {'Corrective' : 0, 'Corrective Adaptive' : 0, 'Corrective Adaptive Perfective' : 0, 'Adaptive' : 0, 'Perfective' : 0, 'Adaptive Perfective' : 0, 'Corrective Perfective' : 0}\n",
    "multi_label = pd.Series([\"\" for i in range(len(uni_label_info.index))])\n",
    "idx_to_drop = []\n",
    "for i in range(len(uni_label_info.index)):\n",
    "    if not uni_label_info.iloc[i].any():\n",
    "        idx_to_drop.append(i)\n",
    "        continue\n",
    "    if uni_label_info.iloc[i].Corrective:\n",
    "        multi_label[i] += 'Corrective '\n",
    "    if uni_label_info.iloc[i].Adaptive:\n",
    "        multi_label[i] += 'Adaptive '\n",
    "    if uni_label_info.iloc[i].Perfective:\n",
    "        multi_label[i] += 'Perfective '\n",
    "    combinations[multi_label[i].strip()] += 1\n",
    "total_number = sum(combinations.values())\n",
    "combinations = {k: v / total_number for k,v in combinations.items()}\n",
    "multi_label_info = pd.DataFrame({\n",
    "    'Label' : combinations.keys(),\n",
    "    'Frequency' : combinations.values()\n",
    "})\n",
    "print(f'Label combinations in total: {len(combinations.keys())}\\nAmount of labeled commit messages: {total_number} \\\n",
    "      \\nDataset rows size: {data.shape[0]} \\nThere are {data.shape[0] - total_number} commit messages \\\n",
    "without labels in dataset')"
   ]
  },
  {
   "cell_type": "code",
   "execution_count": 11,
   "id": "f0449057",
   "metadata": {
    "execution": {
     "iopub.execute_input": "2022-10-29T19:27:08.135694Z",
     "iopub.status.busy": "2022-10-29T19:27:08.135387Z",
     "iopub.status.idle": "2022-10-29T19:27:08.148811Z",
     "shell.execute_reply": "2022-10-29T19:27:08.147803Z"
    },
    "papermill": {
     "duration": 0.031327,
     "end_time": "2022-10-29T19:27:08.150739",
     "exception": false,
     "start_time": "2022-10-29T19:27:08.119412",
     "status": "completed"
    },
    "tags": []
   },
   "outputs": [
    {
     "data": {
      "text/html": [
       "   <div id=\"j9wRKU\"></div>\n",
       "   <script type=\"text/javascript\" data-lets-plot-script=\"plot\">\n",
       "       (function() {\n",
       "           var plotSpec={\n",
       "\"data\":{\n",
       "},\n",
       "\"mapping\":{\n",
       "\"x\":\"x\",\n",
       "\"weight\":\"weight\",\n",
       "\"fill\":\"fill\"\n",
       "},\n",
       "\"data_meta\":{\n",
       "},\n",
       "\"coord\":{\n",
       "\"name\":\"cartesian\",\n",
       "\"ylim\":[0.0,0.5],\n",
       "\"flip\":false\n",
       "},\n",
       "\"kind\":\"plot\",\n",
       "\"scales\":[{\n",
       "\"name\":\"Label\",\n",
       "\"aesthetic\":\"x\"\n",
       "},{\n",
       "\"name\":\"Density\",\n",
       "\"aesthetic\":\"y\"\n",
       "}],\n",
       "\"layers\":[{\n",
       "\"geom\":\"bar\",\n",
       "\"mapping\":{\n",
       "},\n",
       "\"data_meta\":{\n",
       "},\n",
       "\"data\":{\n",
       "\"..count..\":[0.28992628992628994,0.030466830466830467,0.011302211302211302,0.2167076167076167,0.343980343980344,0.06683046683046683,0.04078624078624079],\n",
       "\"x\":[\"Corrective\",\"Corrective Adaptive\",\"Corrective Adaptive Perfective\",\"Adaptive\",\"Perfective\",\"Adaptive Perfective\",\"Corrective Perfective\"],\n",
       "\"fill\":[\"Corrective\",\"Corrective Adaptive\",\"Corrective Adaptive Perfective\",\"Adaptive\",\"Perfective\",\"Adaptive Perfective\",\"Corrective Perfective\"]\n",
       "}\n",
       "}],\n",
       "\"metainfo_list\":[]\n",
       "};\n",
       "           var plotContainer = document.getElementById(\"j9wRKU\");\n",
       "           window.letsPlotCall(function() {{\n",
       "               LetsPlot.buildPlotFromProcessedSpecs(plotSpec, -1, -1, plotContainer);\n",
       "           }});\n",
       "       })();    \n",
       "   </script>"
      ],
      "text/plain": [
       "<lets_plot.plot.core.PlotSpec at 0x7fa2081775d0>"
      ]
     },
     "execution_count": 11,
     "metadata": {},
     "output_type": "execute_result"
    }
   ],
   "source": [
    "ggplot(multi_label_info, aes(x=multi_label_info.Label, weight=multi_label_info.Frequency, fill=multi_label_info.Label)) + \\\n",
    "    geom_bar() + labs(x='Label', y='Density') + coord_cartesian(ylim=(0.0, 0.5))"
   ]
  },
  {
   "cell_type": "markdown",
   "id": "56646cc6",
   "metadata": {
    "papermill": {
     "duration": 0.014495,
     "end_time": "2022-10-29T19:27:08.179944",
     "exception": false,
     "start_time": "2022-10-29T19:27:08.165449",
     "status": "completed"
    },
    "tags": []
   },
   "source": [
    "As we can see according to the distribution, majority of commits are uni-labeled, in other words, they are best option, since they only refer to one \"atomic\" change (in one category). But in reality there are many others commits that have more than one label based on their messages. \n",
    "\n",
    "Let's ignore values like `[0, 0, 0]` (in article they are also ignored)"
   ]
  },
  {
   "cell_type": "code",
   "execution_count": 12,
   "id": "df9ad9ec",
   "metadata": {
    "execution": {
     "iopub.execute_input": "2022-10-29T19:27:08.211322Z",
     "iopub.status.busy": "2022-10-29T19:27:08.210508Z",
     "iopub.status.idle": "2022-10-29T19:27:08.222550Z",
     "shell.execute_reply": "2022-10-29T19:27:08.221645Z"
    },
    "papermill": {
     "duration": 0.030032,
     "end_time": "2022-10-29T19:27:08.224807",
     "exception": false,
     "start_time": "2022-10-29T19:27:08.194775",
     "status": "completed"
    },
    "tags": []
   },
   "outputs": [
    {
     "data": {
      "text/plain": [
       "(2035, 5)"
      ]
     },
     "execution_count": 12,
     "metadata": {},
     "output_type": "execute_result"
    }
   ],
   "source": [
    "data = data.drop(labels=idx_to_drop, axis=0)\n",
    "data.shape"
   ]
  },
  {
   "cell_type": "markdown",
   "id": "5b067636",
   "metadata": {
    "papermill": {
     "duration": 0.014416,
     "end_time": "2022-10-29T19:27:08.254739",
     "exception": false,
     "start_time": "2022-10-29T19:27:08.240323",
     "status": "completed"
    },
    "tags": []
   },
   "source": [
    "Let's add column of labeled vectors to our dataset for the convinience"
   ]
  },
  {
   "cell_type": "code",
   "execution_count": 13,
   "id": "f64998b8",
   "metadata": {
    "execution": {
     "iopub.execute_input": "2022-10-29T19:27:08.284924Z",
     "iopub.status.busy": "2022-10-29T19:27:08.284495Z",
     "iopub.status.idle": "2022-10-29T19:27:08.993210Z",
     "shell.execute_reply": "2022-10-29T19:27:08.992141Z"
    },
    "papermill": {
     "duration": 0.726464,
     "end_time": "2022-10-29T19:27:08.995524",
     "exception": false,
     "start_time": "2022-10-29T19:27:08.269060",
     "status": "completed"
    },
    "tags": []
   },
   "outputs": [
    {
     "data": {
      "text/plain": [
       "(2035, 6)"
      ]
     },
     "execution_count": 13,
     "metadata": {},
     "output_type": "execute_result"
    }
   ],
   "source": [
    "labels_all = [[0, 0, 0] for i in range(len(data.index))]\n",
    "for i in range(len(data.index)):\n",
    "    if data.iloc[i].Corrective:\n",
    "        labels_all[i][0] = 1\n",
    "    if data.iloc[i].Adaptive:\n",
    "        labels_all[i][1] = 1\n",
    "    if data.iloc[i].Perfective:\n",
    "        labels_all[i][2] = 1\n",
    "data['labels'] = labels_all\n",
    "data.shape"
   ]
  },
  {
   "cell_type": "code",
   "execution_count": 14,
   "id": "1becbdc5",
   "metadata": {
    "execution": {
     "iopub.execute_input": "2022-10-29T19:27:09.030793Z",
     "iopub.status.busy": "2022-10-29T19:27:09.028911Z",
     "iopub.status.idle": "2022-10-29T19:27:09.042855Z",
     "shell.execute_reply": "2022-10-29T19:27:09.041832Z"
    },
    "papermill": {
     "duration": 0.033621,
     "end_time": "2022-10-29T19:27:09.045061",
     "exception": false,
     "start_time": "2022-10-29T19:27:09.011440",
     "status": "completed"
    },
    "tags": []
   },
   "outputs": [
    {
     "data": {
      "text/html": [
       "<div>\n",
       "<style scoped>\n",
       "    .dataframe tbody tr th:only-of-type {\n",
       "        vertical-align: middle;\n",
       "    }\n",
       "\n",
       "    .dataframe tbody tr th {\n",
       "        vertical-align: top;\n",
       "    }\n",
       "\n",
       "    .dataframe thead th {\n",
       "        text-align: right;\n",
       "    }\n",
       "</style>\n",
       "<table border=\"1\" class=\"dataframe\">\n",
       "  <thead>\n",
       "    <tr style=\"text-align: right;\">\n",
       "      <th></th>\n",
       "      <th>id</th>\n",
       "      <th>text</th>\n",
       "      <th>Corrective</th>\n",
       "      <th>Adaptive</th>\n",
       "      <th>Perfective</th>\n",
       "      <th>labels</th>\n",
       "    </tr>\n",
       "  </thead>\n",
       "  <tbody>\n",
       "    <tr>\n",
       "      <th>0</th>\n",
       "      <td>0</td>\n",
       "      <td>netfilter: xt_log: fix mark logging for ip...</td>\n",
       "      <td>1</td>\n",
       "      <td>0</td>\n",
       "      <td>0</td>\n",
       "      <td>[1, 0, 0]</td>\n",
       "    </tr>\n",
       "    <tr>\n",
       "      <th>1</th>\n",
       "      <td>1</td>\n",
       "      <td>[patch] inode-diet: eliminate i_blksize fr...</td>\n",
       "      <td>1</td>\n",
       "      <td>0</td>\n",
       "      <td>0</td>\n",
       "      <td>[1, 0, 0]</td>\n",
       "    </tr>\n",
       "    <tr>\n",
       "      <th>2</th>\n",
       "      <td>2</td>\n",
       "      <td>tensor roll op implementation (#14953)    ...</td>\n",
       "      <td>1</td>\n",
       "      <td>1</td>\n",
       "      <td>0</td>\n",
       "      <td>[1, 1, 0]</td>\n",
       "    </tr>\n",
       "    <tr>\n",
       "      <th>3</th>\n",
       "      <td>3</td>\n",
       "      <td>improve video updates from sheet</td>\n",
       "      <td>0</td>\n",
       "      <td>0</td>\n",
       "      <td>1</td>\n",
       "      <td>[0, 0, 1]</td>\n",
       "    </tr>\n",
       "    <tr>\n",
       "      <th>4</th>\n",
       "      <td>4</td>\n",
       "      <td>[spark-9372] [sql] filter nulls in join ke...</td>\n",
       "      <td>0</td>\n",
       "      <td>0</td>\n",
       "      <td>1</td>\n",
       "      <td>[0, 0, 1]</td>\n",
       "    </tr>\n",
       "  </tbody>\n",
       "</table>\n",
       "</div>"
      ],
      "text/plain": [
       "   id                                               text  Corrective  \\\n",
       "0   0      netfilter: xt_log: fix mark logging for ip...           1   \n",
       "1   1      [patch] inode-diet: eliminate i_blksize fr...           1   \n",
       "2   2      tensor roll op implementation (#14953)    ...           1   \n",
       "3   3                  improve video updates from sheet            0   \n",
       "4   4      [spark-9372] [sql] filter nulls in join ke...           0   \n",
       "\n",
       "   Adaptive  Perfective     labels  \n",
       "0         0           0  [1, 0, 0]  \n",
       "1         0           0  [1, 0, 0]  \n",
       "2         1           0  [1, 1, 0]  \n",
       "3         0           1  [0, 0, 1]  \n",
       "4         0           1  [0, 0, 1]  "
      ]
     },
     "execution_count": 14,
     "metadata": {},
     "output_type": "execute_result"
    }
   ],
   "source": [
    "data.head()"
   ]
  },
  {
   "cell_type": "markdown",
   "id": "710078d5",
   "metadata": {
    "papermill": {
     "duration": 0.016598,
     "end_time": "2022-10-29T19:27:09.078345",
     "exception": false,
     "start_time": "2022-10-29T19:27:09.061747",
     "status": "completed"
    },
    "tags": []
   },
   "source": [
    "## Preprocessing and Tokenizing"
   ]
  },
  {
   "cell_type": "markdown",
   "id": "202e3ae2",
   "metadata": {
    "papermill": {
     "duration": 0.020226,
     "end_time": "2022-10-29T19:27:09.115591",
     "exception": false,
     "start_time": "2022-10-29T19:27:09.095365",
     "status": "completed"
    },
    "tags": []
   },
   "source": [
    "Let's extract X and y for our data and use pretrained `DistilBert` tokenizer in order to preprocess commit messages texts "
   ]
  },
  {
   "cell_type": "code",
   "execution_count": 15,
   "id": "4986449b",
   "metadata": {
    "execution": {
     "iopub.execute_input": "2022-10-29T19:27:09.155306Z",
     "iopub.status.busy": "2022-10-29T19:27:09.154370Z",
     "iopub.status.idle": "2022-10-29T19:27:09.159801Z",
     "shell.execute_reply": "2022-10-29T19:27:09.158746Z"
    },
    "id": "35Z2mpSxElQL",
    "outputId": "3759e30b-1bf4-4487-a487-d0a8ce3cc0de",
    "papermill": {
     "duration": 0.026136,
     "end_time": "2022-10-29T19:27:09.162052",
     "exception": false,
     "start_time": "2022-10-29T19:27:09.135916",
     "status": "completed"
    },
    "tags": []
   },
   "outputs": [],
   "source": [
    "text_data = data.text.values\n",
    "labels_data = list(data.labels)"
   ]
  },
  {
   "cell_type": "code",
   "execution_count": 16,
   "id": "0337c20b",
   "metadata": {
    "execution": {
     "iopub.execute_input": "2022-10-29T19:27:09.197720Z",
     "iopub.status.busy": "2022-10-29T19:27:09.197377Z",
     "iopub.status.idle": "2022-10-29T19:27:09.202015Z",
     "shell.execute_reply": "2022-10-29T19:27:09.200906Z"
    },
    "id": "DP64JuvnWHzD",
    "papermill": {
     "duration": 0.02549,
     "end_time": "2022-10-29T19:27:09.204432",
     "exception": false,
     "start_time": "2022-10-29T19:27:09.178942",
     "status": "completed"
    },
    "tags": []
   },
   "outputs": [],
   "source": [
    "model_name = 'distilbert-base-uncased'"
   ]
  },
  {
   "cell_type": "code",
   "execution_count": 17,
   "id": "e11a0fa8",
   "metadata": {
    "execution": {
     "iopub.execute_input": "2022-10-29T19:27:09.239829Z",
     "iopub.status.busy": "2022-10-29T19:27:09.239489Z",
     "iopub.status.idle": "2022-10-29T19:27:10.793874Z",
     "shell.execute_reply": "2022-10-29T19:27:10.792925Z"
    },
    "papermill": {
     "duration": 1.57494,
     "end_time": "2022-10-29T19:27:10.796303",
     "exception": false,
     "start_time": "2022-10-29T19:27:09.221363",
     "status": "completed"
    },
    "tags": []
   },
   "outputs": [
    {
     "data": {
      "application/vnd.jupyter.widget-view+json": {
       "model_id": "38c37c48e5f549c4a2db8e2df5e48c09",
       "version_major": 2,
       "version_minor": 0
      },
      "text/plain": [
       "Downloading:   0%|          | 0.00/226k [00:00<?, ?B/s]"
      ]
     },
     "metadata": {},
     "output_type": "display_data"
    },
    {
     "data": {
      "application/vnd.jupyter.widget-view+json": {
       "model_id": "c55b00ca4ecc4b1e8c9e898ed8b25cfe",
       "version_major": 2,
       "version_minor": 0
      },
      "text/plain": [
       "Downloading:   0%|          | 0.00/28.0 [00:00<?, ?B/s]"
      ]
     },
     "metadata": {},
     "output_type": "display_data"
    },
    {
     "data": {
      "application/vnd.jupyter.widget-view+json": {
       "model_id": "60a4f08720a24f4ba96ae5c6b9575cff",
       "version_major": 2,
       "version_minor": 0
      },
      "text/plain": [
       "Downloading:   0%|          | 0.00/483 [00:00<?, ?B/s]"
      ]
     },
     "metadata": {},
     "output_type": "display_data"
    }
   ],
   "source": [
    "tokenizer = DistilBertTokenizer.from_pretrained(model_name)"
   ]
  },
  {
   "cell_type": "markdown",
   "id": "299c13a1",
   "metadata": {
    "papermill": {
     "duration": 0.016029,
     "end_time": "2022-10-29T19:27:10.829012",
     "exception": false,
     "start_time": "2022-10-29T19:27:10.812983",
     "status": "completed"
    },
    "tags": []
   },
   "source": [
    "Tokenizing and converting data to tensors, we truncate it to `max_length=256`, since it's enough in our case"
   ]
  },
  {
   "cell_type": "code",
   "execution_count": 18,
   "id": "4cd01037",
   "metadata": {
    "execution": {
     "iopub.execute_input": "2022-10-29T19:27:10.864743Z",
     "iopub.status.busy": "2022-10-29T19:27:10.863694Z",
     "iopub.status.idle": "2022-10-29T19:27:13.719155Z",
     "shell.execute_reply": "2022-10-29T19:27:13.717770Z"
    },
    "papermill": {
     "duration": 2.876371,
     "end_time": "2022-10-29T19:27:13.722501",
     "exception": false,
     "start_time": "2022-10-29T19:27:10.846130",
     "status": "completed"
    },
    "tags": []
   },
   "outputs": [
    {
     "name": "stdout",
     "output_type": "stream",
     "text": [
      "Max length:  161.0\n"
     ]
    }
   ],
   "source": [
    "max_len = np.zeros(len(text_data))\n",
    "for i in range(len(text_data)):\n",
    "    input_ids = tokenizer.encode(text_data[i], add_special_tokens=True)\n",
    "    max_len[i] = len(input_ids)\n",
    "print('Max length: ', max_len.max())"
   ]
  },
  {
   "cell_type": "markdown",
   "id": "a800da89",
   "metadata": {
    "papermill": {
     "duration": 0.015373,
     "end_time": "2022-10-29T19:27:13.754728",
     "exception": false,
     "start_time": "2022-10-29T19:27:13.739355",
     "status": "completed"
    },
    "tags": []
   },
   "source": [
    "Also we add special tokens"
   ]
  },
  {
   "cell_type": "code",
   "execution_count": 19,
   "id": "4f6c242b",
   "metadata": {
    "execution": {
     "iopub.execute_input": "2022-10-29T19:27:13.787779Z",
     "iopub.status.busy": "2022-10-29T19:27:13.786868Z",
     "iopub.status.idle": "2022-10-29T19:27:16.951987Z",
     "shell.execute_reply": "2022-10-29T19:27:16.950981Z"
    },
    "id": "Zq56LQmjFFaU",
    "outputId": "15551c31-ecec-407a-a638-522444bd37b2",
    "papermill": {
     "duration": 3.18467,
     "end_time": "2022-10-29T19:27:16.954856",
     "exception": false,
     "start_time": "2022-10-29T19:27:13.770186",
     "status": "completed"
    },
    "tags": []
   },
   "outputs": [],
   "source": [
    "input_ids = []\n",
    "attention_masks = []\n",
    "\n",
    "for text in text_data:\n",
    "    encoded_dict = tokenizer.encode_plus(\n",
    "                        text,                     \n",
    "                        add_special_tokens = True,\n",
    "                        max_length = 256,          \n",
    "                        pad_to_max_length = True,\n",
    "                        truncation=True,\n",
    "                        return_attention_mask = True,  \n",
    "                        return_tensors = 'pt')\n",
    "    input_ids.append(encoded_dict['input_ids'])\n",
    "    attention_masks.append(encoded_dict['attention_mask'])\n",
    "\n",
    "input_ids = torch.cat(input_ids, dim=0)\n",
    "attention_masks = torch.cat(attention_masks, dim=0)\n",
    "labels_tensor = torch.tensor(labels_data)"
   ]
  },
  {
   "cell_type": "markdown",
   "id": "21cc7d91",
   "metadata": {
    "papermill": {
     "duration": 0.016195,
     "end_time": "2022-10-29T19:27:16.988040",
     "exception": false,
     "start_time": "2022-10-29T19:27:16.971845",
     "status": "completed"
    },
    "tags": []
   },
   "source": [
    "## Setting up Dataset and Model"
   ]
  },
  {
   "cell_type": "markdown",
   "id": "c1aec7b6",
   "metadata": {
    "papermill": {
     "duration": 0.016097,
     "end_time": "2022-10-29T19:27:17.020526",
     "exception": false,
     "start_time": "2022-10-29T19:27:17.004429",
     "status": "completed"
    },
    "tags": []
   },
   "source": [
    "Let's split our dataset into 3 parts: train set (80%), validation set (10%) and test set (10%) and create `DataLoader` for them"
   ]
  },
  {
   "cell_type": "code",
   "execution_count": 20,
   "id": "8a792737",
   "metadata": {
    "execution": {
     "iopub.execute_input": "2022-10-29T19:27:17.053346Z",
     "iopub.status.busy": "2022-10-29T19:27:17.052712Z",
     "iopub.status.idle": "2022-10-29T19:27:17.062340Z",
     "shell.execute_reply": "2022-10-29T19:27:17.060859Z"
    },
    "id": "B29DjUkfFQPM",
    "outputId": "886921ec-67da-4a48-cd81-bdfd63f32f5a",
    "papermill": {
     "duration": 0.029323,
     "end_time": "2022-10-29T19:27:17.065488",
     "exception": false,
     "start_time": "2022-10-29T19:27:17.036165",
     "status": "completed"
    },
    "tags": []
   },
   "outputs": [
    {
     "name": "stdout",
     "output_type": "stream",
     "text": [
      "Total amount of samples : 2035\n",
      "Train set : 1628\n",
      "Validation set : 203\n",
      "Test set : 204\n"
     ]
    }
   ],
   "source": [
    "dataset = TensorDataset(input_ids, attention_masks, labels_tensor)\n",
    "train_size = int(0.8 * len(dataset))\n",
    "val_size = int(0.1 * len(dataset))\n",
    "test_size = len(dataset) - train_size - val_size\n",
    "\n",
    "train_dataset, test_dataset = random_split(dataset, [train_size + val_size, test_size])\n",
    "train_dataset, val_dataset = random_split(train_dataset, [train_size, val_size])\n",
    "\n",
    "print(f'Total amount of samples : {train_size + val_size + test_size}')\n",
    "print(f'Train set : {train_size}')\n",
    "print(f'Validation set : {val_size}')\n",
    "print(f'Test set : {test_size}')"
   ]
  },
  {
   "cell_type": "markdown",
   "id": "7ef92241",
   "metadata": {
    "papermill": {
     "duration": 0.017099,
     "end_time": "2022-10-29T19:27:17.100634",
     "exception": false,
     "start_time": "2022-10-29T19:27:17.083535",
     "status": "completed"
    },
    "tags": []
   },
   "source": [
    "Set the `batch_size` to 8 (16 or 32) and select batches randomly"
   ]
  },
  {
   "cell_type": "code",
   "execution_count": 21,
   "id": "3707b97e",
   "metadata": {
    "execution": {
     "iopub.execute_input": "2022-10-29T19:27:17.134791Z",
     "iopub.status.busy": "2022-10-29T19:27:17.134463Z",
     "iopub.status.idle": "2022-10-29T19:27:17.138811Z",
     "shell.execute_reply": "2022-10-29T19:27:17.137674Z"
    },
    "papermill": {
     "duration": 0.024166,
     "end_time": "2022-10-29T19:27:17.141305",
     "exception": false,
     "start_time": "2022-10-29T19:27:17.117139",
     "status": "completed"
    },
    "tags": []
   },
   "outputs": [],
   "source": [
    "batch_size = 16"
   ]
  },
  {
   "cell_type": "code",
   "execution_count": 22,
   "id": "1a6a0567",
   "metadata": {
    "execution": {
     "iopub.execute_input": "2022-10-29T19:27:17.173804Z",
     "iopub.status.busy": "2022-10-29T19:27:17.173434Z",
     "iopub.status.idle": "2022-10-29T19:27:17.180152Z",
     "shell.execute_reply": "2022-10-29T19:27:17.179314Z"
    },
    "id": "VGJJ6b7DFZEq",
    "papermill": {
     "duration": 0.025153,
     "end_time": "2022-10-29T19:27:17.182149",
     "exception": false,
     "start_time": "2022-10-29T19:27:17.156996",
     "status": "completed"
    },
    "tags": []
   },
   "outputs": [],
   "source": [
    "train_dataloader = DataLoader(\n",
    "            train_dataset,  \n",
    "            sampler = RandomSampler(train_dataset), \n",
    "            batch_size = batch_size)\n",
    "\n",
    "validation_dataloader = DataLoader(\n",
    "            val_dataset, \n",
    "            sampler = RandomSampler(val_dataset), \n",
    "            batch_size = batch_size)\n",
    "\n",
    "test_dataloader = DataLoader(\n",
    "            test_dataset, \n",
    "            sampler = RandomSampler(test_dataset), \n",
    "            batch_size = batch_size)"
   ]
  },
  {
   "cell_type": "code",
   "execution_count": 23,
   "id": "554245e9",
   "metadata": {
    "execution": {
     "iopub.execute_input": "2022-10-29T19:27:17.215484Z",
     "iopub.status.busy": "2022-10-29T19:27:17.215196Z",
     "iopub.status.idle": "2022-10-29T19:27:31.067125Z",
     "shell.execute_reply": "2022-10-29T19:27:31.065595Z"
    },
    "id": "HZ7uW-K0JaAB",
    "outputId": "5a90aed1-5327-498c-c3c2-8e971d78ba47",
    "papermill": {
     "duration": 13.871289,
     "end_time": "2022-10-29T19:27:31.069420",
     "exception": false,
     "start_time": "2022-10-29T19:27:17.198131",
     "status": "completed"
    },
    "tags": []
   },
   "outputs": [
    {
     "data": {
      "application/vnd.jupyter.widget-view+json": {
       "model_id": "be98b08dc48e485ea43050cf29499e39",
       "version_major": 2,
       "version_minor": 0
      },
      "text/plain": [
       "Downloading:   0%|          | 0.00/256M [00:00<?, ?B/s]"
      ]
     },
     "metadata": {},
     "output_type": "display_data"
    },
    {
     "name": "stderr",
     "output_type": "stream",
     "text": [
      "Some weights of the model checkpoint at distilbert-base-uncased were not used when initializing DistilBertForSequenceClassification: ['vocab_projector.bias', 'vocab_transform.bias', 'vocab_transform.weight', 'vocab_layer_norm.bias', 'vocab_projector.weight', 'vocab_layer_norm.weight']\n",
      "- This IS expected if you are initializing DistilBertForSequenceClassification from the checkpoint of a model trained on another task or with another architecture (e.g. initializing a BertForSequenceClassification model from a BertForPreTraining model).\n",
      "- This IS NOT expected if you are initializing DistilBertForSequenceClassification from the checkpoint of a model that you expect to be exactly identical (initializing a BertForSequenceClassification model from a BertForSequenceClassification model).\n",
      "Some weights of DistilBertForSequenceClassification were not initialized from the model checkpoint at distilbert-base-uncased and are newly initialized: ['pre_classifier.weight', 'pre_classifier.bias', 'classifier.weight', 'classifier.bias']\n",
      "You should probably TRAIN this model on a down-stream task to be able to use it for predictions and inference.\n"
     ]
    }
   ],
   "source": [
    "model = DistilBertForSequenceClassification.from_pretrained(\n",
    "    model_name,\n",
    "    problem_type=\"multi_label_classification\",\n",
    "    num_labels = 3, \n",
    "    output_attentions = False,\n",
    "    output_hidden_states = False, \n",
    ")"
   ]
  },
  {
   "cell_type": "markdown",
   "id": "a4b87e34",
   "metadata": {
    "papermill": {
     "duration": 0.016612,
     "end_time": "2022-10-29T19:27:31.103364",
     "exception": false,
     "start_time": "2022-10-29T19:27:31.086752",
     "status": "completed"
    },
    "tags": []
   },
   "source": [
    "We will use a little bit changed version for classification of pretrained `DistilBert` model called `DistilBertForSequenceClassification`. In our case we should set `num_labels` equal to 3 and `problem_type` equal to multi-label classification"
   ]
  },
  {
   "cell_type": "code",
   "execution_count": 24,
   "id": "171e111e",
   "metadata": {
    "execution": {
     "iopub.execute_input": "2022-10-29T19:27:31.137430Z",
     "iopub.status.busy": "2022-10-29T19:27:31.136556Z",
     "iopub.status.idle": "2022-10-29T19:27:37.262492Z",
     "shell.execute_reply": "2022-10-29T19:27:37.261574Z"
    },
    "papermill": {
     "duration": 6.145034,
     "end_time": "2022-10-29T19:27:37.264657",
     "exception": false,
     "start_time": "2022-10-29T19:27:31.119623",
     "status": "completed"
    },
    "tags": []
   },
   "outputs": [
    {
     "data": {
      "text/plain": [
       "DistilBertForSequenceClassification(\n",
       "  (distilbert): DistilBertModel(\n",
       "    (embeddings): Embeddings(\n",
       "      (word_embeddings): Embedding(30522, 768, padding_idx=0)\n",
       "      (position_embeddings): Embedding(512, 768)\n",
       "      (LayerNorm): LayerNorm((768,), eps=1e-12, elementwise_affine=True)\n",
       "      (dropout): Dropout(p=0.1, inplace=False)\n",
       "    )\n",
       "    (transformer): Transformer(\n",
       "      (layer): ModuleList(\n",
       "        (0): TransformerBlock(\n",
       "          (attention): MultiHeadSelfAttention(\n",
       "            (dropout): Dropout(p=0.1, inplace=False)\n",
       "            (q_lin): Linear(in_features=768, out_features=768, bias=True)\n",
       "            (k_lin): Linear(in_features=768, out_features=768, bias=True)\n",
       "            (v_lin): Linear(in_features=768, out_features=768, bias=True)\n",
       "            (out_lin): Linear(in_features=768, out_features=768, bias=True)\n",
       "          )\n",
       "          (sa_layer_norm): LayerNorm((768,), eps=1e-12, elementwise_affine=True)\n",
       "          (ffn): FFN(\n",
       "            (dropout): Dropout(p=0.1, inplace=False)\n",
       "            (lin1): Linear(in_features=768, out_features=3072, bias=True)\n",
       "            (lin2): Linear(in_features=3072, out_features=768, bias=True)\n",
       "            (activation): GELUActivation()\n",
       "          )\n",
       "          (output_layer_norm): LayerNorm((768,), eps=1e-12, elementwise_affine=True)\n",
       "        )\n",
       "        (1): TransformerBlock(\n",
       "          (attention): MultiHeadSelfAttention(\n",
       "            (dropout): Dropout(p=0.1, inplace=False)\n",
       "            (q_lin): Linear(in_features=768, out_features=768, bias=True)\n",
       "            (k_lin): Linear(in_features=768, out_features=768, bias=True)\n",
       "            (v_lin): Linear(in_features=768, out_features=768, bias=True)\n",
       "            (out_lin): Linear(in_features=768, out_features=768, bias=True)\n",
       "          )\n",
       "          (sa_layer_norm): LayerNorm((768,), eps=1e-12, elementwise_affine=True)\n",
       "          (ffn): FFN(\n",
       "            (dropout): Dropout(p=0.1, inplace=False)\n",
       "            (lin1): Linear(in_features=768, out_features=3072, bias=True)\n",
       "            (lin2): Linear(in_features=3072, out_features=768, bias=True)\n",
       "            (activation): GELUActivation()\n",
       "          )\n",
       "          (output_layer_norm): LayerNorm((768,), eps=1e-12, elementwise_affine=True)\n",
       "        )\n",
       "        (2): TransformerBlock(\n",
       "          (attention): MultiHeadSelfAttention(\n",
       "            (dropout): Dropout(p=0.1, inplace=False)\n",
       "            (q_lin): Linear(in_features=768, out_features=768, bias=True)\n",
       "            (k_lin): Linear(in_features=768, out_features=768, bias=True)\n",
       "            (v_lin): Linear(in_features=768, out_features=768, bias=True)\n",
       "            (out_lin): Linear(in_features=768, out_features=768, bias=True)\n",
       "          )\n",
       "          (sa_layer_norm): LayerNorm((768,), eps=1e-12, elementwise_affine=True)\n",
       "          (ffn): FFN(\n",
       "            (dropout): Dropout(p=0.1, inplace=False)\n",
       "            (lin1): Linear(in_features=768, out_features=3072, bias=True)\n",
       "            (lin2): Linear(in_features=3072, out_features=768, bias=True)\n",
       "            (activation): GELUActivation()\n",
       "          )\n",
       "          (output_layer_norm): LayerNorm((768,), eps=1e-12, elementwise_affine=True)\n",
       "        )\n",
       "        (3): TransformerBlock(\n",
       "          (attention): MultiHeadSelfAttention(\n",
       "            (dropout): Dropout(p=0.1, inplace=False)\n",
       "            (q_lin): Linear(in_features=768, out_features=768, bias=True)\n",
       "            (k_lin): Linear(in_features=768, out_features=768, bias=True)\n",
       "            (v_lin): Linear(in_features=768, out_features=768, bias=True)\n",
       "            (out_lin): Linear(in_features=768, out_features=768, bias=True)\n",
       "          )\n",
       "          (sa_layer_norm): LayerNorm((768,), eps=1e-12, elementwise_affine=True)\n",
       "          (ffn): FFN(\n",
       "            (dropout): Dropout(p=0.1, inplace=False)\n",
       "            (lin1): Linear(in_features=768, out_features=3072, bias=True)\n",
       "            (lin2): Linear(in_features=3072, out_features=768, bias=True)\n",
       "            (activation): GELUActivation()\n",
       "          )\n",
       "          (output_layer_norm): LayerNorm((768,), eps=1e-12, elementwise_affine=True)\n",
       "        )\n",
       "        (4): TransformerBlock(\n",
       "          (attention): MultiHeadSelfAttention(\n",
       "            (dropout): Dropout(p=0.1, inplace=False)\n",
       "            (q_lin): Linear(in_features=768, out_features=768, bias=True)\n",
       "            (k_lin): Linear(in_features=768, out_features=768, bias=True)\n",
       "            (v_lin): Linear(in_features=768, out_features=768, bias=True)\n",
       "            (out_lin): Linear(in_features=768, out_features=768, bias=True)\n",
       "          )\n",
       "          (sa_layer_norm): LayerNorm((768,), eps=1e-12, elementwise_affine=True)\n",
       "          (ffn): FFN(\n",
       "            (dropout): Dropout(p=0.1, inplace=False)\n",
       "            (lin1): Linear(in_features=768, out_features=3072, bias=True)\n",
       "            (lin2): Linear(in_features=3072, out_features=768, bias=True)\n",
       "            (activation): GELUActivation()\n",
       "          )\n",
       "          (output_layer_norm): LayerNorm((768,), eps=1e-12, elementwise_affine=True)\n",
       "        )\n",
       "        (5): TransformerBlock(\n",
       "          (attention): MultiHeadSelfAttention(\n",
       "            (dropout): Dropout(p=0.1, inplace=False)\n",
       "            (q_lin): Linear(in_features=768, out_features=768, bias=True)\n",
       "            (k_lin): Linear(in_features=768, out_features=768, bias=True)\n",
       "            (v_lin): Linear(in_features=768, out_features=768, bias=True)\n",
       "            (out_lin): Linear(in_features=768, out_features=768, bias=True)\n",
       "          )\n",
       "          (sa_layer_norm): LayerNorm((768,), eps=1e-12, elementwise_affine=True)\n",
       "          (ffn): FFN(\n",
       "            (dropout): Dropout(p=0.1, inplace=False)\n",
       "            (lin1): Linear(in_features=768, out_features=3072, bias=True)\n",
       "            (lin2): Linear(in_features=3072, out_features=768, bias=True)\n",
       "            (activation): GELUActivation()\n",
       "          )\n",
       "          (output_layer_norm): LayerNorm((768,), eps=1e-12, elementwise_affine=True)\n",
       "        )\n",
       "      )\n",
       "    )\n",
       "  )\n",
       "  (pre_classifier): Linear(in_features=768, out_features=768, bias=True)\n",
       "  (classifier): Linear(in_features=768, out_features=3, bias=True)\n",
       "  (dropout): Dropout(p=0.2, inplace=False)\n",
       ")"
      ]
     },
     "execution_count": 24,
     "metadata": {},
     "output_type": "execute_result"
    }
   ],
   "source": [
    "model.cuda()"
   ]
  },
  {
   "cell_type": "markdown",
   "id": "6947aeb1",
   "metadata": {
    "papermill": {
     "duration": 0.016046,
     "end_time": "2022-10-29T19:27:37.297216",
     "exception": false,
     "start_time": "2022-10-29T19:27:37.281170",
     "status": "completed"
    },
    "tags": []
   },
   "source": [
    "Let's specify *learning rate* for *AdamW* optimizer and *number of epochs*. We don't really need a lot of epochs, because we fine-tune our model, otherwise it will overfit and validation loss will start to increase noticeably. Different hyperparameters were tried, but epochs between $4-6$ are recommended and learning rate $\\in (1e-5;5e-5)$"
   ]
  },
  {
   "cell_type": "code",
   "execution_count": 25,
   "id": "9ab32689",
   "metadata": {
    "execution": {
     "iopub.execute_input": "2022-10-29T19:27:37.330777Z",
     "iopub.status.busy": "2022-10-29T19:27:37.329915Z",
     "iopub.status.idle": "2022-10-29T19:27:37.334748Z",
     "shell.execute_reply": "2022-10-29T19:27:37.333851Z"
    },
    "papermill": {
     "duration": 0.023566,
     "end_time": "2022-10-29T19:27:37.336813",
     "exception": false,
     "start_time": "2022-10-29T19:27:37.313247",
     "status": "completed"
    },
    "tags": []
   },
   "outputs": [],
   "source": [
    "learning_rate = 2e-5"
   ]
  },
  {
   "cell_type": "code",
   "execution_count": 26,
   "id": "86386435",
   "metadata": {
    "execution": {
     "iopub.execute_input": "2022-10-29T19:27:37.370903Z",
     "iopub.status.busy": "2022-10-29T19:27:37.369974Z",
     "iopub.status.idle": "2022-10-29T19:27:37.377074Z",
     "shell.execute_reply": "2022-10-29T19:27:37.376136Z"
    },
    "id": "VRuZLqbdDa-z",
    "papermill": {
     "duration": 0.026405,
     "end_time": "2022-10-29T19:27:37.379114",
     "exception": false,
     "start_time": "2022-10-29T19:27:37.352709",
     "status": "completed"
    },
    "tags": []
   },
   "outputs": [],
   "source": [
    "optimizer = AdamW(model.parameters(),\n",
    "                  lr = learning_rate)"
   ]
  },
  {
   "cell_type": "code",
   "execution_count": 27,
   "id": "6f478ddf",
   "metadata": {
    "execution": {
     "iopub.execute_input": "2022-10-29T19:27:37.414351Z",
     "iopub.status.busy": "2022-10-29T19:27:37.413372Z",
     "iopub.status.idle": "2022-10-29T19:27:37.418222Z",
     "shell.execute_reply": "2022-10-29T19:27:37.417312Z"
    },
    "papermill": {
     "duration": 0.024499,
     "end_time": "2022-10-29T19:27:37.420260",
     "exception": false,
     "start_time": "2022-10-29T19:27:37.395761",
     "status": "completed"
    },
    "tags": []
   },
   "outputs": [],
   "source": [
    "epochs = 5"
   ]
  },
  {
   "cell_type": "markdown",
   "id": "db5f3029",
   "metadata": {
    "papermill": {
     "duration": 0.015543,
     "end_time": "2022-10-29T19:27:37.451970",
     "exception": false,
     "start_time": "2022-10-29T19:27:37.436427",
     "status": "completed"
    },
    "tags": []
   },
   "source": [
    "Also let's use linear scheduler to decrease the learning rate while training"
   ]
  },
  {
   "cell_type": "code",
   "execution_count": 28,
   "id": "b0e7bd80",
   "metadata": {
    "execution": {
     "iopub.execute_input": "2022-10-29T19:27:37.487049Z",
     "iopub.status.busy": "2022-10-29T19:27:37.486233Z",
     "iopub.status.idle": "2022-10-29T19:27:37.491186Z",
     "shell.execute_reply": "2022-10-29T19:27:37.490312Z"
    },
    "id": "yeS63_9BFgLz",
    "papermill": {
     "duration": 0.024429,
     "end_time": "2022-10-29T19:27:37.493178",
     "exception": false,
     "start_time": "2022-10-29T19:27:37.468749",
     "status": "completed"
    },
    "tags": []
   },
   "outputs": [],
   "source": [
    "total_steps = len(train_dataloader) * epochs\n",
    "scheduler = get_linear_schedule_with_warmup(optimizer, \n",
    "                                            num_warmup_steps = 0,\n",
    "                                            num_training_steps = total_steps)"
   ]
  },
  {
   "cell_type": "markdown",
   "id": "1c9a46b7",
   "metadata": {
    "papermill": {
     "duration": 0.016193,
     "end_time": "2022-10-29T19:27:37.525260",
     "exception": false,
     "start_time": "2022-10-29T19:27:37.509067",
     "status": "completed"
    },
    "tags": []
   },
   "source": [
    "We will interpret output values as a probabilities vector after applying sigmoid function and splitting by `threshold=0.5` for each probability of label"
   ]
  },
  {
   "cell_type": "code",
   "execution_count": 29,
   "id": "2c126a79",
   "metadata": {
    "execution": {
     "iopub.execute_input": "2022-10-29T19:27:37.560016Z",
     "iopub.status.busy": "2022-10-29T19:27:37.559714Z",
     "iopub.status.idle": "2022-10-29T19:27:37.581483Z",
     "shell.execute_reply": "2022-10-29T19:27:37.580640Z"
    },
    "papermill": {
     "duration": 0.04182,
     "end_time": "2022-10-29T19:27:37.583497",
     "exception": false,
     "start_time": "2022-10-29T19:27:37.541677",
     "status": "completed"
    },
    "tags": []
   },
   "outputs": [],
   "source": [
    "def get_probs(logits, threshold=0.5):\n",
    "    sigm = 1 / (1 + np.exp(-logits))\n",
    "    return sigm >= 0.5"
   ]
  },
  {
   "cell_type": "code",
   "execution_count": 30,
   "id": "51dca918",
   "metadata": {
    "execution": {
     "iopub.execute_input": "2022-10-29T19:27:37.618853Z",
     "iopub.status.busy": "2022-10-29T19:27:37.617457Z",
     "iopub.status.idle": "2022-10-29T19:27:37.623842Z",
     "shell.execute_reply": "2022-10-29T19:27:37.623008Z"
    },
    "papermill": {
     "duration": 0.025685,
     "end_time": "2022-10-29T19:27:37.625935",
     "exception": false,
     "start_time": "2022-10-29T19:27:37.600250",
     "status": "completed"
    },
    "tags": []
   },
   "outputs": [],
   "source": [
    "def flat_accuracy(preds, labels):\n",
    "    res = np.zeros(labels.shape[0])\n",
    "    for i in range(labels.shape[0]):\n",
    "        res[i] = np.all(preds[i] == labels[i]) \n",
    "    return np.sum(res) / labels.shape[0]"
   ]
  },
  {
   "cell_type": "code",
   "execution_count": 31,
   "id": "2f87a9db",
   "metadata": {
    "execution": {
     "iopub.execute_input": "2022-10-29T19:27:37.661843Z",
     "iopub.status.busy": "2022-10-29T19:27:37.660929Z",
     "iopub.status.idle": "2022-10-29T19:27:37.666567Z",
     "shell.execute_reply": "2022-10-29T19:27:37.665473Z"
    },
    "papermill": {
     "duration": 0.026222,
     "end_time": "2022-10-29T19:27:37.668738",
     "exception": false,
     "start_time": "2022-10-29T19:27:37.642516",
     "status": "completed"
    },
    "tags": []
   },
   "outputs": [],
   "source": [
    "def compute_f1_macro(out, pred):\n",
    "    return metrics.f1_score(pred, out, average='macro')"
   ]
  },
  {
   "cell_type": "code",
   "execution_count": 32,
   "id": "f854f93a",
   "metadata": {
    "execution": {
     "iopub.execute_input": "2022-10-29T19:27:37.704119Z",
     "iopub.status.busy": "2022-10-29T19:27:37.703074Z",
     "iopub.status.idle": "2022-10-29T19:27:37.708423Z",
     "shell.execute_reply": "2022-10-29T19:27:37.707536Z"
    },
    "papermill": {
     "duration": 0.024754,
     "end_time": "2022-10-29T19:27:37.710475",
     "exception": false,
     "start_time": "2022-10-29T19:27:37.685721",
     "status": "completed"
    },
    "tags": []
   },
   "outputs": [],
   "source": [
    "def compute_f1_micro(out, pred):\n",
    "    return metrics.f1_score(pred, out, average='micro')"
   ]
  },
  {
   "cell_type": "markdown",
   "id": "34c24111",
   "metadata": {
    "papermill": {
     "duration": 0.016154,
     "end_time": "2022-10-29T19:27:37.742620",
     "exception": false,
     "start_time": "2022-10-29T19:27:37.726466",
     "status": "completed"
    },
    "tags": []
   },
   "source": [
    "## Training"
   ]
  },
  {
   "cell_type": "markdown",
   "id": "c050960e",
   "metadata": {
    "papermill": {
     "duration": 0.015266,
     "end_time": "2022-10-29T19:27:37.773408",
     "exception": false,
     "start_time": "2022-10-29T19:27:37.758142",
     "status": "completed"
    },
    "tags": []
   },
   "source": [
    "Now we are ready to train our model, also we will evaluate our model on validation data after each epoch of training. We will compute THE loss function (Binary Cross Entropy Loss) and metrics like accuracy and f1"
   ]
  },
  {
   "cell_type": "code",
   "execution_count": 33,
   "id": "97f6ed8b",
   "metadata": {
    "execution": {
     "iopub.execute_input": "2022-10-29T19:27:37.806606Z",
     "iopub.status.busy": "2022-10-29T19:27:37.806318Z",
     "iopub.status.idle": "2022-10-29T19:30:40.752730Z",
     "shell.execute_reply": "2022-10-29T19:30:40.751467Z"
    },
    "id": "WHGHDnsbFtMq",
    "outputId": "671f6cce-0ec5-406c-a94f-e8b70fcdffe9",
    "papermill": {
     "duration": 182.966599,
     "end_time": "2022-10-29T19:30:40.755791",
     "exception": false,
     "start_time": "2022-10-29T19:27:37.789192",
     "status": "completed"
    },
    "tags": []
   },
   "outputs": [
    {
     "name": "stdout",
     "output_type": "stream",
     "text": [
      "Training started...\n",
      "\n",
      "#-----------------------#\n",
      "     Epoch : 1 / 5\n",
      "#-----------------------#\n",
      "Average train loss : 0.572\n",
      "\n",
      "Validation started...\n",
      "\n",
      "Average validation loss : 0.393\n",
      "Average validation metrics:\n",
      "----------------\n",
      "Accuracy : 0.693\n",
      "f1-score micro : 0.792\n",
      "f1-score macro : 0.790\n",
      "\n",
      "#-----------------------#\n",
      "     Epoch : 2 / 5\n",
      "#-----------------------#\n",
      "Average train loss : 0.328\n",
      "\n",
      "Validation started...\n",
      "\n",
      "Average validation loss : 0.337\n",
      "Average validation metrics:\n",
      "----------------\n",
      "Accuracy : 0.722\n",
      "f1-score micro : 0.830\n",
      "f1-score macro : 0.808\n",
      "\n",
      "#-----------------------#\n",
      "     Epoch : 3 / 5\n",
      "#-----------------------#\n",
      "Average train loss : 0.264\n",
      "\n",
      "Validation started...\n",
      "\n",
      "Average validation loss : 0.314\n",
      "Average validation metrics:\n",
      "----------------\n",
      "Accuracy : 0.748\n",
      "f1-score micro : 0.849\n",
      "f1-score macro : 0.837\n",
      "\n",
      "#-----------------------#\n",
      "     Epoch : 4 / 5\n",
      "#-----------------------#\n",
      "Average train loss : 0.219\n",
      "\n",
      "Validation started...\n",
      "\n",
      "Average validation loss : 0.309\n",
      "Average validation metrics:\n",
      "----------------\n",
      "Accuracy : 0.731\n",
      "f1-score micro : 0.838\n",
      "f1-score macro : 0.820\n",
      "\n",
      "#-----------------------#\n",
      "     Epoch : 5 / 5\n",
      "#-----------------------#\n",
      "Average train loss : 0.199\n",
      "\n",
      "Validation started...\n",
      "\n",
      "Average validation loss : 0.309\n",
      "Average validation metrics:\n",
      "----------------\n",
      "Accuracy : 0.739\n",
      "f1-score micro : 0.846\n",
      "f1-score macro : 0.846\n",
      "\n",
      "Training finished...\n"
     ]
    }
   ],
   "source": [
    "print('Training started...')\n",
    "\n",
    "np.random.seed(42)\n",
    "random.seed(42)\n",
    "torch.manual_seed(42)\n",
    "torch.cuda.manual_seed_all(42)\n",
    "\n",
    "training_stats = []\n",
    "    \n",
    "for epoch_i in range(epochs):\n",
    "    print()\n",
    "    print('#-----------------------#')\n",
    "    print(f'     Epoch : {epoch_i + 1} / {epochs}')\n",
    "    print('#-----------------------#')\n",
    "\n",
    "    model.train()\n",
    "    total_train_loss = 0\n",
    "        \n",
    "    for step, batch in enumerate(train_dataloader):\n",
    "        batch_input_ids = batch[0].to(device)\n",
    "        batch_input_mask = batch[1].to(device)\n",
    "        batch_labels = batch[2].float().to(device)\n",
    "\n",
    "        model.zero_grad()        \n",
    "            \n",
    "        result = model(batch_input_ids, \n",
    "                        attention_mask=batch_input_mask, \n",
    "                        labels=batch_labels,\n",
    "                        return_dict=True)\n",
    "        loss = result.loss\n",
    "        logits = result.logits\n",
    "\n",
    "        total_train_loss += loss.item()\n",
    "\n",
    "        loss.backward()\n",
    "        torch.nn.utils.clip_grad_norm_(model.parameters(), 1.0)\n",
    "\n",
    "        optimizer.step()\n",
    "        scheduler.step()\n",
    "\n",
    "    avg_train_loss = total_train_loss / len(train_dataloader)            \n",
    "\n",
    "    print(f'Average train loss : {avg_train_loss:.3f}')\n",
    "    print()\n",
    "    print('Validation started...')\n",
    "    print()\n",
    "\n",
    "    model.eval()\n",
    "\n",
    "    total_eval_accuracy = 0\n",
    "    total_eval_loss = 0\n",
    "    total_eval_f1_micro = 0\n",
    "    total_eval_f1_macro = 0\n",
    "    nb_eval_steps = 0\n",
    "\n",
    "    for batch in validation_dataloader:\n",
    "        batch_input_ids = batch[0].to(device)\n",
    "        batch_input_mask = batch[1].to(device)\n",
    "        batch_labels = batch[2].float().to(device)\n",
    "\n",
    "        with torch.no_grad():        \n",
    "            result = model(batch_input_ids, \n",
    "                            attention_mask=batch_input_mask,\n",
    "                            labels=batch_labels,\n",
    "                            return_dict=True)\n",
    "\n",
    "        loss = result.loss\n",
    "        logits = result.logits\n",
    "\n",
    "        total_eval_loss += loss.item()\n",
    "\n",
    "        logits = logits.detach().cpu().numpy()\n",
    "        label_ids = batch_labels.to('cpu').numpy()\n",
    "\n",
    "        total_eval_f1_micro += compute_f1_micro(get_probs(logits), label_ids)\n",
    "        total_eval_f1_macro += compute_f1_macro(get_probs(logits), label_ids)\n",
    "        total_eval_accuracy += flat_accuracy(get_probs(logits), label_ids)\n",
    "\n",
    "    avg_val_accuracy = total_eval_accuracy / len(validation_dataloader)\n",
    "    avg_val_f1_micro = total_eval_f1_micro / len(validation_dataloader)\n",
    "    avg_val_f1_macro = total_eval_f1_macro / len(validation_dataloader)\n",
    "    avg_val_loss = total_eval_loss / len(validation_dataloader)\n",
    "    \n",
    "    print(f'Average validation loss : {avg_val_loss:.3f}')\n",
    "    print('Average validation metrics:')\n",
    "    print('----------------')\n",
    "    print(f'Accuracy : {avg_val_accuracy:.3f}')\n",
    "    print(f'f1-score micro : {avg_val_f1_micro:.3f}')\n",
    "    print(f'f1-score macro : {avg_val_f1_macro:.3f}')\n",
    "\n",
    "    training_stats.append(\n",
    "            {\n",
    "                'epoch': epoch_i + 1,\n",
    "                'train_loss': avg_train_loss,\n",
    "                'valid_loss': avg_val_loss,\n",
    "                'val_accuracy': avg_val_accuracy,\n",
    "                'val_f1_micro' : avg_val_f1_micro,\n",
    "                'val_f1_macro' : avg_val_f1_macro\n",
    "})\n",
    "    \n",
    "print()\n",
    "print('Training finished...')"
   ]
  },
  {
   "cell_type": "markdown",
   "id": "dc19de04",
   "metadata": {
    "papermill": {
     "duration": 0.016791,
     "end_time": "2022-10-29T19:30:40.789629",
     "exception": false,
     "start_time": "2022-10-29T19:30:40.772838",
     "status": "completed"
    },
    "tags": []
   },
   "source": [
    "Visualizing stats after training"
   ]
  },
  {
   "cell_type": "code",
   "execution_count": 34,
   "id": "f529dd18",
   "metadata": {
    "execution": {
     "iopub.execute_input": "2022-10-29T19:30:40.825799Z",
     "iopub.status.busy": "2022-10-29T19:30:40.824916Z",
     "iopub.status.idle": "2022-10-29T19:30:40.833828Z",
     "shell.execute_reply": "2022-10-29T19:30:40.832947Z"
    },
    "papermill": {
     "duration": 0.029463,
     "end_time": "2022-10-29T19:30:40.836016",
     "exception": false,
     "start_time": "2022-10-29T19:30:40.806553",
     "status": "completed"
    },
    "tags": []
   },
   "outputs": [],
   "source": [
    "train_loss = [i['train_loss'] for i in training_stats]\n",
    "val_loss = [i['valid_loss'] for i in training_stats]\n",
    "epochs = [i['epoch'] for i in training_stats]\n",
    "val_acc = [i['val_accuracy'] for i in training_stats]\n",
    "val_f1_micro = [i['val_f1_micro'] for i in training_stats]\n",
    "val_f1_macro = [i['val_f1_macro'] for i in training_stats]\n",
    "loss_stats = pd.DataFrame({\n",
    "    'epoch' : epochs,\n",
    "    'train_loss' : train_loss,\n",
    "    'val_loss' : val_loss,\n",
    "    'val_accuracy' : val_acc,\n",
    "    'val_f1_micro' : val_f1_micro,\n",
    "    'val_f1_macro' : val_f1_macro\n",
    "})"
   ]
  },
  {
   "cell_type": "code",
   "execution_count": 35,
   "id": "f0cdd8f4",
   "metadata": {
    "execution": {
     "iopub.execute_input": "2022-10-29T19:30:40.870778Z",
     "iopub.status.busy": "2022-10-29T19:30:40.869879Z",
     "iopub.status.idle": "2022-10-29T19:30:40.883226Z",
     "shell.execute_reply": "2022-10-29T19:30:40.882201Z"
    },
    "papermill": {
     "duration": 0.032757,
     "end_time": "2022-10-29T19:30:40.885281",
     "exception": false,
     "start_time": "2022-10-29T19:30:40.852524",
     "status": "completed"
    },
    "tags": []
   },
   "outputs": [
    {
     "data": {
      "text/html": [
       "   <div id=\"1ydPkt\"></div>\n",
       "   <script type=\"text/javascript\" data-lets-plot-script=\"plot\">\n",
       "       (function() {\n",
       "           var plotSpec={\n",
       "\"kind\":\"ggbunch\",\n",
       "\"items\":[{\n",
       "\"x\":100,\n",
       "\"y\":0,\n",
       "\"width\":null,\n",
       "\"height\":null,\n",
       "\"feature_spec\":{\n",
       "\"data\":{\n",
       "\"epoch\":[1.0,2.0,3.0,4.0,5.0],\n",
       "\"train_loss\":[0.5719380071934532,0.3277408052601066,0.26363629993854787,0.218685233636814,0.19877557514929303]\n",
       "},\n",
       "\"mapping\":{\n",
       "},\n",
       "\"data_meta\":{\n",
       "},\n",
       "\"ggsize\":{\n",
       "\"width\":500,\n",
       "\"height\":400\n",
       "},\n",
       "\"ggtitle\":{\n",
       "\"text\":\"Average Train Loss\"\n",
       "},\n",
       "\"kind\":\"plot\",\n",
       "\"scales\":[],\n",
       "\"layers\":[{\n",
       "\"geom\":\"path\",\n",
       "\"mapping\":{\n",
       "\"x\":\"epoch\",\n",
       "\"y\":\"train_loss\"\n",
       "},\n",
       "\"data_meta\":{\n",
       "},\n",
       "\"size\":1.3,\n",
       "\"color\":\"blue\",\n",
       "\"data\":{\n",
       "}\n",
       "}],\n",
       "\"metainfo_list\":[]\n",
       "}\n",
       "},{\n",
       "\"x\":700,\n",
       "\"y\":0,\n",
       "\"width\":null,\n",
       "\"height\":null,\n",
       "\"feature_spec\":{\n",
       "\"data\":{\n",
       "\"epoch\":[1.0,2.0,3.0,4.0,5.0],\n",
       "\"val_loss\":[0.39264432283548206,0.33672003791882443,0.31418268898358714,0.3093467538173382,0.3092675753510915]\n",
       "},\n",
       "\"mapping\":{\n",
       "},\n",
       "\"data_meta\":{\n",
       "},\n",
       "\"ggsize\":{\n",
       "\"width\":500,\n",
       "\"height\":400\n",
       "},\n",
       "\"ggtitle\":{\n",
       "\"text\":\"Average Validation Loss\"\n",
       "},\n",
       "\"kind\":\"plot\",\n",
       "\"scales\":[],\n",
       "\"layers\":[{\n",
       "\"geom\":\"path\",\n",
       "\"mapping\":{\n",
       "\"x\":\"epoch\",\n",
       "\"y\":\"val_loss\"\n",
       "},\n",
       "\"data_meta\":{\n",
       "},\n",
       "\"size\":1.3,\n",
       "\"color\":\"red\",\n",
       "\"data\":{\n",
       "}\n",
       "}],\n",
       "\"metainfo_list\":[]\n",
       "}\n",
       "}]\n",
       "};\n",
       "           var plotContainer = document.getElementById(\"1ydPkt\");\n",
       "           window.letsPlotCall(function() {{\n",
       "               LetsPlot.buildPlotFromProcessedSpecs(plotSpec, -1, -1, plotContainer);\n",
       "           }});\n",
       "       })();    \n",
       "   </script>"
      ]
     },
     "metadata": {},
     "output_type": "display_data"
    }
   ],
   "source": [
    "bunch = GGBunch()\n",
    "plot = ggplot(loss_stats) + geom_path(aes('epoch', 'train_loss'), size=1.3, color='blue') + ggsize(500, 400) + ggtitle('Average Train Loss')\n",
    "bunch.add_plot(plot, 100, 0)\n",
    "plot = ggplot(loss_stats) + geom_path(aes('epoch', 'val_loss'), size=1.3, color='red') + ggsize(500, 400) + ggtitle('Average Validation Loss')\n",
    "bunch.add_plot(plot, 700, 0)\n",
    "bunch.show()"
   ]
  },
  {
   "cell_type": "markdown",
   "id": "da32969a",
   "metadata": {
    "papermill": {
     "duration": 0.016543,
     "end_time": "2022-10-29T19:30:40.918564",
     "exception": false,
     "start_time": "2022-10-29T19:30:40.902021",
     "status": "completed"
    },
    "tags": []
   },
   "source": [
    "Analyzing computed information, training loss is decreasing. Validation loss is also not that high, so we can make an assumption about our model generalization ability"
   ]
  },
  {
   "cell_type": "code",
   "execution_count": 36,
   "id": "a46587de",
   "metadata": {
    "execution": {
     "iopub.execute_input": "2022-10-29T19:30:40.954097Z",
     "iopub.status.busy": "2022-10-29T19:30:40.953297Z",
     "iopub.status.idle": "2022-10-29T19:30:40.963446Z",
     "shell.execute_reply": "2022-10-29T19:30:40.962503Z"
    },
    "papermill": {
     "duration": 0.029918,
     "end_time": "2022-10-29T19:30:40.965492",
     "exception": false,
     "start_time": "2022-10-29T19:30:40.935574",
     "status": "completed"
    },
    "tags": []
   },
   "outputs": [
    {
     "data": {
      "text/html": [
       "   <div id=\"LtLnsi\"></div>\n",
       "   <script type=\"text/javascript\" data-lets-plot-script=\"plot\">\n",
       "       (function() {\n",
       "           var plotSpec={\n",
       "\"data\":{\n",
       "\"epoch\":[1.0,2.0,3.0,4.0,5.0],\n",
       "\"val_accuracy\":[0.6931818181818182,0.7220279720279721,0.7482517482517482,0.7312062937062938,0.7386363636363635]\n",
       "},\n",
       "\"mapping\":{\n",
       "},\n",
       "\"data_meta\":{\n",
       "},\n",
       "\"ggtitle\":{\n",
       "\"text\":\"Average Validation Accuracy\"\n",
       "},\n",
       "\"ggsize\":{\n",
       "\"width\":500,\n",
       "\"height\":400\n",
       "},\n",
       "\"kind\":\"plot\",\n",
       "\"scales\":[],\n",
       "\"layers\":[{\n",
       "\"geom\":\"line\",\n",
       "\"mapping\":{\n",
       "\"x\":\"epoch\",\n",
       "\"y\":\"val_accuracy\"\n",
       "},\n",
       "\"data_meta\":{\n",
       "},\n",
       "\"size\":1.3,\n",
       "\"color\":\"green\",\n",
       "\"data\":{\n",
       "}\n",
       "}],\n",
       "\"metainfo_list\":[]\n",
       "};\n",
       "           var plotContainer = document.getElementById(\"LtLnsi\");\n",
       "           window.letsPlotCall(function() {{\n",
       "               LetsPlot.buildPlotFromProcessedSpecs(plotSpec, -1, -1, plotContainer);\n",
       "           }});\n",
       "       })();    \n",
       "   </script>"
      ],
      "text/plain": [
       "<lets_plot.plot.core.PlotSpec at 0x7fa201885c10>"
      ]
     },
     "execution_count": 36,
     "metadata": {},
     "output_type": "execute_result"
    }
   ],
   "source": [
    "ggplot(loss_stats) + \\\n",
    "    geom_line(aes(x='epoch', y='val_accuracy'), size=1.3, color='green') + \\\n",
    "    ggtitle(\"Average Validation Accuracy\") + ggsize(500, 400)"
   ]
  },
  {
   "cell_type": "markdown",
   "id": "e7ae1446",
   "metadata": {
    "papermill": {
     "duration": 0.016927,
     "end_time": "2022-10-29T19:30:40.999509",
     "exception": false,
     "start_time": "2022-10-29T19:30:40.982582",
     "status": "completed"
    },
    "tags": []
   },
   "source": [
    "We use article authors' approach to evaluate our model with F1-score. Below is f1-micro (dashed) and f1-macro visualization, these scores are quite sufficient"
   ]
  },
  {
   "cell_type": "code",
   "execution_count": 37,
   "id": "a5ece573",
   "metadata": {
    "execution": {
     "iopub.execute_input": "2022-10-29T19:30:41.035054Z",
     "iopub.status.busy": "2022-10-29T19:30:41.034098Z",
     "iopub.status.idle": "2022-10-29T19:30:41.049232Z",
     "shell.execute_reply": "2022-10-29T19:30:41.048236Z"
    },
    "papermill": {
     "duration": 0.034565,
     "end_time": "2022-10-29T19:30:41.051197",
     "exception": false,
     "start_time": "2022-10-29T19:30:41.016632",
     "status": "completed"
    },
    "tags": []
   },
   "outputs": [
    {
     "data": {
      "text/html": [
       "   <div id=\"372DBp\"></div>\n",
       "   <script type=\"text/javascript\" data-lets-plot-script=\"plot\">\n",
       "       (function() {\n",
       "           var plotSpec={\n",
       "\"data\":{\n",
       "\"epoch\":[1.0,2.0,3.0,4.0,5.0],\n",
       "\"val_f1_micro\":[0.7916884078648784,0.8296854699491617,0.8492790762378759,0.8381991417174643,0.8460731321598313],\n",
       "\"val_f1_macro\":[0.7899500246606702,0.8081388108980083,0.8372223495943428,0.819802192242059,0.8457372760956948]\n",
       "},\n",
       "\"mapping\":{\n",
       "},\n",
       "\"data_meta\":{\n",
       "},\n",
       "\"ggtitle\":{\n",
       "\"text\":\"Average Validation F1-Score\"\n",
       "},\n",
       "\"ggsize\":{\n",
       "\"width\":500,\n",
       "\"height\":400\n",
       "},\n",
       "\"kind\":\"plot\",\n",
       "\"scales\":[],\n",
       "\"layers\":[{\n",
       "\"geom\":\"line\",\n",
       "\"mapping\":{\n",
       "\"x\":\"epoch\",\n",
       "\"y\":\"val_f1_micro\"\n",
       "},\n",
       "\"data_meta\":{\n",
       "},\n",
       "\"size\":1.3,\n",
       "\"color\":\"orange\",\n",
       "\"linetype\":\"dashed\",\n",
       "\"data\":{\n",
       "}\n",
       "},{\n",
       "\"geom\":\"line\",\n",
       "\"mapping\":{\n",
       "\"x\":\"epoch\",\n",
       "\"y\":\"val_f1_macro\"\n",
       "},\n",
       "\"data_meta\":{\n",
       "},\n",
       "\"size\":1.3,\n",
       "\"color\":\"pink\",\n",
       "\"data\":{\n",
       "}\n",
       "}],\n",
       "\"metainfo_list\":[]\n",
       "};\n",
       "           var plotContainer = document.getElementById(\"372DBp\");\n",
       "           window.letsPlotCall(function() {{\n",
       "               LetsPlot.buildPlotFromProcessedSpecs(plotSpec, -1, -1, plotContainer);\n",
       "           }});\n",
       "       })();    \n",
       "   </script>"
      ],
      "text/plain": [
       "<lets_plot.plot.core.PlotSpec at 0x7fa201878850>"
      ]
     },
     "execution_count": 37,
     "metadata": {},
     "output_type": "execute_result"
    }
   ],
   "source": [
    "ggplot(loss_stats) + \\\n",
    "    geom_line(aes(x='epoch', y='val_f1_micro'), size=1.3, color='orange', linetype = \"dashed\") + \\\n",
    "    geom_line(aes(x='epoch', y='val_f1_macro'), size=1.3, color='pink') + \\\n",
    "    ggtitle(\"Average Validation F1-Score\") + ggsize(500, 400)"
   ]
  },
  {
   "cell_type": "markdown",
   "id": "cce03993",
   "metadata": {
    "papermill": {
     "duration": 0.016842,
     "end_time": "2022-10-29T19:30:41.085715",
     "exception": false,
     "start_time": "2022-10-29T19:30:41.068873",
     "status": "completed"
    },
    "tags": []
   },
   "source": [
    "## Testing"
   ]
  },
  {
   "cell_type": "markdown",
   "id": "5dc2ea5f",
   "metadata": {
    "papermill": {
     "duration": 0.017199,
     "end_time": "2022-10-29T19:30:41.120426",
     "exception": false,
     "start_time": "2022-10-29T19:30:41.103227",
     "status": "completed"
    },
    "tags": []
   },
   "source": [
    "Now let's use our hold-out test data from original dataset and evaluate our model"
   ]
  },
  {
   "cell_type": "code",
   "execution_count": 38,
   "id": "2ea07b74",
   "metadata": {
    "execution": {
     "iopub.execute_input": "2022-10-29T19:30:41.156935Z",
     "iopub.status.busy": "2022-10-29T19:30:41.156028Z",
     "iopub.status.idle": "2022-10-29T19:30:41.164261Z",
     "shell.execute_reply": "2022-10-29T19:30:41.163276Z"
    },
    "papermill": {
     "duration": 0.028761,
     "end_time": "2022-10-29T19:30:41.166417",
     "exception": false,
     "start_time": "2022-10-29T19:30:41.137656",
     "status": "completed"
    },
    "tags": []
   },
   "outputs": [
    {
     "data": {
      "text/plain": [
       "DistilBertForSequenceClassification(\n",
       "  (distilbert): DistilBertModel(\n",
       "    (embeddings): Embeddings(\n",
       "      (word_embeddings): Embedding(30522, 768, padding_idx=0)\n",
       "      (position_embeddings): Embedding(512, 768)\n",
       "      (LayerNorm): LayerNorm((768,), eps=1e-12, elementwise_affine=True)\n",
       "      (dropout): Dropout(p=0.1, inplace=False)\n",
       "    )\n",
       "    (transformer): Transformer(\n",
       "      (layer): ModuleList(\n",
       "        (0): TransformerBlock(\n",
       "          (attention): MultiHeadSelfAttention(\n",
       "            (dropout): Dropout(p=0.1, inplace=False)\n",
       "            (q_lin): Linear(in_features=768, out_features=768, bias=True)\n",
       "            (k_lin): Linear(in_features=768, out_features=768, bias=True)\n",
       "            (v_lin): Linear(in_features=768, out_features=768, bias=True)\n",
       "            (out_lin): Linear(in_features=768, out_features=768, bias=True)\n",
       "          )\n",
       "          (sa_layer_norm): LayerNorm((768,), eps=1e-12, elementwise_affine=True)\n",
       "          (ffn): FFN(\n",
       "            (dropout): Dropout(p=0.1, inplace=False)\n",
       "            (lin1): Linear(in_features=768, out_features=3072, bias=True)\n",
       "            (lin2): Linear(in_features=3072, out_features=768, bias=True)\n",
       "            (activation): GELUActivation()\n",
       "          )\n",
       "          (output_layer_norm): LayerNorm((768,), eps=1e-12, elementwise_affine=True)\n",
       "        )\n",
       "        (1): TransformerBlock(\n",
       "          (attention): MultiHeadSelfAttention(\n",
       "            (dropout): Dropout(p=0.1, inplace=False)\n",
       "            (q_lin): Linear(in_features=768, out_features=768, bias=True)\n",
       "            (k_lin): Linear(in_features=768, out_features=768, bias=True)\n",
       "            (v_lin): Linear(in_features=768, out_features=768, bias=True)\n",
       "            (out_lin): Linear(in_features=768, out_features=768, bias=True)\n",
       "          )\n",
       "          (sa_layer_norm): LayerNorm((768,), eps=1e-12, elementwise_affine=True)\n",
       "          (ffn): FFN(\n",
       "            (dropout): Dropout(p=0.1, inplace=False)\n",
       "            (lin1): Linear(in_features=768, out_features=3072, bias=True)\n",
       "            (lin2): Linear(in_features=3072, out_features=768, bias=True)\n",
       "            (activation): GELUActivation()\n",
       "          )\n",
       "          (output_layer_norm): LayerNorm((768,), eps=1e-12, elementwise_affine=True)\n",
       "        )\n",
       "        (2): TransformerBlock(\n",
       "          (attention): MultiHeadSelfAttention(\n",
       "            (dropout): Dropout(p=0.1, inplace=False)\n",
       "            (q_lin): Linear(in_features=768, out_features=768, bias=True)\n",
       "            (k_lin): Linear(in_features=768, out_features=768, bias=True)\n",
       "            (v_lin): Linear(in_features=768, out_features=768, bias=True)\n",
       "            (out_lin): Linear(in_features=768, out_features=768, bias=True)\n",
       "          )\n",
       "          (sa_layer_norm): LayerNorm((768,), eps=1e-12, elementwise_affine=True)\n",
       "          (ffn): FFN(\n",
       "            (dropout): Dropout(p=0.1, inplace=False)\n",
       "            (lin1): Linear(in_features=768, out_features=3072, bias=True)\n",
       "            (lin2): Linear(in_features=3072, out_features=768, bias=True)\n",
       "            (activation): GELUActivation()\n",
       "          )\n",
       "          (output_layer_norm): LayerNorm((768,), eps=1e-12, elementwise_affine=True)\n",
       "        )\n",
       "        (3): TransformerBlock(\n",
       "          (attention): MultiHeadSelfAttention(\n",
       "            (dropout): Dropout(p=0.1, inplace=False)\n",
       "            (q_lin): Linear(in_features=768, out_features=768, bias=True)\n",
       "            (k_lin): Linear(in_features=768, out_features=768, bias=True)\n",
       "            (v_lin): Linear(in_features=768, out_features=768, bias=True)\n",
       "            (out_lin): Linear(in_features=768, out_features=768, bias=True)\n",
       "          )\n",
       "          (sa_layer_norm): LayerNorm((768,), eps=1e-12, elementwise_affine=True)\n",
       "          (ffn): FFN(\n",
       "            (dropout): Dropout(p=0.1, inplace=False)\n",
       "            (lin1): Linear(in_features=768, out_features=3072, bias=True)\n",
       "            (lin2): Linear(in_features=3072, out_features=768, bias=True)\n",
       "            (activation): GELUActivation()\n",
       "          )\n",
       "          (output_layer_norm): LayerNorm((768,), eps=1e-12, elementwise_affine=True)\n",
       "        )\n",
       "        (4): TransformerBlock(\n",
       "          (attention): MultiHeadSelfAttention(\n",
       "            (dropout): Dropout(p=0.1, inplace=False)\n",
       "            (q_lin): Linear(in_features=768, out_features=768, bias=True)\n",
       "            (k_lin): Linear(in_features=768, out_features=768, bias=True)\n",
       "            (v_lin): Linear(in_features=768, out_features=768, bias=True)\n",
       "            (out_lin): Linear(in_features=768, out_features=768, bias=True)\n",
       "          )\n",
       "          (sa_layer_norm): LayerNorm((768,), eps=1e-12, elementwise_affine=True)\n",
       "          (ffn): FFN(\n",
       "            (dropout): Dropout(p=0.1, inplace=False)\n",
       "            (lin1): Linear(in_features=768, out_features=3072, bias=True)\n",
       "            (lin2): Linear(in_features=3072, out_features=768, bias=True)\n",
       "            (activation): GELUActivation()\n",
       "          )\n",
       "          (output_layer_norm): LayerNorm((768,), eps=1e-12, elementwise_affine=True)\n",
       "        )\n",
       "        (5): TransformerBlock(\n",
       "          (attention): MultiHeadSelfAttention(\n",
       "            (dropout): Dropout(p=0.1, inplace=False)\n",
       "            (q_lin): Linear(in_features=768, out_features=768, bias=True)\n",
       "            (k_lin): Linear(in_features=768, out_features=768, bias=True)\n",
       "            (v_lin): Linear(in_features=768, out_features=768, bias=True)\n",
       "            (out_lin): Linear(in_features=768, out_features=768, bias=True)\n",
       "          )\n",
       "          (sa_layer_norm): LayerNorm((768,), eps=1e-12, elementwise_affine=True)\n",
       "          (ffn): FFN(\n",
       "            (dropout): Dropout(p=0.1, inplace=False)\n",
       "            (lin1): Linear(in_features=768, out_features=3072, bias=True)\n",
       "            (lin2): Linear(in_features=3072, out_features=768, bias=True)\n",
       "            (activation): GELUActivation()\n",
       "          )\n",
       "          (output_layer_norm): LayerNorm((768,), eps=1e-12, elementwise_affine=True)\n",
       "        )\n",
       "      )\n",
       "    )\n",
       "  )\n",
       "  (pre_classifier): Linear(in_features=768, out_features=768, bias=True)\n",
       "  (classifier): Linear(in_features=768, out_features=3, bias=True)\n",
       "  (dropout): Dropout(p=0.2, inplace=False)\n",
       ")"
      ]
     },
     "execution_count": 38,
     "metadata": {},
     "output_type": "execute_result"
    }
   ],
   "source": [
    "model.eval()"
   ]
  },
  {
   "cell_type": "code",
   "execution_count": 39,
   "id": "5c48c5e4",
   "metadata": {
    "execution": {
     "iopub.execute_input": "2022-10-29T19:30:41.204224Z",
     "iopub.status.busy": "2022-10-29T19:30:41.203386Z",
     "iopub.status.idle": "2022-10-29T19:30:42.798201Z",
     "shell.execute_reply": "2022-10-29T19:30:42.797105Z"
    },
    "papermill": {
     "duration": 1.616104,
     "end_time": "2022-10-29T19:30:42.800559",
     "exception": false,
     "start_time": "2022-10-29T19:30:41.184455",
     "status": "completed"
    },
    "tags": []
   },
   "outputs": [
    {
     "name": "stdout",
     "output_type": "stream",
     "text": [
      "Testing started...\n",
      "\n",
      "Test metrics:\n",
      "----------------------\n",
      "Accuracy : 0.7196\n",
      "f1-score micro : 0.8216\n",
      "f1-score macro : 0.8079\n",
      "\n",
      "Testing finished...\n"
     ]
    }
   ],
   "source": [
    "print('Testing started...')\n",
    "print()\n",
    "\n",
    "total_test_accuracy = 0\n",
    "total_test_f1_micro = 0\n",
    "total_test_f1_macro = 0\n",
    "\n",
    "for batch in test_dataloader:\n",
    "    batch_input_ids = batch[0].to(device)\n",
    "    batch_input_mask = batch[1].to(device)\n",
    "    batch_labels = batch[2].float().to(device)\n",
    "\n",
    "    with torch.no_grad():        \n",
    "        outputs = model(batch_input_ids, \n",
    "                        attention_mask=batch_input_mask,\n",
    "                        labels=batch_labels)\n",
    "\n",
    "    logits = outputs.logits\n",
    "    logits = logits.detach().cpu().numpy()\n",
    "    label_ids = batch_labels.to('cpu').numpy()\n",
    "    \n",
    "    total_test_f1_micro += compute_f1_micro(get_probs(logits), label_ids)\n",
    "    total_test_f1_macro += compute_f1_macro(get_probs(logits), label_ids)\n",
    "    total_test_accuracy += flat_accuracy(get_probs(logits), label_ids)\n",
    "    \n",
    "avg_test_accuracy = total_test_accuracy / len(test_dataloader)\n",
    "avg_test_f1_micro = total_test_f1_micro / len(test_dataloader)\n",
    "avg_test_f1_macro = total_test_f1_macro / len(test_dataloader)\n",
    "\n",
    "print('Test metrics:')\n",
    "print('----------------------')\n",
    "print(f'Accuracy : {avg_test_accuracy:.4f}')\n",
    "print(f'f1-score micro : {avg_test_f1_micro:.4f}')\n",
    "print(f'f1-score macro : {avg_test_f1_macro:.4f}')\n",
    "\n",
    "print()\n",
    "print(\"Testing finished...\")"
   ]
  },
  {
   "cell_type": "markdown",
   "id": "7ad1904a",
   "metadata": {
    "_kg_hide-input": true,
    "papermill": {
     "duration": 0.017039,
     "end_time": "2022-10-29T19:30:42.836514",
     "exception": false,
     "start_time": "2022-10-29T19:30:42.819475",
     "status": "completed"
    },
    "tags": []
   },
   "source": [
    "## Saving"
   ]
  },
  {
   "cell_type": "markdown",
   "id": "3ab0ff0f",
   "metadata": {
    "papermill": {
     "duration": 0.017068,
     "end_time": "2022-10-29T19:30:42.870556",
     "exception": false,
     "start_time": "2022-10-29T19:30:42.853488",
     "status": "completed"
    },
    "tags": []
   },
   "source": [
    "If necessary, we can save model and tokenizer"
   ]
  },
  {
   "cell_type": "code",
   "execution_count": 40,
   "id": "2cd7d9a4",
   "metadata": {
    "execution": {
     "iopub.execute_input": "2022-10-29T19:30:42.907917Z",
     "iopub.status.busy": "2022-10-29T19:30:42.907010Z",
     "iopub.status.idle": "2022-10-29T19:30:42.911785Z",
     "shell.execute_reply": "2022-10-29T19:30:42.910911Z"
    },
    "papermill": {
     "duration": 0.024833,
     "end_time": "2022-10-29T19:30:42.913815",
     "exception": false,
     "start_time": "2022-10-29T19:30:42.888982",
     "status": "completed"
    },
    "tags": []
   },
   "outputs": [],
   "source": [
    "is_saving = False"
   ]
  },
  {
   "cell_type": "code",
   "execution_count": 41,
   "id": "89dc80a1",
   "metadata": {
    "execution": {
     "iopub.execute_input": "2022-10-29T19:30:42.949111Z",
     "iopub.status.busy": "2022-10-29T19:30:42.948290Z",
     "iopub.status.idle": "2022-10-29T19:30:42.953855Z",
     "shell.execute_reply": "2022-10-29T19:30:42.953015Z"
    },
    "papermill": {
     "duration": 0.025177,
     "end_time": "2022-10-29T19:30:42.955864",
     "exception": false,
     "start_time": "2022-10-29T19:30:42.930687",
     "status": "completed"
    },
    "tags": []
   },
   "outputs": [],
   "source": [
    "def save_model(path_to_save, is_saving, model):\n",
    "    if not os.path.exists(path_to_save):\n",
    "        os.makedirs(path_to_save)\n",
    "    model_to_save = model.module if hasattr(model, 'module') else model\n",
    "    model_to_save.save_pretrained(path_to_save)\n",
    "    tokenizer.save_pretrained(path_to_save)\n",
    "    print(f'Saved model and tokenizer to {path_to_save}')"
   ]
  },
  {
   "cell_type": "code",
   "execution_count": 42,
   "id": "3eae7cc0",
   "metadata": {
    "execution": {
     "iopub.execute_input": "2022-10-29T19:30:42.992027Z",
     "iopub.status.busy": "2022-10-29T19:30:42.991214Z",
     "iopub.status.idle": "2022-10-29T19:30:43.570328Z",
     "shell.execute_reply": "2022-10-29T19:30:43.567912Z"
    },
    "papermill": {
     "duration": 0.60044,
     "end_time": "2022-10-29T19:30:43.573359",
     "exception": false,
     "start_time": "2022-10-29T19:30:42.972919",
     "status": "completed"
    },
    "tags": []
   },
   "outputs": [
    {
     "name": "stdout",
     "output_type": "stream",
     "text": [
      "Saved model and tokenizer to ./result/\n"
     ]
    }
   ],
   "source": [
    "save_model('./result/', is_saving, model)"
   ]
  },
  {
   "cell_type": "markdown",
   "id": "21b0a585",
   "metadata": {
    "papermill": {
     "duration": 0.018598,
     "end_time": "2022-10-29T19:30:43.611530",
     "exception": false,
     "start_time": "2022-10-29T19:30:43.592932",
     "status": "completed"
    },
    "tags": []
   },
   "source": [
    "## Summary"
   ]
  },
  {
   "cell_type": "markdown",
   "id": "0eee728a",
   "metadata": {
    "papermill": {
     "duration": 0.017804,
     "end_time": "2022-10-29T19:30:43.647178",
     "exception": false,
     "start_time": "2022-10-29T19:30:43.629374",
     "status": "completed"
    },
    "tags": []
   },
   "source": [
    "Additionally to check a generalization ability of our model let's use some samples from [NNGen](https://github.com/Tbabm/nngen/tree/master/data) "
   ]
  },
  {
   "cell_type": "code",
   "execution_count": 43,
   "id": "4ac5cd65",
   "metadata": {
    "execution": {
     "iopub.execute_input": "2022-10-29T19:30:43.685171Z",
     "iopub.status.busy": "2022-10-29T19:30:43.684282Z",
     "iopub.status.idle": "2022-10-29T19:30:43.688958Z",
     "shell.execute_reply": "2022-10-29T19:30:43.688078Z"
    },
    "papermill": {
     "duration": 0.025411,
     "end_time": "2022-10-29T19:30:43.690892",
     "exception": false,
     "start_time": "2022-10-29T19:30:43.665481",
     "status": "completed"
    },
    "tags": []
   },
   "outputs": [],
   "source": [
    "nn_gen_path = '../input/nngen-test/cleaned.test.msg'"
   ]
  },
  {
   "cell_type": "code",
   "execution_count": 44,
   "id": "1a92940a",
   "metadata": {
    "execution": {
     "iopub.execute_input": "2022-10-29T19:30:43.727839Z",
     "iopub.status.busy": "2022-10-29T19:30:43.727491Z",
     "iopub.status.idle": "2022-10-29T19:30:43.740545Z",
     "shell.execute_reply": "2022-10-29T19:30:43.739639Z"
    },
    "papermill": {
     "duration": 0.033834,
     "end_time": "2022-10-29T19:30:43.742577",
     "exception": false,
     "start_time": "2022-10-29T19:30:43.708743",
     "status": "completed"
    },
    "tags": []
   },
   "outputs": [],
   "source": [
    "nn_gen_data = []\n",
    "with open(nn_gen_path) as nn_gen_file:\n",
    "    for line in nn_gen_file:\n",
    "        line = line.strip()\n",
    "        nn_gen_data.append(line)"
   ]
  },
  {
   "cell_type": "code",
   "execution_count": 45,
   "id": "7c7fce9a",
   "metadata": {
    "execution": {
     "iopub.execute_input": "2022-10-29T19:30:43.779835Z",
     "iopub.status.busy": "2022-10-29T19:30:43.779041Z",
     "iopub.status.idle": "2022-10-29T19:30:43.785358Z",
     "shell.execute_reply": "2022-10-29T19:30:43.784493Z"
    },
    "papermill": {
     "duration": 0.026828,
     "end_time": "2022-10-29T19:30:43.787531",
     "exception": false,
     "start_time": "2022-10-29T19:30:43.760703",
     "status": "completed"
    },
    "tags": []
   },
   "outputs": [],
   "source": [
    "np.random.seed(27)\n",
    "n_samples = 30\n",
    "random_nn_gen_data = np.random.choice(nn_gen_data, n_samples, replace=False)"
   ]
  },
  {
   "cell_type": "code",
   "execution_count": 46,
   "id": "170e0fc2",
   "metadata": {
    "execution": {
     "iopub.execute_input": "2022-10-29T19:30:43.824561Z",
     "iopub.status.busy": "2022-10-29T19:30:43.823708Z",
     "iopub.status.idle": "2022-10-29T19:30:43.829672Z",
     "shell.execute_reply": "2022-10-29T19:30:43.828669Z"
    },
    "papermill": {
     "duration": 0.026426,
     "end_time": "2022-10-29T19:30:43.831728",
     "exception": false,
     "start_time": "2022-10-29T19:30:43.805302",
     "status": "completed"
    },
    "tags": []
   },
   "outputs": [],
   "source": [
    "def reverse_to_label(labels):\n",
    "    res = ''\n",
    "    if labels[0]:\n",
    "        res += ' Corrective'\n",
    "    if labels[1]:\n",
    "        res += ' Adaptive'\n",
    "    if labels[2]:\n",
    "        res += ' Perfective'\n",
    "    res = res.strip()\n",
    "    return res"
   ]
  },
  {
   "cell_type": "code",
   "execution_count": 47,
   "id": "258854b9",
   "metadata": {
    "execution": {
     "iopub.execute_input": "2022-10-29T19:30:43.868418Z",
     "iopub.status.busy": "2022-10-29T19:30:43.868149Z",
     "iopub.status.idle": "2022-10-29T19:30:46.113347Z",
     "shell.execute_reply": "2022-10-29T19:30:46.111467Z"
    },
    "papermill": {
     "duration": 2.266378,
     "end_time": "2022-10-29T19:30:46.115597",
     "exception": false,
     "start_time": "2022-10-29T19:30:43.849219",
     "status": "completed"
    },
    "tags": []
   },
   "outputs": [
    {
     "name": "stdout",
     "output_type": "stream",
     "text": [
      "Commit message: \n",
      "Remove automatic left factoring declaration from Java . g4 since the processing is currently very slow\n",
      "Prediction:\n",
      "Perfective\n",
      "--------------------\n",
      "Commit message: \n",
      "Added tools . jar to classpath for buildSrc\n",
      "Prediction:\n",
      "Adaptive\n",
      "--------------------\n",
      "Commit message: \n",
      "remove logall since it doesn ' t trigger anymore\n",
      "Prediction:\n",
      "Perfective\n",
      "--------------------\n",
      "Commit message: \n",
      "move test file into temp folder\n",
      "Prediction:\n",
      "Perfective\n",
      "--------------------\n",
      "Commit message: \n",
      "Updates SRTP transform engine when setting new SDES keys .\n",
      "Prediction:\n",
      "Adaptive\n",
      "--------------------\n",
      "Commit message: \n",
      "bump up druid version to 0 . 4 . 0\n",
      "Prediction:\n",
      "Perfective\n",
      "--------------------\n",
      "Commit message: \n",
      "fixed previous check - in\n",
      "Prediction:\n",
      "Corrective\n",
      "--------------------\n",
      "Commit message: \n",
      "DomModelTreeView disposing fixed\n",
      "Prediction:\n",
      "Corrective\n",
      "--------------------\n",
      "Commit message: \n",
      "Reverted change to logging file ( was not the right logging file ) .\n",
      "Prediction:\n",
      "Perfective\n",
      "--------------------\n",
      "Commit message: \n",
      "restore ui impovement comment\n",
      "Prediction:\n",
      "Perfective\n",
      "--------------------\n",
      "Commit message: \n",
      "eliminate dependency on commons - io\n",
      "Prediction:\n",
      "Perfective\n",
      "--------------------\n",
      "Commit message: \n",
      "Add sample APK\n",
      "Prediction:\n",
      "Adaptive\n",
      "--------------------\n",
      "Commit message: \n",
      "LPS - 58562 Move part 2\n",
      "Prediction:\n",
      "Perfective\n",
      "--------------------\n",
      "Commit message: \n",
      "Removed forkMode = never on Persistit tests\n",
      "Prediction:\n",
      "Corrective Perfective\n",
      "--------------------\n",
      "Commit message: \n",
      "update testng sources to 6 . 8 . 8\n",
      "Prediction:\n",
      "Adaptive\n",
      "--------------------\n",
      "Commit message: \n",
      "Upgraded parent version .\n",
      "Prediction:\n",
      "Adaptive\n",
      "--------------------\n",
      "Commit message: \n",
      "Bump the version number to 2 . 2b2\n",
      "Prediction:\n",
      "Perfective\n",
      "--------------------\n",
      "Commit message: \n",
      "Add Binding . unbind\n",
      "Prediction:\n",
      "Adaptive\n",
      "--------------------\n",
      "Commit message: \n",
      "Added STORM - 414 to Changelog\n",
      "Prediction:\n",
      "Adaptive\n",
      "--------------------\n",
      "Commit message: \n",
      "Fix the build .\n",
      "Prediction:\n",
      "Corrective\n",
      "--------------------\n",
      "Commit message: \n",
      "Removed junit from classpath ( all tests moved to zaproxy - test )\n",
      "Prediction:\n",
      "Perfective\n",
      "--------------------\n",
      "Commit message: \n",
      "prepare for next development iteration\n",
      "Prediction:\n",
      "Perfective\n",
      "--------------------\n",
      "Commit message: \n",
      "Ignore list created\n",
      "Prediction:\n",
      "Perfective\n",
      "--------------------\n",
      "Commit message: \n",
      "Preparing for release 3 . 5 . 0\n",
      "Prediction:\n",
      "\n",
      "--------------------\n",
      "Commit message: \n",
      "Fixed small comments\n",
      "Prediction:\n",
      "Corrective\n",
      "--------------------\n",
      "Commit message: \n",
      "Updated splash screen\n",
      "Prediction:\n",
      "Adaptive\n",
      "--------------------\n",
      "Commit message: \n",
      "LPS - 48807 Remove EOL\n",
      "Prediction:\n",
      "Perfective\n",
      "--------------------\n",
      "Commit message: \n",
      "Fixed typo in mucMember table definition .\n",
      "Prediction:\n",
      "Corrective\n",
      "--------------------\n",
      "Commit message: \n",
      "refresh settingsModified flag on apply ( )\n",
      "Prediction:\n",
      "Perfective\n",
      "--------------------\n",
      "Commit message: \n",
      "ToString usage example had a typo in it ( used ' excludes ' instead of the correct ' exclude ' ) .\n",
      "Prediction:\n",
      "Perfective\n",
      "--------------------\n"
     ]
    }
   ],
   "source": [
    "model.eval()\n",
    "for i in range(n_samples):\n",
    "    print(f'Commit message: \\n{random_nn_gen_data[i]}')\n",
    "    inputs = tokenizer(random_nn_gen_data[i], return_tensors=\"pt\")\n",
    "    model.to('cpu')\n",
    "    with torch.no_grad():\n",
    "        logits = model(**inputs).logits\n",
    "        probs = get_probs(logits).int().numpy()[0]\n",
    "        print('Prediction:')\n",
    "        print(reverse_to_label(probs))\n",
    "        print('--------------------')"
   ]
  },
  {
   "cell_type": "markdown",
   "id": "78d7260d",
   "metadata": {
    "papermill": {
     "duration": 0.018126,
     "end_time": "2022-10-29T19:30:46.153947",
     "exception": false,
     "start_time": "2022-10-29T19:30:46.135821",
     "status": "completed"
    },
    "tags": []
   },
   "source": [
    "As we can see by analyzing predictions on random samples from another yet unseen dataset, our model predictions are sufficient and close to the meaning of commit messages from NNGen. In reality our model predictions fit well the categorization based on Swanson's maintenance activities (from the article) and agree with random messages from NNGen. For example, message `Upgraded parent version .` is considered adaptive, because it's modification to previous version. Or `fixed previous check - in` is labeled corrective, that is close to it's intention. Also `Removed junit from classpath ( all tests moved to zaproxy - test )` is predicted to be perfective, because it's refactoring. Even `ToString usage example had a typo in it ( used ' excludes ' instead of the correct ' exclude ' ) .`  prediction seems to be fine, since it's a fix and changing the names of variable, so it can be considered as corrective and predictive. However, we can see few samples which predictions are hard to explain."
   ]
  },
  {
   "cell_type": "markdown",
   "id": "26a261c5",
   "metadata": {
    "papermill": {
     "duration": 0.018278,
     "end_time": "2022-10-29T19:30:46.190253",
     "exception": false,
     "start_time": "2022-10-29T19:30:46.171975",
     "status": "completed"
    },
    "tags": []
   },
   "source": [
    "In conclusion, we got decent results, however, there are different approaches on how to improve our model: we can try changing hyperparameters (epochs, lr, batch_size), also we can try to use more data as train by neglecting validation when we already found out the parameters, besides we can add weight decay to our optimizer, or use different metrics and other approache."
   ]
  },
  {
   "cell_type": "code",
   "execution_count": null,
   "id": "a2f6349c",
   "metadata": {
    "papermill": {
     "duration": 0.018211,
     "end_time": "2022-10-29T19:30:46.226730",
     "exception": false,
     "start_time": "2022-10-29T19:30:46.208519",
     "status": "completed"
    },
    "tags": []
   },
   "outputs": [],
   "source": []
  }
 ],
 "metadata": {
  "kernelspec": {
   "display_name": "Python 3",
   "language": "python",
   "name": "python3"
  },
  "language_info": {
   "codemirror_mode": {
    "name": "ipython",
    "version": 3
   },
   "file_extension": ".py",
   "mimetype": "text/x-python",
   "name": "python",
   "nbconvert_exporter": "python",
   "pygments_lexer": "ipython3",
   "version": "3.7.12"
  },
  "papermill": {
   "default_parameters": {},
   "duration": 263.917117,
   "end_time": "2022-10-29T19:30:49.493873",
   "environment_variables": {},
   "exception": null,
   "input_path": "__notebook__.ipynb",
   "output_path": "__notebook__.ipynb",
   "parameters": {},
   "start_time": "2022-10-29T19:26:25.576756",
   "version": "2.3.4"
  },
  "widgets": {
   "application/vnd.jupyter.widget-state+json": {
    "state": {
     "0305f9a744354926b7f19c6846c713a7": {
      "model_module": "@jupyter-widgets/controls",
      "model_module_version": "1.5.0",
      "model_name": "DescriptionStyleModel",
      "state": {
       "_model_module": "@jupyter-widgets/controls",
       "_model_module_version": "1.5.0",
       "_model_name": "DescriptionStyleModel",
       "_view_count": null,
       "_view_module": "@jupyter-widgets/base",
       "_view_module_version": "1.2.0",
       "_view_name": "StyleView",
       "description_width": ""
      }
     },
     "08f945fa37b14a1fa8c495a3e03ad6f1": {
      "model_module": "@jupyter-widgets/base",
      "model_module_version": "1.2.0",
      "model_name": "LayoutModel",
      "state": {
       "_model_module": "@jupyter-widgets/base",
       "_model_module_version": "1.2.0",
       "_model_name": "LayoutModel",
       "_view_count": null,
       "_view_module": "@jupyter-widgets/base",
       "_view_module_version": "1.2.0",
       "_view_name": "LayoutView",
       "align_content": null,
       "align_items": null,
       "align_self": null,
       "border": null,
       "bottom": null,
       "display": null,
       "flex": null,
       "flex_flow": null,
       "grid_area": null,
       "grid_auto_columns": null,
       "grid_auto_flow": null,
       "grid_auto_rows": null,
       "grid_column": null,
       "grid_gap": null,
       "grid_row": null,
       "grid_template_areas": null,
       "grid_template_columns": null,
       "grid_template_rows": null,
       "height": null,
       "justify_content": null,
       "justify_items": null,
       "left": null,
       "margin": null,
       "max_height": null,
       "max_width": null,
       "min_height": null,
       "min_width": null,
       "object_fit": null,
       "object_position": null,
       "order": null,
       "overflow": null,
       "overflow_x": null,
       "overflow_y": null,
       "padding": null,
       "right": null,
       "top": null,
       "visibility": null,
       "width": null
      }
     },
     "097f69d25fd84d6c994965b89888495d": {
      "model_module": "@jupyter-widgets/base",
      "model_module_version": "1.2.0",
      "model_name": "LayoutModel",
      "state": {
       "_model_module": "@jupyter-widgets/base",
       "_model_module_version": "1.2.0",
       "_model_name": "LayoutModel",
       "_view_count": null,
       "_view_module": "@jupyter-widgets/base",
       "_view_module_version": "1.2.0",
       "_view_name": "LayoutView",
       "align_content": null,
       "align_items": null,
       "align_self": null,
       "border": null,
       "bottom": null,
       "display": null,
       "flex": null,
       "flex_flow": null,
       "grid_area": null,
       "grid_auto_columns": null,
       "grid_auto_flow": null,
       "grid_auto_rows": null,
       "grid_column": null,
       "grid_gap": null,
       "grid_row": null,
       "grid_template_areas": null,
       "grid_template_columns": null,
       "grid_template_rows": null,
       "height": null,
       "justify_content": null,
       "justify_items": null,
       "left": null,
       "margin": null,
       "max_height": null,
       "max_width": null,
       "min_height": null,
       "min_width": null,
       "object_fit": null,
       "object_position": null,
       "order": null,
       "overflow": null,
       "overflow_x": null,
       "overflow_y": null,
       "padding": null,
       "right": null,
       "top": null,
       "visibility": null,
       "width": null
      }
     },
     "1103d748cff54537b4dadbc5695ccab7": {
      "model_module": "@jupyter-widgets/controls",
      "model_module_version": "1.5.0",
      "model_name": "HTMLModel",
      "state": {
       "_dom_classes": [],
       "_model_module": "@jupyter-widgets/controls",
       "_model_module_version": "1.5.0",
       "_model_name": "HTMLModel",
       "_view_count": null,
       "_view_module": "@jupyter-widgets/controls",
       "_view_module_version": "1.5.0",
       "_view_name": "HTMLView",
       "description": "",
       "description_tooltip": null,
       "layout": "IPY_MODEL_ef490a21a944479a9927986ea4cb6d76",
       "placeholder": "​",
       "style": "IPY_MODEL_14c7514679a74b3f9c096eb3d349e669",
       "value": " 226k/226k [00:00&lt;00:00, 1.72MB/s]"
      }
     },
     "12d74e94e1264c70b2919bffd0f5c4d7": {
      "model_module": "@jupyter-widgets/base",
      "model_module_version": "1.2.0",
      "model_name": "LayoutModel",
      "state": {
       "_model_module": "@jupyter-widgets/base",
       "_model_module_version": "1.2.0",
       "_model_name": "LayoutModel",
       "_view_count": null,
       "_view_module": "@jupyter-widgets/base",
       "_view_module_version": "1.2.0",
       "_view_name": "LayoutView",
       "align_content": null,
       "align_items": null,
       "align_self": null,
       "border": null,
       "bottom": null,
       "display": null,
       "flex": null,
       "flex_flow": null,
       "grid_area": null,
       "grid_auto_columns": null,
       "grid_auto_flow": null,
       "grid_auto_rows": null,
       "grid_column": null,
       "grid_gap": null,
       "grid_row": null,
       "grid_template_areas": null,
       "grid_template_columns": null,
       "grid_template_rows": null,
       "height": null,
       "justify_content": null,
       "justify_items": null,
       "left": null,
       "margin": null,
       "max_height": null,
       "max_width": null,
       "min_height": null,
       "min_width": null,
       "object_fit": null,
       "object_position": null,
       "order": null,
       "overflow": null,
       "overflow_x": null,
       "overflow_y": null,
       "padding": null,
       "right": null,
       "top": null,
       "visibility": null,
       "width": null
      }
     },
     "14c7514679a74b3f9c096eb3d349e669": {
      "model_module": "@jupyter-widgets/controls",
      "model_module_version": "1.5.0",
      "model_name": "DescriptionStyleModel",
      "state": {
       "_model_module": "@jupyter-widgets/controls",
       "_model_module_version": "1.5.0",
       "_model_name": "DescriptionStyleModel",
       "_view_count": null,
       "_view_module": "@jupyter-widgets/base",
       "_view_module_version": "1.2.0",
       "_view_name": "StyleView",
       "description_width": ""
      }
     },
     "28096828cd1640549e98ebb9ba53553a": {
      "model_module": "@jupyter-widgets/base",
      "model_module_version": "1.2.0",
      "model_name": "LayoutModel",
      "state": {
       "_model_module": "@jupyter-widgets/base",
       "_model_module_version": "1.2.0",
       "_model_name": "LayoutModel",
       "_view_count": null,
       "_view_module": "@jupyter-widgets/base",
       "_view_module_version": "1.2.0",
       "_view_name": "LayoutView",
       "align_content": null,
       "align_items": null,
       "align_self": null,
       "border": null,
       "bottom": null,
       "display": null,
       "flex": null,
       "flex_flow": null,
       "grid_area": null,
       "grid_auto_columns": null,
       "grid_auto_flow": null,
       "grid_auto_rows": null,
       "grid_column": null,
       "grid_gap": null,
       "grid_row": null,
       "grid_template_areas": null,
       "grid_template_columns": null,
       "grid_template_rows": null,
       "height": null,
       "justify_content": null,
       "justify_items": null,
       "left": null,
       "margin": null,
       "max_height": null,
       "max_width": null,
       "min_height": null,
       "min_width": null,
       "object_fit": null,
       "object_position": null,
       "order": null,
       "overflow": null,
       "overflow_x": null,
       "overflow_y": null,
       "padding": null,
       "right": null,
       "top": null,
       "visibility": null,
       "width": null
      }
     },
     "2a2cfd939b654d93a7a366e2e67cff5d": {
      "model_module": "@jupyter-widgets/base",
      "model_module_version": "1.2.0",
      "model_name": "LayoutModel",
      "state": {
       "_model_module": "@jupyter-widgets/base",
       "_model_module_version": "1.2.0",
       "_model_name": "LayoutModel",
       "_view_count": null,
       "_view_module": "@jupyter-widgets/base",
       "_view_module_version": "1.2.0",
       "_view_name": "LayoutView",
       "align_content": null,
       "align_items": null,
       "align_self": null,
       "border": null,
       "bottom": null,
       "display": null,
       "flex": null,
       "flex_flow": null,
       "grid_area": null,
       "grid_auto_columns": null,
       "grid_auto_flow": null,
       "grid_auto_rows": null,
       "grid_column": null,
       "grid_gap": null,
       "grid_row": null,
       "grid_template_areas": null,
       "grid_template_columns": null,
       "grid_template_rows": null,
       "height": null,
       "justify_content": null,
       "justify_items": null,
       "left": null,
       "margin": null,
       "max_height": null,
       "max_width": null,
       "min_height": null,
       "min_width": null,
       "object_fit": null,
       "object_position": null,
       "order": null,
       "overflow": null,
       "overflow_x": null,
       "overflow_y": null,
       "padding": null,
       "right": null,
       "top": null,
       "visibility": null,
       "width": null
      }
     },
     "2afa27110c9d4b588b7075fa7b744efd": {
      "model_module": "@jupyter-widgets/controls",
      "model_module_version": "1.5.0",
      "model_name": "DescriptionStyleModel",
      "state": {
       "_model_module": "@jupyter-widgets/controls",
       "_model_module_version": "1.5.0",
       "_model_name": "DescriptionStyleModel",
       "_view_count": null,
       "_view_module": "@jupyter-widgets/base",
       "_view_module_version": "1.2.0",
       "_view_name": "StyleView",
       "description_width": ""
      }
     },
     "32c5ff355d074aca87cd775fd28344d2": {
      "model_module": "@jupyter-widgets/base",
      "model_module_version": "1.2.0",
      "model_name": "LayoutModel",
      "state": {
       "_model_module": "@jupyter-widgets/base",
       "_model_module_version": "1.2.0",
       "_model_name": "LayoutModel",
       "_view_count": null,
       "_view_module": "@jupyter-widgets/base",
       "_view_module_version": "1.2.0",
       "_view_name": "LayoutView",
       "align_content": null,
       "align_items": null,
       "align_self": null,
       "border": null,
       "bottom": null,
       "display": null,
       "flex": null,
       "flex_flow": null,
       "grid_area": null,
       "grid_auto_columns": null,
       "grid_auto_flow": null,
       "grid_auto_rows": null,
       "grid_column": null,
       "grid_gap": null,
       "grid_row": null,
       "grid_template_areas": null,
       "grid_template_columns": null,
       "grid_template_rows": null,
       "height": null,
       "justify_content": null,
       "justify_items": null,
       "left": null,
       "margin": null,
       "max_height": null,
       "max_width": null,
       "min_height": null,
       "min_width": null,
       "object_fit": null,
       "object_position": null,
       "order": null,
       "overflow": null,
       "overflow_x": null,
       "overflow_y": null,
       "padding": null,
       "right": null,
       "top": null,
       "visibility": null,
       "width": null
      }
     },
     "3412004b5b464db3a56122949afb730d": {
      "model_module": "@jupyter-widgets/base",
      "model_module_version": "1.2.0",
      "model_name": "LayoutModel",
      "state": {
       "_model_module": "@jupyter-widgets/base",
       "_model_module_version": "1.2.0",
       "_model_name": "LayoutModel",
       "_view_count": null,
       "_view_module": "@jupyter-widgets/base",
       "_view_module_version": "1.2.0",
       "_view_name": "LayoutView",
       "align_content": null,
       "align_items": null,
       "align_self": null,
       "border": null,
       "bottom": null,
       "display": null,
       "flex": null,
       "flex_flow": null,
       "grid_area": null,
       "grid_auto_columns": null,
       "grid_auto_flow": null,
       "grid_auto_rows": null,
       "grid_column": null,
       "grid_gap": null,
       "grid_row": null,
       "grid_template_areas": null,
       "grid_template_columns": null,
       "grid_template_rows": null,
       "height": null,
       "justify_content": null,
       "justify_items": null,
       "left": null,
       "margin": null,
       "max_height": null,
       "max_width": null,
       "min_height": null,
       "min_width": null,
       "object_fit": null,
       "object_position": null,
       "order": null,
       "overflow": null,
       "overflow_x": null,
       "overflow_y": null,
       "padding": null,
       "right": null,
       "top": null,
       "visibility": null,
       "width": null
      }
     },
     "38bf8d6bf0924fe9bd343bf7aac7b18f": {
      "model_module": "@jupyter-widgets/base",
      "model_module_version": "1.2.0",
      "model_name": "LayoutModel",
      "state": {
       "_model_module": "@jupyter-widgets/base",
       "_model_module_version": "1.2.0",
       "_model_name": "LayoutModel",
       "_view_count": null,
       "_view_module": "@jupyter-widgets/base",
       "_view_module_version": "1.2.0",
       "_view_name": "LayoutView",
       "align_content": null,
       "align_items": null,
       "align_self": null,
       "border": null,
       "bottom": null,
       "display": null,
       "flex": null,
       "flex_flow": null,
       "grid_area": null,
       "grid_auto_columns": null,
       "grid_auto_flow": null,
       "grid_auto_rows": null,
       "grid_column": null,
       "grid_gap": null,
       "grid_row": null,
       "grid_template_areas": null,
       "grid_template_columns": null,
       "grid_template_rows": null,
       "height": null,
       "justify_content": null,
       "justify_items": null,
       "left": null,
       "margin": null,
       "max_height": null,
       "max_width": null,
       "min_height": null,
       "min_width": null,
       "object_fit": null,
       "object_position": null,
       "order": null,
       "overflow": null,
       "overflow_x": null,
       "overflow_y": null,
       "padding": null,
       "right": null,
       "top": null,
       "visibility": null,
       "width": null
      }
     },
     "38c37c48e5f549c4a2db8e2df5e48c09": {
      "model_module": "@jupyter-widgets/controls",
      "model_module_version": "1.5.0",
      "model_name": "HBoxModel",
      "state": {
       "_dom_classes": [],
       "_model_module": "@jupyter-widgets/controls",
       "_model_module_version": "1.5.0",
       "_model_name": "HBoxModel",
       "_view_count": null,
       "_view_module": "@jupyter-widgets/controls",
       "_view_module_version": "1.5.0",
       "_view_name": "HBoxView",
       "box_style": "",
       "children": [
        "IPY_MODEL_a0ef5284684f4d8b8138cd04f5e8f8ce",
        "IPY_MODEL_c10026335ea04ebb9530c0917de3c5bf",
        "IPY_MODEL_1103d748cff54537b4dadbc5695ccab7"
       ],
       "layout": "IPY_MODEL_4f178b7810c141d59587aa7b2b888074"
      }
     },
     "3bf8223d9d9d4b03a64da27e33263ed5": {
      "model_module": "@jupyter-widgets/controls",
      "model_module_version": "1.5.0",
      "model_name": "HTMLModel",
      "state": {
       "_dom_classes": [],
       "_model_module": "@jupyter-widgets/controls",
       "_model_module_version": "1.5.0",
       "_model_name": "HTMLModel",
       "_view_count": null,
       "_view_module": "@jupyter-widgets/controls",
       "_view_module_version": "1.5.0",
       "_view_name": "HTMLView",
       "description": "",
       "description_tooltip": null,
       "layout": "IPY_MODEL_08f945fa37b14a1fa8c495a3e03ad6f1",
       "placeholder": "​",
       "style": "IPY_MODEL_4ad0227e466444c7930fa2635b2d65bf",
       "value": " 256M/256M [00:12&lt;00:00, 15.0MB/s]"
      }
     },
     "4ad0227e466444c7930fa2635b2d65bf": {
      "model_module": "@jupyter-widgets/controls",
      "model_module_version": "1.5.0",
      "model_name": "DescriptionStyleModel",
      "state": {
       "_model_module": "@jupyter-widgets/controls",
       "_model_module_version": "1.5.0",
       "_model_name": "DescriptionStyleModel",
       "_view_count": null,
       "_view_module": "@jupyter-widgets/base",
       "_view_module_version": "1.2.0",
       "_view_name": "StyleView",
       "description_width": ""
      }
     },
     "4f178b7810c141d59587aa7b2b888074": {
      "model_module": "@jupyter-widgets/base",
      "model_module_version": "1.2.0",
      "model_name": "LayoutModel",
      "state": {
       "_model_module": "@jupyter-widgets/base",
       "_model_module_version": "1.2.0",
       "_model_name": "LayoutModel",
       "_view_count": null,
       "_view_module": "@jupyter-widgets/base",
       "_view_module_version": "1.2.0",
       "_view_name": "LayoutView",
       "align_content": null,
       "align_items": null,
       "align_self": null,
       "border": null,
       "bottom": null,
       "display": null,
       "flex": null,
       "flex_flow": null,
       "grid_area": null,
       "grid_auto_columns": null,
       "grid_auto_flow": null,
       "grid_auto_rows": null,
       "grid_column": null,
       "grid_gap": null,
       "grid_row": null,
       "grid_template_areas": null,
       "grid_template_columns": null,
       "grid_template_rows": null,
       "height": null,
       "justify_content": null,
       "justify_items": null,
       "left": null,
       "margin": null,
       "max_height": null,
       "max_width": null,
       "min_height": null,
       "min_width": null,
       "object_fit": null,
       "object_position": null,
       "order": null,
       "overflow": null,
       "overflow_x": null,
       "overflow_y": null,
       "padding": null,
       "right": null,
       "top": null,
       "visibility": null,
       "width": null
      }
     },
     "5fd8152185944bde9a55520f3b11295b": {
      "model_module": "@jupyter-widgets/controls",
      "model_module_version": "1.5.0",
      "model_name": "HTMLModel",
      "state": {
       "_dom_classes": [],
       "_model_module": "@jupyter-widgets/controls",
       "_model_module_version": "1.5.0",
       "_model_name": "HTMLModel",
       "_view_count": null,
       "_view_module": "@jupyter-widgets/controls",
       "_view_module_version": "1.5.0",
       "_view_name": "HTMLView",
       "description": "",
       "description_tooltip": null,
       "layout": "IPY_MODEL_2a2cfd939b654d93a7a366e2e67cff5d",
       "placeholder": "​",
       "style": "IPY_MODEL_d0458ae31e684d48a992bdd267786cd4",
       "value": " 28.0/28.0 [00:00&lt;00:00, 1.05kB/s]"
      }
     },
     "608d7857dcf04c6390fcf08c88faeb1f": {
      "model_module": "@jupyter-widgets/controls",
      "model_module_version": "1.5.0",
      "model_name": "ProgressStyleModel",
      "state": {
       "_model_module": "@jupyter-widgets/controls",
       "_model_module_version": "1.5.0",
       "_model_name": "ProgressStyleModel",
       "_view_count": null,
       "_view_module": "@jupyter-widgets/base",
       "_view_module_version": "1.2.0",
       "_view_name": "StyleView",
       "bar_color": null,
       "description_width": ""
      }
     },
     "60a4f08720a24f4ba96ae5c6b9575cff": {
      "model_module": "@jupyter-widgets/controls",
      "model_module_version": "1.5.0",
      "model_name": "HBoxModel",
      "state": {
       "_dom_classes": [],
       "_model_module": "@jupyter-widgets/controls",
       "_model_module_version": "1.5.0",
       "_model_name": "HBoxModel",
       "_view_count": null,
       "_view_module": "@jupyter-widgets/controls",
       "_view_module_version": "1.5.0",
       "_view_name": "HBoxView",
       "box_style": "",
       "children": [
        "IPY_MODEL_c2159d912f6e421daa8b1bf327db7dc6",
        "IPY_MODEL_d10b7d55181342b280c15ebce916401c",
        "IPY_MODEL_e1ea5c8408554387a99ff7943ee5976c"
       ],
       "layout": "IPY_MODEL_32c5ff355d074aca87cd775fd28344d2"
      }
     },
     "63c726147c8543d28575633e00b8ce37": {
      "model_module": "@jupyter-widgets/controls",
      "model_module_version": "1.5.0",
      "model_name": "ProgressStyleModel",
      "state": {
       "_model_module": "@jupyter-widgets/controls",
       "_model_module_version": "1.5.0",
       "_model_name": "ProgressStyleModel",
       "_view_count": null,
       "_view_module": "@jupyter-widgets/base",
       "_view_module_version": "1.2.0",
       "_view_name": "StyleView",
       "bar_color": null,
       "description_width": ""
      }
     },
     "66421073d0a64dc792e44eb824548dcf": {
      "model_module": "@jupyter-widgets/controls",
      "model_module_version": "1.5.0",
      "model_name": "DescriptionStyleModel",
      "state": {
       "_model_module": "@jupyter-widgets/controls",
       "_model_module_version": "1.5.0",
       "_model_name": "DescriptionStyleModel",
       "_view_count": null,
       "_view_module": "@jupyter-widgets/base",
       "_view_module_version": "1.2.0",
       "_view_name": "StyleView",
       "description_width": ""
      }
     },
     "666b31ca6e3545bc89a37687e8c51c29": {
      "model_module": "@jupyter-widgets/controls",
      "model_module_version": "1.5.0",
      "model_name": "DescriptionStyleModel",
      "state": {
       "_model_module": "@jupyter-widgets/controls",
       "_model_module_version": "1.5.0",
       "_model_name": "DescriptionStyleModel",
       "_view_count": null,
       "_view_module": "@jupyter-widgets/base",
       "_view_module_version": "1.2.0",
       "_view_name": "StyleView",
       "description_width": ""
      }
     },
     "75d72cc944c747fcb17829f8c65db078": {
      "model_module": "@jupyter-widgets/base",
      "model_module_version": "1.2.0",
      "model_name": "LayoutModel",
      "state": {
       "_model_module": "@jupyter-widgets/base",
       "_model_module_version": "1.2.0",
       "_model_name": "LayoutModel",
       "_view_count": null,
       "_view_module": "@jupyter-widgets/base",
       "_view_module_version": "1.2.0",
       "_view_name": "LayoutView",
       "align_content": null,
       "align_items": null,
       "align_self": null,
       "border": null,
       "bottom": null,
       "display": null,
       "flex": null,
       "flex_flow": null,
       "grid_area": null,
       "grid_auto_columns": null,
       "grid_auto_flow": null,
       "grid_auto_rows": null,
       "grid_column": null,
       "grid_gap": null,
       "grid_row": null,
       "grid_template_areas": null,
       "grid_template_columns": null,
       "grid_template_rows": null,
       "height": null,
       "justify_content": null,
       "justify_items": null,
       "left": null,
       "margin": null,
       "max_height": null,
       "max_width": null,
       "min_height": null,
       "min_width": null,
       "object_fit": null,
       "object_position": null,
       "order": null,
       "overflow": null,
       "overflow_x": null,
       "overflow_y": null,
       "padding": null,
       "right": null,
       "top": null,
       "visibility": null,
       "width": null
      }
     },
     "7aae846975f84d9081a2ad5668e1d167": {
      "model_module": "@jupyter-widgets/base",
      "model_module_version": "1.2.0",
      "model_name": "LayoutModel",
      "state": {
       "_model_module": "@jupyter-widgets/base",
       "_model_module_version": "1.2.0",
       "_model_name": "LayoutModel",
       "_view_count": null,
       "_view_module": "@jupyter-widgets/base",
       "_view_module_version": "1.2.0",
       "_view_name": "LayoutView",
       "align_content": null,
       "align_items": null,
       "align_self": null,
       "border": null,
       "bottom": null,
       "display": null,
       "flex": null,
       "flex_flow": null,
       "grid_area": null,
       "grid_auto_columns": null,
       "grid_auto_flow": null,
       "grid_auto_rows": null,
       "grid_column": null,
       "grid_gap": null,
       "grid_row": null,
       "grid_template_areas": null,
       "grid_template_columns": null,
       "grid_template_rows": null,
       "height": null,
       "justify_content": null,
       "justify_items": null,
       "left": null,
       "margin": null,
       "max_height": null,
       "max_width": null,
       "min_height": null,
       "min_width": null,
       "object_fit": null,
       "object_position": null,
       "order": null,
       "overflow": null,
       "overflow_x": null,
       "overflow_y": null,
       "padding": null,
       "right": null,
       "top": null,
       "visibility": null,
       "width": null
      }
     },
     "89ab6f8101d64b549ba0ade41908a7bf": {
      "model_module": "@jupyter-widgets/controls",
      "model_module_version": "1.5.0",
      "model_name": "FloatProgressModel",
      "state": {
       "_dom_classes": [],
       "_model_module": "@jupyter-widgets/controls",
       "_model_module_version": "1.5.0",
       "_model_name": "FloatProgressModel",
       "_view_count": null,
       "_view_module": "@jupyter-widgets/controls",
       "_view_module_version": "1.5.0",
       "_view_name": "ProgressView",
       "bar_style": "success",
       "description": "",
       "description_tooltip": null,
       "layout": "IPY_MODEL_12d74e94e1264c70b2919bffd0f5c4d7",
       "max": 267967963.0,
       "min": 0.0,
       "orientation": "horizontal",
       "style": "IPY_MODEL_63c726147c8543d28575633e00b8ce37",
       "value": 267967963.0
      }
     },
     "91c993c8aca64e8ebc948160c741c575": {
      "model_module": "@jupyter-widgets/controls",
      "model_module_version": "1.5.0",
      "model_name": "HTMLModel",
      "state": {
       "_dom_classes": [],
       "_model_module": "@jupyter-widgets/controls",
       "_model_module_version": "1.5.0",
       "_model_name": "HTMLModel",
       "_view_count": null,
       "_view_module": "@jupyter-widgets/controls",
       "_view_module_version": "1.5.0",
       "_view_name": "HTMLView",
       "description": "",
       "description_tooltip": null,
       "layout": "IPY_MODEL_9a1e36cda69841fab7f8646927e692de",
       "placeholder": "​",
       "style": "IPY_MODEL_66421073d0a64dc792e44eb824548dcf",
       "value": "Downloading: 100%"
      }
     },
     "9818032343ad45939d1c842f635e3f48": {
      "model_module": "@jupyter-widgets/controls",
      "model_module_version": "1.5.0",
      "model_name": "HTMLModel",
      "state": {
       "_dom_classes": [],
       "_model_module": "@jupyter-widgets/controls",
       "_model_module_version": "1.5.0",
       "_model_name": "HTMLModel",
       "_view_count": null,
       "_view_module": "@jupyter-widgets/controls",
       "_view_module_version": "1.5.0",
       "_view_name": "HTMLView",
       "description": "",
       "description_tooltip": null,
       "layout": "IPY_MODEL_aaa84a18ec394e3fac06f245b6cbb592",
       "placeholder": "​",
       "style": "IPY_MODEL_666b31ca6e3545bc89a37687e8c51c29",
       "value": "Downloading: 100%"
      }
     },
     "9a1e36cda69841fab7f8646927e692de": {
      "model_module": "@jupyter-widgets/base",
      "model_module_version": "1.2.0",
      "model_name": "LayoutModel",
      "state": {
       "_model_module": "@jupyter-widgets/base",
       "_model_module_version": "1.2.0",
       "_model_name": "LayoutModel",
       "_view_count": null,
       "_view_module": "@jupyter-widgets/base",
       "_view_module_version": "1.2.0",
       "_view_name": "LayoutView",
       "align_content": null,
       "align_items": null,
       "align_self": null,
       "border": null,
       "bottom": null,
       "display": null,
       "flex": null,
       "flex_flow": null,
       "grid_area": null,
       "grid_auto_columns": null,
       "grid_auto_flow": null,
       "grid_auto_rows": null,
       "grid_column": null,
       "grid_gap": null,
       "grid_row": null,
       "grid_template_areas": null,
       "grid_template_columns": null,
       "grid_template_rows": null,
       "height": null,
       "justify_content": null,
       "justify_items": null,
       "left": null,
       "margin": null,
       "max_height": null,
       "max_width": null,
       "min_height": null,
       "min_width": null,
       "object_fit": null,
       "object_position": null,
       "order": null,
       "overflow": null,
       "overflow_x": null,
       "overflow_y": null,
       "padding": null,
       "right": null,
       "top": null,
       "visibility": null,
       "width": null
      }
     },
     "a0ef5284684f4d8b8138cd04f5e8f8ce": {
      "model_module": "@jupyter-widgets/controls",
      "model_module_version": "1.5.0",
      "model_name": "HTMLModel",
      "state": {
       "_dom_classes": [],
       "_model_module": "@jupyter-widgets/controls",
       "_model_module_version": "1.5.0",
       "_model_name": "HTMLModel",
       "_view_count": null,
       "_view_module": "@jupyter-widgets/controls",
       "_view_module_version": "1.5.0",
       "_view_name": "HTMLView",
       "description": "",
       "description_tooltip": null,
       "layout": "IPY_MODEL_f37d299ef0fa4976b722258514db77a5",
       "placeholder": "​",
       "style": "IPY_MODEL_cb91830e36fd4bfbbc8fead665fee4fd",
       "value": "Downloading: 100%"
      }
     },
     "a400d10b36cf441db2d1a3b4cb9e54ee": {
      "model_module": "@jupyter-widgets/controls",
      "model_module_version": "1.5.0",
      "model_name": "ProgressStyleModel",
      "state": {
       "_model_module": "@jupyter-widgets/controls",
       "_model_module_version": "1.5.0",
       "_model_name": "ProgressStyleModel",
       "_view_count": null,
       "_view_module": "@jupyter-widgets/base",
       "_view_module_version": "1.2.0",
       "_view_name": "StyleView",
       "bar_color": null,
       "description_width": ""
      }
     },
     "aaa84a18ec394e3fac06f245b6cbb592": {
      "model_module": "@jupyter-widgets/base",
      "model_module_version": "1.2.0",
      "model_name": "LayoutModel",
      "state": {
       "_model_module": "@jupyter-widgets/base",
       "_model_module_version": "1.2.0",
       "_model_name": "LayoutModel",
       "_view_count": null,
       "_view_module": "@jupyter-widgets/base",
       "_view_module_version": "1.2.0",
       "_view_name": "LayoutView",
       "align_content": null,
       "align_items": null,
       "align_self": null,
       "border": null,
       "bottom": null,
       "display": null,
       "flex": null,
       "flex_flow": null,
       "grid_area": null,
       "grid_auto_columns": null,
       "grid_auto_flow": null,
       "grid_auto_rows": null,
       "grid_column": null,
       "grid_gap": null,
       "grid_row": null,
       "grid_template_areas": null,
       "grid_template_columns": null,
       "grid_template_rows": null,
       "height": null,
       "justify_content": null,
       "justify_items": null,
       "left": null,
       "margin": null,
       "max_height": null,
       "max_width": null,
       "min_height": null,
       "min_width": null,
       "object_fit": null,
       "object_position": null,
       "order": null,
       "overflow": null,
       "overflow_x": null,
       "overflow_y": null,
       "padding": null,
       "right": null,
       "top": null,
       "visibility": null,
       "width": null
      }
     },
     "be98b08dc48e485ea43050cf29499e39": {
      "model_module": "@jupyter-widgets/controls",
      "model_module_version": "1.5.0",
      "model_name": "HBoxModel",
      "state": {
       "_dom_classes": [],
       "_model_module": "@jupyter-widgets/controls",
       "_model_module_version": "1.5.0",
       "_model_name": "HBoxModel",
       "_view_count": null,
       "_view_module": "@jupyter-widgets/controls",
       "_view_module_version": "1.5.0",
       "_view_name": "HBoxView",
       "box_style": "",
       "children": [
        "IPY_MODEL_9818032343ad45939d1c842f635e3f48",
        "IPY_MODEL_89ab6f8101d64b549ba0ade41908a7bf",
        "IPY_MODEL_3bf8223d9d9d4b03a64da27e33263ed5"
       ],
       "layout": "IPY_MODEL_3412004b5b464db3a56122949afb730d"
      }
     },
     "c10026335ea04ebb9530c0917de3c5bf": {
      "model_module": "@jupyter-widgets/controls",
      "model_module_version": "1.5.0",
      "model_name": "FloatProgressModel",
      "state": {
       "_dom_classes": [],
       "_model_module": "@jupyter-widgets/controls",
       "_model_module_version": "1.5.0",
       "_model_name": "FloatProgressModel",
       "_view_count": null,
       "_view_module": "@jupyter-widgets/controls",
       "_view_module_version": "1.5.0",
       "_view_name": "ProgressView",
       "bar_style": "success",
       "description": "",
       "description_tooltip": null,
       "layout": "IPY_MODEL_75d72cc944c747fcb17829f8c65db078",
       "max": 231508.0,
       "min": 0.0,
       "orientation": "horizontal",
       "style": "IPY_MODEL_a400d10b36cf441db2d1a3b4cb9e54ee",
       "value": 231508.0
      }
     },
     "c2159d912f6e421daa8b1bf327db7dc6": {
      "model_module": "@jupyter-widgets/controls",
      "model_module_version": "1.5.0",
      "model_name": "HTMLModel",
      "state": {
       "_dom_classes": [],
       "_model_module": "@jupyter-widgets/controls",
       "_model_module_version": "1.5.0",
       "_model_name": "HTMLModel",
       "_view_count": null,
       "_view_module": "@jupyter-widgets/controls",
       "_view_module_version": "1.5.0",
       "_view_name": "HTMLView",
       "description": "",
       "description_tooltip": null,
       "layout": "IPY_MODEL_7aae846975f84d9081a2ad5668e1d167",
       "placeholder": "​",
       "style": "IPY_MODEL_2afa27110c9d4b588b7075fa7b744efd",
       "value": "Downloading: 100%"
      }
     },
     "c55b00ca4ecc4b1e8c9e898ed8b25cfe": {
      "model_module": "@jupyter-widgets/controls",
      "model_module_version": "1.5.0",
      "model_name": "HBoxModel",
      "state": {
       "_dom_classes": [],
       "_model_module": "@jupyter-widgets/controls",
       "_model_module_version": "1.5.0",
       "_model_name": "HBoxModel",
       "_view_count": null,
       "_view_module": "@jupyter-widgets/controls",
       "_view_module_version": "1.5.0",
       "_view_name": "HBoxView",
       "box_style": "",
       "children": [
        "IPY_MODEL_91c993c8aca64e8ebc948160c741c575",
        "IPY_MODEL_d07431f9acb24fbba22e63f8bf3199d9",
        "IPY_MODEL_5fd8152185944bde9a55520f3b11295b"
       ],
       "layout": "IPY_MODEL_28096828cd1640549e98ebb9ba53553a"
      }
     },
     "c866efb5a2b14d908b99516171320edb": {
      "model_module": "@jupyter-widgets/base",
      "model_module_version": "1.2.0",
      "model_name": "LayoutModel",
      "state": {
       "_model_module": "@jupyter-widgets/base",
       "_model_module_version": "1.2.0",
       "_model_name": "LayoutModel",
       "_view_count": null,
       "_view_module": "@jupyter-widgets/base",
       "_view_module_version": "1.2.0",
       "_view_name": "LayoutView",
       "align_content": null,
       "align_items": null,
       "align_self": null,
       "border": null,
       "bottom": null,
       "display": null,
       "flex": null,
       "flex_flow": null,
       "grid_area": null,
       "grid_auto_columns": null,
       "grid_auto_flow": null,
       "grid_auto_rows": null,
       "grid_column": null,
       "grid_gap": null,
       "grid_row": null,
       "grid_template_areas": null,
       "grid_template_columns": null,
       "grid_template_rows": null,
       "height": null,
       "justify_content": null,
       "justify_items": null,
       "left": null,
       "margin": null,
       "max_height": null,
       "max_width": null,
       "min_height": null,
       "min_width": null,
       "object_fit": null,
       "object_position": null,
       "order": null,
       "overflow": null,
       "overflow_x": null,
       "overflow_y": null,
       "padding": null,
       "right": null,
       "top": null,
       "visibility": null,
       "width": null
      }
     },
     "cb91830e36fd4bfbbc8fead665fee4fd": {
      "model_module": "@jupyter-widgets/controls",
      "model_module_version": "1.5.0",
      "model_name": "DescriptionStyleModel",
      "state": {
       "_model_module": "@jupyter-widgets/controls",
       "_model_module_version": "1.5.0",
       "_model_name": "DescriptionStyleModel",
       "_view_count": null,
       "_view_module": "@jupyter-widgets/base",
       "_view_module_version": "1.2.0",
       "_view_name": "StyleView",
       "description_width": ""
      }
     },
     "d0458ae31e684d48a992bdd267786cd4": {
      "model_module": "@jupyter-widgets/controls",
      "model_module_version": "1.5.0",
      "model_name": "DescriptionStyleModel",
      "state": {
       "_model_module": "@jupyter-widgets/controls",
       "_model_module_version": "1.5.0",
       "_model_name": "DescriptionStyleModel",
       "_view_count": null,
       "_view_module": "@jupyter-widgets/base",
       "_view_module_version": "1.2.0",
       "_view_name": "StyleView",
       "description_width": ""
      }
     },
     "d07431f9acb24fbba22e63f8bf3199d9": {
      "model_module": "@jupyter-widgets/controls",
      "model_module_version": "1.5.0",
      "model_name": "FloatProgressModel",
      "state": {
       "_dom_classes": [],
       "_model_module": "@jupyter-widgets/controls",
       "_model_module_version": "1.5.0",
       "_model_name": "FloatProgressModel",
       "_view_count": null,
       "_view_module": "@jupyter-widgets/controls",
       "_view_module_version": "1.5.0",
       "_view_name": "ProgressView",
       "bar_style": "success",
       "description": "",
       "description_tooltip": null,
       "layout": "IPY_MODEL_097f69d25fd84d6c994965b89888495d",
       "max": 28.0,
       "min": 0.0,
       "orientation": "horizontal",
       "style": "IPY_MODEL_608d7857dcf04c6390fcf08c88faeb1f",
       "value": 28.0
      }
     },
     "d10b7d55181342b280c15ebce916401c": {
      "model_module": "@jupyter-widgets/controls",
      "model_module_version": "1.5.0",
      "model_name": "FloatProgressModel",
      "state": {
       "_dom_classes": [],
       "_model_module": "@jupyter-widgets/controls",
       "_model_module_version": "1.5.0",
       "_model_name": "FloatProgressModel",
       "_view_count": null,
       "_view_module": "@jupyter-widgets/controls",
       "_view_module_version": "1.5.0",
       "_view_name": "ProgressView",
       "bar_style": "success",
       "description": "",
       "description_tooltip": null,
       "layout": "IPY_MODEL_38bf8d6bf0924fe9bd343bf7aac7b18f",
       "max": 483.0,
       "min": 0.0,
       "orientation": "horizontal",
       "style": "IPY_MODEL_e913b53e554b4580a5bf04273682ae43",
       "value": 483.0
      }
     },
     "e1ea5c8408554387a99ff7943ee5976c": {
      "model_module": "@jupyter-widgets/controls",
      "model_module_version": "1.5.0",
      "model_name": "HTMLModel",
      "state": {
       "_dom_classes": [],
       "_model_module": "@jupyter-widgets/controls",
       "_model_module_version": "1.5.0",
       "_model_name": "HTMLModel",
       "_view_count": null,
       "_view_module": "@jupyter-widgets/controls",
       "_view_module_version": "1.5.0",
       "_view_name": "HTMLView",
       "description": "",
       "description_tooltip": null,
       "layout": "IPY_MODEL_c866efb5a2b14d908b99516171320edb",
       "placeholder": "​",
       "style": "IPY_MODEL_0305f9a744354926b7f19c6846c713a7",
       "value": " 483/483 [00:00&lt;00:00, 17.7kB/s]"
      }
     },
     "e913b53e554b4580a5bf04273682ae43": {
      "model_module": "@jupyter-widgets/controls",
      "model_module_version": "1.5.0",
      "model_name": "ProgressStyleModel",
      "state": {
       "_model_module": "@jupyter-widgets/controls",
       "_model_module_version": "1.5.0",
       "_model_name": "ProgressStyleModel",
       "_view_count": null,
       "_view_module": "@jupyter-widgets/base",
       "_view_module_version": "1.2.0",
       "_view_name": "StyleView",
       "bar_color": null,
       "description_width": ""
      }
     },
     "ef490a21a944479a9927986ea4cb6d76": {
      "model_module": "@jupyter-widgets/base",
      "model_module_version": "1.2.0",
      "model_name": "LayoutModel",
      "state": {
       "_model_module": "@jupyter-widgets/base",
       "_model_module_version": "1.2.0",
       "_model_name": "LayoutModel",
       "_view_count": null,
       "_view_module": "@jupyter-widgets/base",
       "_view_module_version": "1.2.0",
       "_view_name": "LayoutView",
       "align_content": null,
       "align_items": null,
       "align_self": null,
       "border": null,
       "bottom": null,
       "display": null,
       "flex": null,
       "flex_flow": null,
       "grid_area": null,
       "grid_auto_columns": null,
       "grid_auto_flow": null,
       "grid_auto_rows": null,
       "grid_column": null,
       "grid_gap": null,
       "grid_row": null,
       "grid_template_areas": null,
       "grid_template_columns": null,
       "grid_template_rows": null,
       "height": null,
       "justify_content": null,
       "justify_items": null,
       "left": null,
       "margin": null,
       "max_height": null,
       "max_width": null,
       "min_height": null,
       "min_width": null,
       "object_fit": null,
       "object_position": null,
       "order": null,
       "overflow": null,
       "overflow_x": null,
       "overflow_y": null,
       "padding": null,
       "right": null,
       "top": null,
       "visibility": null,
       "width": null
      }
     },
     "f37d299ef0fa4976b722258514db77a5": {
      "model_module": "@jupyter-widgets/base",
      "model_module_version": "1.2.0",
      "model_name": "LayoutModel",
      "state": {
       "_model_module": "@jupyter-widgets/base",
       "_model_module_version": "1.2.0",
       "_model_name": "LayoutModel",
       "_view_count": null,
       "_view_module": "@jupyter-widgets/base",
       "_view_module_version": "1.2.0",
       "_view_name": "LayoutView",
       "align_content": null,
       "align_items": null,
       "align_self": null,
       "border": null,
       "bottom": null,
       "display": null,
       "flex": null,
       "flex_flow": null,
       "grid_area": null,
       "grid_auto_columns": null,
       "grid_auto_flow": null,
       "grid_auto_rows": null,
       "grid_column": null,
       "grid_gap": null,
       "grid_row": null,
       "grid_template_areas": null,
       "grid_template_columns": null,
       "grid_template_rows": null,
       "height": null,
       "justify_content": null,
       "justify_items": null,
       "left": null,
       "margin": null,
       "max_height": null,
       "max_width": null,
       "min_height": null,
       "min_width": null,
       "object_fit": null,
       "object_position": null,
       "order": null,
       "overflow": null,
       "overflow_x": null,
       "overflow_y": null,
       "padding": null,
       "right": null,
       "top": null,
       "visibility": null,
       "width": null
      }
     }
    },
    "version_major": 2,
    "version_minor": 0
   }
  }
 },
 "nbformat": 4,
 "nbformat_minor": 5
}
